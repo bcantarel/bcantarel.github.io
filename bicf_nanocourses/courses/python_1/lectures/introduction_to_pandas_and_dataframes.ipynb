{
 "cells": [
  {
   "cell_type": "markdown",
   "metadata": {
    "slideshow": {
     "slide_type": "slide"
    }
   },
   "source": [
    "# Intoduction to Pandas and Dataframes\n",
    "\n",
    "<hr>\n",
    "\n",
    "**Venkat Malladi** (Computational Biologist BICF)\n",
    "\n",
    "![python_xkcd.png](img/python_xkcd.png)\n",
    "\n",
    "\n",
    "\n",
    "\n",
    "\n",
    "\n",
    "\n",
    "\n"
   ]
  },
  {
   "cell_type": "markdown",
   "metadata": {
    "slideshow": {
     "slide_type": "slide"
    }
   },
   "source": [
    "## Agenda\n",
    "\n",
    "<hr>\n",
    "\n",
    "1. **Introduction to Pandas**\n",
    "2. DataSeries\n",
    "    - Exercise 1\n",
    "    - Exercise 2\n",
    "3. Dataframe \n",
    "    - Exercise 3\n",
    "    - Exercise 4\n",
    "    - Exercise 5\n",
    "4. Import and Store Data\n",
    "5. Summarizing and Computing Descriptive Statistics\n",
    "    - Exercise 6\n",
    "    - Exercise 7\n",
    "6. Grouped and apply\n",
    "    - Exercise 8\n",
    "    - Exercise 9\n",
    "7. Data Transformation and Normalization\n",
    "    - Exercise 10\n",
    "    - Exercise 11\n",
    "    - Exercise 12\n",
    "  "
   ]
  },
  {
   "cell_type": "markdown",
   "metadata": {
    "slideshow": {
     "slide_type": "subslide"
    }
   },
   "source": [
    "### 1.1 What is Pandas?\n",
    "\n",
    "<hr>\n",
    "\n",
    "![pandas_logo.png](img/pandas_logo.png)\n",
    "\n",
    "### Description\n",
    "\n",
    "- Python library providing high-performance, easy-to-use structures and data analysis tools.\n",
    "- Suitable for tabular data with heterogeneously-typed colums, as in an SQL table or Excel spreadsheet\n",
    "- Provides data analysis feautures similar to: R, MATLAB, SAS\n",
    "- Based on [NumPy](http://www.numpy.org/)\n"
   ]
  },
  {
   "cell_type": "markdown",
   "metadata": {
    "slideshow": {
     "slide_type": "subslide"
    }
   },
   "source": [
    "### 1.2 Key Features\n",
    "\n",
    "<hr>\n",
    "\n",
    "The library is oriented towards table-like data structures that can be manipulated by a collection of methods:\n",
    "\n",
    "- Easy handling of **missing data**\n",
    "- Label-based **slicing, indexing and subsetting** of large data sets\n",
    "- Powerful and flexible **group by functionality** to perform split-apply-combine operations on data sets\n",
    "- **Read/Write** data from/to Excel, CSV, SQL databases, JSON"
   ]
  },
  {
   "cell_type": "markdown",
   "metadata": {
    "slideshow": {
     "slide_type": "subslide"
    }
   },
   "source": [
    "### 1.3 Import Pandas\n",
    "\n",
    "<hr>\n",
    "\n",
    "Before we explore the pandas package, let's import pandas. \n",
    "\n",
    "The convention is to use **pd** to refere to pandas when importing the package.\n"
   ]
  },
  {
   "cell_type": "code",
   "execution_count": null,
   "metadata": {
    "collapsed": true,
    "slideshow": {
     "slide_type": "fragment"
    }
   },
   "outputs": [],
   "source": [
    "# Import Pandas and Numpy\n",
    "\n",
    "import pandas as pd\n",
    "import numpy as np"
   ]
  },
  {
   "cell_type": "markdown",
   "metadata": {
    "slideshow": {
     "slide_type": "subslide"
    }
   },
   "source": [
    "### 1.4 Data Structures\n",
    "\n",
    "- Series\n",
    "- Dataframe"
   ]
  },
  {
   "cell_type": "markdown",
   "metadata": {
    "slideshow": {
     "slide_type": "slide"
    }
   },
   "source": [
    "## Agenda\n",
    "\n",
    "<hr>\n",
    "\n",
    "1. Introduction to Pandas\n",
    "2. **Series**\n",
    "    - Exercise 1\n",
    "    - Exercise 2\n",
    "3. Dataframe \n",
    "    - Exercise 3\n",
    "    - Exercise 4\n",
    "    - Exercise 5\n",
    "4. Import and Store Data\n",
    "5. Summarizing and Computing Descriptive Statistics\n",
    "    - Exercise 6\n",
    "    - Exercise 7\n",
    "6. Grouped and apply\n",
    "    - Exercise 8\n",
    "    - Exercise 9\n",
    "7. Data Transformation and Normalization\n",
    "    - Exercise 10\n",
    "    - Exercise 11\n",
    "    - Exercise 12"
   ]
  },
  {
   "cell_type": "markdown",
   "metadata": {
    "slideshow": {
     "slide_type": "subslide"
    }
   },
   "source": [
    "### 2.1 Series \n",
    "\n",
    "<hr>\n",
    "\n",
    "- One dimensional array-like object\n",
    "- Contains array of data (of any NumPy data type) with an index that labels each element in the vector. \n",
    "    \n",
    "    - Indexes can be:\n",
    "        - integers\n",
    "        - strings\n",
    "        - other data types\n",
    "\n",
    "\n",
    "<div style=\"background-color: #9999ff; padding: 10px;\">NOTE: Not Numpy arrays but adds functionality to a Numpy array </div>\n"
   ]
  },
  {
   "cell_type": "markdown",
   "metadata": {
    "slideshow": {
     "slide_type": "subslide"
    }
   },
   "source": [
    "### 2.2 Series - Integer indexes\n",
    "\n",
    "<hr>\n",
    "\n",
    "- If an *index* **is not** specified, a default sequence of integers is assigned as index.\n",
    "\n",
    "| Index  | Value  |\n",
    "| ------ | ------ |\n",
    "| 0      | 35     |\n",
    "| 1      | 50     |\n",
    "| 2      | 25     |"
   ]
  },
  {
   "cell_type": "markdown",
   "metadata": {
    "slideshow": {
     "slide_type": "fragment"
    }
   },
   "source": [
    "- Make a Series of count data"
   ]
  },
  {
   "cell_type": "code",
   "execution_count": null,
   "metadata": {
    "slideshow": {
     "slide_type": "fragment"
    }
   },
   "outputs": [],
   "source": [
    "# Make Series of count data and visaulize series\n",
    "\n",
    "counts = pd.Series([223, 43, 53, 24, 43])\n",
    "counts"
   ]
  },
  {
   "cell_type": "markdown",
   "metadata": {
    "slideshow": {
     "slide_type": "fragment"
    }
   },
   "source": [
    "- What datatype is the counts object?"
   ]
  },
  {
   "cell_type": "code",
   "execution_count": null,
   "metadata": {
    "slideshow": {
     "slide_type": "fragment"
    }
   },
   "outputs": [],
   "source": [
    "# What datatype is the counts object?\n",
    "\n",
    "type(counts)"
   ]
  },
  {
   "cell_type": "markdown",
   "metadata": {
    "slideshow": {
     "slide_type": "subslide"
    }
   },
   "source": [
    "### 2.3 Series - String indexes\n",
    "\n",
    "<hr>\n",
    "\n",
    "- We can assign meaningful lables to the indexes when making the Series object by specfing an array of **index**\n",
    "\n",
    "| Index  | Value  |\n",
    "| ------ | ------ |\n",
    "| CA     | 35     |\n",
    "| TX     | 50     |\n",
    "| OK     | 25     |"
   ]
  },
  {
   "cell_type": "markdown",
   "metadata": {
    "slideshow": {
     "slide_type": "fragment"
    }
   },
   "source": [
    " - Make Series of count data with Gene Symbols"
   ]
  },
  {
   "cell_type": "code",
   "execution_count": null,
   "metadata": {
    "slideshow": {
     "slide_type": "fragment"
    }
   },
   "outputs": [],
   "source": [
    "# Make Series of count data with Gene Symbols\n",
    "\n",
    "rna_counts = pd.Series([50, 10, 12, 29, 4], index=['BRCA2', 'GATA2', 'Myc', 'FOXA1', 'ERCC2'])\n",
    "rna_counts"
   ]
  },
  {
   "cell_type": "markdown",
   "metadata": {
    "slideshow": {
     "slide_type": "subslide"
    }
   },
   "source": [
    "### 2.4 Series - Dictionary\n",
    "\n",
    "<hr>\n",
    "\n",
    "- Can be thought of as a dict\n",
    "- Can be constructed from a dict directly.\n"
   ]
  },
  {
   "cell_type": "markdown",
   "metadata": {
    "slideshow": {
     "slide_type": "fragment"
    }
   },
   "source": [
    "- Construct second sample RNA-counts dict"
   ]
  },
  {
   "cell_type": "code",
   "execution_count": null,
   "metadata": {
    "slideshow": {
     "slide_type": "fragment"
    }
   },
   "outputs": [],
   "source": [
    "# Construct second sample RNA-counts dict\n",
    "\n",
    "cell2_counts = {'BRCA2':5, 'GATA2':20, 'Myc':45, 'FOXA1':10, 'ERCC2':0, 'BRCA1': 20}\n",
    "cell2_counts"
   ]
  },
  {
   "cell_type": "markdown",
   "metadata": {
    "slideshow": {
     "slide_type": "fragment"
    }
   },
   "source": [
    "- Make pandas Series from RNA-counts dict"
   ]
  },
  {
   "cell_type": "code",
   "execution_count": null,
   "metadata": {
    "slideshow": {
     "slide_type": "fragment"
    }
   },
   "outputs": [],
   "source": [
    "# Make pandas Series from RNA-counts dict\n",
    "\n",
    "rna_counts_cell2 = pd.Series(cell2_counts)\n",
    "rna_counts_cell2\n"
   ]
  },
  {
   "cell_type": "markdown",
   "metadata": {
    "slideshow": {
     "slide_type": "subslide"
    }
   },
   "source": [
    "### 2.5.1 Series - Referencing Elements - Integer\n",
    "\n",
    "<hr>\n",
    "\n",
    "<div style=\"background-color: #9999ff; padding: 10px;\">NOTE: We can access the values like an array text </div>\n",
    "\n",
    "- Integer Index"
   ]
  },
  {
   "cell_type": "markdown",
   "metadata": {
    "slideshow": {
     "slide_type": "fragment"
    }
   },
   "source": [
    "- Access the 1st element of counts data"
   ]
  },
  {
   "cell_type": "code",
   "execution_count": null,
   "metadata": {
    "slideshow": {
     "slide_type": "fragment"
    }
   },
   "outputs": [],
   "source": [
    "# Access the 1st element of counts data\n",
    "\n",
    "counts[0]"
   ]
  },
  {
   "cell_type": "markdown",
   "metadata": {
    "slideshow": {
     "slide_type": "fragment"
    }
   },
   "source": [
    "- Get the 2nd through 4th elements"
   ]
  },
  {
   "cell_type": "code",
   "execution_count": null,
   "metadata": {
    "slideshow": {
     "slide_type": "fragment"
    }
   },
   "outputs": [],
   "source": [
    "# Get the 2nd through 4th elements\n",
    "\n",
    "counts[1:4]"
   ]
  },
  {
   "cell_type": "markdown",
   "metadata": {
    "slideshow": {
     "slide_type": "subslide"
    }
   },
   "source": [
    "### 2.5.2 Series - Referencing Elements - String\n",
    "\n",
    "<hr>\n",
    "\n",
    "- String Index"
   ]
  },
  {
   "cell_type": "markdown",
   "metadata": {
    "slideshow": {
     "slide_type": "fragment"
    }
   },
   "source": [
    "- Get the counts for the Myc Gene"
   ]
  },
  {
   "cell_type": "code",
   "execution_count": null,
   "metadata": {
    "slideshow": {
     "slide_type": "fragment"
    }
   },
   "outputs": [],
   "source": [
    "# Get the counts for Myc Gene\n",
    "\n",
    "rna_counts['Myc']"
   ]
  },
  {
   "cell_type": "markdown",
   "metadata": {
    "slideshow": {
     "slide_type": "fragment"
    }
   },
   "source": [
    "- Get the counts for FOXA1, GATA2 and BRCA2"
   ]
  },
  {
   "cell_type": "code",
   "execution_count": null,
   "metadata": {
    "slideshow": {
     "slide_type": "fragment"
    }
   },
   "outputs": [],
   "source": [
    "# Get the Counts for FOXA1, GATA2 and BRCA2\n",
    "\n",
    "rna_counts[['FOXA1', 'GATA2', 'BRCA2']]"
   ]
  },
  {
   "cell_type": "markdown",
   "metadata": {
    "slideshow": {
     "slide_type": "subslide"
    }
   },
   "source": [
    "### 2.5.3 Series - Referencing Elements - array/index values\n",
    "\n",
    "<hr>\n",
    "\n",
    "- Can get the **array representation** and **index object** of the Series via its values and index atrributes, respectively."
   ]
  },
  {
   "cell_type": "markdown",
   "metadata": {
    "slideshow": {
     "slide_type": "fragment"
    }
   },
   "source": [
    " - Get the values in the counts matrix"
   ]
  },
  {
   "cell_type": "code",
   "execution_count": null,
   "metadata": {
    "slideshow": {
     "slide_type": "fragment"
    }
   },
   "outputs": [],
   "source": [
    "# Get the values in the counts matrix\n",
    "\n",
    "counts.values"
   ]
  },
  {
   "cell_type": "markdown",
   "metadata": {
    "slideshow": {
     "slide_type": "fragment"
    }
   },
   "source": [
    "- Get the index of the rna_counts matrix\n"
   ]
  },
  {
   "cell_type": "code",
   "execution_count": null,
   "metadata": {
    "slideshow": {
     "slide_type": "fragment"
    }
   },
   "outputs": [],
   "source": [
    "# Get the index of the rna_counts matrix\n",
    "\n",
    "rna_counts.index"
   ]
  },
  {
   "cell_type": "markdown",
   "metadata": {
    "slideshow": {
     "slide_type": "subslide"
    }
   },
   "source": [
    "### 2.5.4 Series - Referencing Elements - labels\n",
    "\n",
    "<hr>\n",
    "\n",
    "- Can give both the array of values and the index meaningful labels themselves"
   ]
  },
  {
   "cell_type": "code",
   "execution_count": null,
   "metadata": {
    "slideshow": {
     "slide_type": "fragment"
    }
   },
   "outputs": [],
   "source": [
    "rna_counts.name = 'RNA Counts'\n",
    "rna_counts.index.name = 'Symbol'\n",
    "rna_counts"
   ]
  },
  {
   "cell_type": "markdown",
   "metadata": {
    "slideshow": {
     "slide_type": "subslide"
    }
   },
   "source": [
    "### 2.6 Series - array operations \n",
    "\n",
    "<hr>\n",
    "    \n",
    "- NumPy array operations can be applied to Series without losing the data structure"
   ]
  },
  {
   "cell_type": "markdown",
   "metadata": {
    "slideshow": {
     "slide_type": "fragment"
    }
   },
   "source": [
    "- Use boolean array to filter Series"
   ]
  },
  {
   "cell_type": "markdown",
   "metadata": {
    "slideshow": {
     "slide_type": "fragment"
    }
   },
   "source": [
    "- Select Genes that have greater than 20 counts\n"
   ]
  },
  {
   "cell_type": "code",
   "execution_count": null,
   "metadata": {
    "slideshow": {
     "slide_type": "fragment"
    }
   },
   "outputs": [],
   "source": [
    "# Select Genes that have greater than 20 counts\n",
    "\n",
    "rna_counts > 20"
   ]
  },
  {
   "cell_type": "markdown",
   "metadata": {
    "slideshow": {
     "slide_type": "fragment"
    }
   },
   "source": [
    "- Select genes that have greater than 20 counts"
   ]
  },
  {
   "cell_type": "code",
   "execution_count": null,
   "metadata": {
    "slideshow": {
     "slide_type": "fragment"
    }
   },
   "outputs": [],
   "source": [
    "# Select genes that have greater than 20 counts\n",
    "\n",
    "rna_counts[rna_counts > 20]"
   ]
  },
  {
   "cell_type": "markdown",
   "metadata": {
    "slideshow": {
     "slide_type": "subslide"
    }
   },
   "source": [
    "### 2.7 Series - null values\n",
    "\n",
    "<hr>\n",
    "\n",
    "- Many times Series have missing values that you need to identify and clean"
   ]
  },
  {
   "cell_type": "markdown",
   "metadata": {
    "slideshow": {
     "slide_type": "subslide"
    }
   },
   "source": [
    "#### Marvel Cinematic Universe\n",
    "\n",
    "![mcu_timeline.png](img/mcu_timeline.png)"
   ]
  },
  {
   "cell_type": "markdown",
   "metadata": {
    "slideshow": {
     "slide_type": "subslide"
    }
   },
   "source": [
    "- Make Movie DataFrame with missing values"
   ]
  },
  {
   "cell_type": "code",
   "execution_count": null,
   "metadata": {
    "slideshow": {
     "slide_type": "fragment"
    }
   },
   "outputs": [],
   "source": [
    "# Make Movie Database with missing values\n",
    "\n",
    "mcu_opening = {'Black Panther': 202003951, 'Thor: Ragnarok': 122744989, 'Spider-Man: Homecoming': 117027503,\n",
    "              'Guardians of the Galaxy Vol. 2': 146510104, 'Doctor Strange': 85058311, \n",
    "               'Captain America: Civil War': 179139142}\n",
    "mcu_movies = ['Ant-Man and the Wasp', 'Avengers: Infinity War', 'Black Panther', 'Thor: Ragnarok', \n",
    "              'Spider-Man: Homecoming', 'Guardians of the Galaxy Vol. 2', 'Doctor Strange', 'Captain America: Civil War']\n",
    "mcu_series = pd.Series(mcu_opening, index=mcu_movies)\n",
    "\n",
    "mcu_series"
   ]
  },
  {
   "cell_type": "markdown",
   "metadata": {
    "slideshow": {
     "slide_type": "subslide"
    }
   },
   "source": [
    "- Find movies with no opening revenue"
   ]
  },
  {
   "cell_type": "code",
   "execution_count": null,
   "metadata": {
    "slideshow": {
     "slide_type": "fragment"
    }
   },
   "outputs": [],
   "source": [
    "# Find movies with no opening revenue\n",
    "\n",
    "pd.isnull(mcu_series)"
   ]
  },
  {
   "cell_type": "code",
   "execution_count": null,
   "metadata": {
    "slideshow": {
     "slide_type": "fragment"
    }
   },
   "outputs": [],
   "source": [
    "# Good opportunity to use Boolean filter get index and only movie names\n",
    "\n",
    "mcu_series[pd.isnull(mcu_series)].index.values"
   ]
  },
  {
   "cell_type": "markdown",
   "metadata": {
    "slideshow": {
     "slide_type": "fragment"
    }
   },
   "source": [
    "- Find movies with opening revenue"
   ]
  },
  {
   "cell_type": "code",
   "execution_count": null,
   "metadata": {
    "slideshow": {
     "slide_type": "fragment"
    }
   },
   "outputs": [],
   "source": [
    "# Find movies with opening revenue\n",
    "\n",
    "pd.notnull(mcu_series)"
   ]
  },
  {
   "cell_type": "markdown",
   "metadata": {
    "slideshow": {
     "slide_type": "subslide"
    }
   },
   "source": [
    "- Display only movie with no opening revenue"
   ]
  },
  {
   "cell_type": "code",
   "execution_count": null,
   "metadata": {
    "slideshow": {
     "slide_type": "fragment"
    }
   },
   "outputs": [],
   "source": [
    "# Display only movies with no opening revenue\n",
    "\n",
    "mcu_series[pd.isnull(mcu_series)].index.values"
   ]
  },
  {
   "cell_type": "markdown",
   "metadata": {
    "slideshow": {
     "slide_type": "subslide"
    }
   },
   "source": [
    "### 2.8 Series - auto alignment\n",
    "\n",
    "<hr>\n",
    "\n",
    "-  Index labels are used to align (merge) data when used in operations with other Series objects"
   ]
  },
  {
   "cell_type": "code",
   "execution_count": null,
   "metadata": {
    "slideshow": {
     "slide_type": "fragment"
    }
   },
   "outputs": [],
   "source": [
    "rna_counts"
   ]
  },
  {
   "cell_type": "code",
   "execution_count": null,
   "metadata": {
    "slideshow": {
     "slide_type": "fragment"
    }
   },
   "outputs": [],
   "source": [
    "rna_counts_cell2"
   ]
  },
  {
   "cell_type": "markdown",
   "metadata": {
    "slideshow": {
     "slide_type": "subslide"
    }
   },
   "source": [
    "- Combine counts for 2 cells (rna_counts and rna_counts_cell2)"
   ]
  },
  {
   "cell_type": "code",
   "execution_count": null,
   "metadata": {
    "slideshow": {
     "slide_type": "fragment"
    }
   },
   "outputs": [],
   "source": [
    "# Combine counts for 2 cells \n",
    "\n",
    "rna_counts + rna_counts_cell2\n"
   ]
  },
  {
   "cell_type": "markdown",
   "metadata": {
    "slideshow": {
     "slide_type": "fragment"
    }
   },
   "source": [
    "- Adding Series combined values with the same label in the resulting series\n",
    "- Contrast this with arrays, where arrays of the same length will combine values element-wise\n",
    "- Notice that the missing values. If one Series has a missing value you can't add it to the other value and a missing value results. "
   ]
  },
  {
   "cell_type": "markdown",
   "metadata": {
    "slideshow": {
     "slide_type": "slide"
    }
   },
   "source": [
    "<div style=\"background-color:yellow; padding: 10px\"><h3><span></span>Exercise 1</div>\n",
    "\n",
    "<hr>\n",
    "\n",
    "Create a Series from a specified list data which has the index labels as student names and test values.\n",
    "\n",
    "Which Students have scores greater than 15?\n",
    "\n",
    "Bonus: How would you use get the Students scores greater than 15 and less than 20? \n",
    "\n",
    "<div style=\"background-color: #9999ff; padding: 10px;\">Hint: Will use the bitwise opperator & </div>\n",
    "\n",
    "\n",
    "\n",
    "| Names  | Value  |\n",
    "| ------ | ------ |\n",
    "| Anastasia     | 12.5     |\n",
    "| Dima     | 9     |\n",
    "| Katherine     | 16.5     |\n",
    "| James     | NaN     |\n",
    "| Emily     | 9     |\n",
    "| Michael     | 20     |\n",
    "| Matthew     | 14.5     |\n",
    "| Laura     | NaN     |\n",
    "| Kevin     | 8     |\n",
    "| Jonas     | 19     |"
   ]
  },
  {
   "cell_type": "code",
   "execution_count": null,
   "metadata": {
    "slideshow": {
     "slide_type": "fragment"
    }
   },
   "outputs": [],
   "source": [
    "# Sample Python data and labels:\n",
    "\n",
    "\n",
    "students = ['Anastasia', 'Dima', 'Katherine', 'James', 'Emily', 'Michael', 'Matthew', 'Laura', 'Kevin', 'Jonas']\n",
    "\n",
    "test_scores = [12.5, 9, 16.5, np.nan, 9, 20, 14.5, np.nan, 8, 19]\n",
    "\n",
    "s_scores = pd.Series(test_scores, index=students)\n",
    "\n",
    "# Which Students have scores greater than 15?\n"
   ]
  },
  {
   "cell_type": "code",
   "execution_count": null,
   "metadata": {
    "slideshow": {
     "slide_type": "fragment"
    }
   },
   "outputs": [],
   "source": [
    "# Bonus: How would you use get the Students scores greater than 15 and less than 20?\n"
   ]
  },
  {
   "cell_type": "markdown",
   "metadata": {
    "slideshow": {
     "slide_type": "slide"
    }
   },
   "source": [
    "<div style=\"background-color:yellow; padding: 10px\"><h3><span></span>Exercise 2</div>\n",
    "\n",
    "What is the mean, median and max test scores?"
   ]
  },
  {
   "cell_type": "code",
   "execution_count": null,
   "metadata": {
    "slideshow": {
     "slide_type": "fragment"
    }
   },
   "outputs": [],
   "source": [
    "# What is the mean, median and max test scores?\n",
    "\n"
   ]
  },
  {
   "cell_type": "code",
   "execution_count": null,
   "metadata": {
    "slideshow": {
     "slide_type": "fragment"
    }
   },
   "outputs": [],
   "source": []
  },
  {
   "cell_type": "code",
   "execution_count": null,
   "metadata": {
    "slideshow": {
     "slide_type": "fragment"
    }
   },
   "outputs": [],
   "source": []
  },
  {
   "cell_type": "markdown",
   "metadata": {
    "slideshow": {
     "slide_type": "slide"
    }
   },
   "source": [
    "## Agenda\n",
    "\n",
    "<hr>\n",
    "\n",
    "1. Introduction to Pandas\n",
    "2. Series\n",
    "    - Exercise 1\n",
    "    - Exercise 2\n",
    "3. **Dataframe**\n",
    "    - Exercise 3\n",
    "    - Exercise 4\n",
    "    - Exercise 5\n",
    "4. Import and Store Data\n",
    "5. Summarizing and Computing Descriptive Statistics\n",
    "    - Exercise 6\n",
    "    - Exercise 7\n",
    "6. Grouped and apply\n",
    "    - Exercise 8\n",
    "    - Exercise 9\n",
    "7. Data Transformation and Normalization\n",
    "    - Exercise 10\n",
    "    - Exercise 11\n",
    "    - Exercise 12"
   ]
  },
  {
   "cell_type": "markdown",
   "metadata": {
    "slideshow": {
     "slide_type": "subslide"
    }
   },
   "source": [
    "### 3.1 Dataframe \n",
    "\n",
    "<hr>\n",
    "\n",
    "- A DataFrame is a tabular data structure, comprised of rows and columns like in a spreadsheet\n",
    "- Each column can be a different value type (numeric, string, boolean etc)\n"
   ]
  },
  {
   "cell_type": "markdown",
   "metadata": {
    "slideshow": {
     "slide_type": "fragment"
    }
   },
   "source": [
    "\n",
    "| Title  | Year   | Studio | Rating |\n",
    "| :------: | :------: | :------: | :------: |\n",
    "| Ant-Man and the Wasp  | 2018| Beuna Vista | NaN|\n",
    "| Avengers: Infinity War   | 2018    | Beuna Vista | NaN|\n",
    "| Black Panther     | 2018     | Beuna Vista | 0.96 |\n",
    "| Thor: Ragnarok | 2017 | Beuna Vista | 0.92|\n",
    "| Spider-Man: Homecoming| 2017 | Sony | 0.92|\n",
    "| Guardians of the Galaxy Vol. 2| 2017| Beuna Vista | 0.83 |"
   ]
  },
  {
   "cell_type": "markdown",
   "metadata": {
    "slideshow": {
     "slide_type": "subslide"
    }
   },
   "source": [
    "### 3.2 Dataframe - from dict of lists\n",
    "\n",
    "<hr>\n",
    "\n",
    "- dict keys: columns\n",
    "- dict values (arrays): rows"
   ]
  },
  {
   "cell_type": "markdown",
   "metadata": {
    "slideshow": {
     "slide_type": "fragment"
    }
   },
   "source": [
    "- Make Dataframe of Marvel data\n"
   ]
  },
  {
   "cell_type": "code",
   "execution_count": null,
   "metadata": {
    "slideshow": {
     "slide_type": "fragment"
    }
   },
   "outputs": [],
   "source": [
    "# Make Dataframe of Marvel data\n",
    "\n",
    "mcu_data = {'Title': ['Ant-Man and the Wasp', 'Avengers: Infinity War', 'Black Panther', 'Thor: Ragnarok', \n",
    "              'Spider-Man: Homecoming', 'Guardians of the Galaxy Vol. 2'],\n",
    "            'Year':[2018, 2018, 2018, 2017, 2017, 2017],\n",
    "            'Studio':['Beuna Vista', 'Beuna Vista', 'Beuna Vista', 'Beuna Vista', 'Sony', 'Beuna Vista'],\n",
    "            'Rating': [np.nan, np.nan, 0.96, 0.92, 0.92, 0.83]}\n",
    "df_mcu = pd.DataFrame(mcu_data)\n",
    "df_mcu"
   ]
  },
  {
   "cell_type": "markdown",
   "metadata": {
    "slideshow": {
     "slide_type": "fragment"
    }
   },
   "source": [
    "- What datatype is df_mcu?"
   ]
  },
  {
   "cell_type": "code",
   "execution_count": null,
   "metadata": {
    "slideshow": {
     "slide_type": "fragment"
    }
   },
   "outputs": [],
   "source": [
    "# What datatype is df_mcu?\n",
    "\n",
    "type(df_mcu)"
   ]
  },
  {
   "cell_type": "markdown",
   "metadata": {
    "slideshow": {
     "slide_type": "subslide"
    }
   },
   "source": [
    "### 3.3 Dataframe - specifying indices and columns\n",
    "\n",
    "<hr>\n",
    "\n",
    "- Order of columns/rows can be specified using:\n",
    "    - columns array\n",
    "    - index array"
   ]
  },
  {
   "cell_type": "code",
   "execution_count": null,
   "metadata": {
    "slideshow": {
     "slide_type": "fragment"
    }
   },
   "outputs": [],
   "source": [
    "# Assign column order and index based on Marvel Cinemetic Universe Movie Number \n",
    "\n",
    "mcu_index = ['mcu_20','mcu_19', 'mcu_18', 'mcu_17', 'mcu_16', 'mcu_15']\n",
    "mcu_columns = ['Title', 'Year', 'Studio', 'Rating']\n",
    "df_mcu = pd.DataFrame(mcu_data, columns = mcu_columns, index = mcu_index)\n",
    "df_mcu"
   ]
  },
  {
   "cell_type": "markdown",
   "metadata": {
    "slideshow": {
     "slide_type": "subslide"
    }
   },
   "source": [
    "### 3.4 Dataframe - from nested dict of dicts\n",
    "\n",
    "<hr>\n",
    "\n",
    "- Outer dict keys as columns and inner dict keys as row indices\n"
   ]
  },
  {
   "cell_type": "markdown",
   "metadata": {
    "slideshow": {
     "slide_type": "fragment"
    }
   },
   "source": [
    "- Make Dataframe of population of states"
   ]
  },
  {
   "cell_type": "code",
   "execution_count": null,
   "metadata": {
    "slideshow": {
     "slide_type": "fragment"
    }
   },
   "outputs": [],
   "source": [
    "# Make Dataframe of population\n",
    "\n",
    "pop = {'Nevada': {2001: 2.9, 2002: 2.9}, 'Ohio': {2002: 3.6, 2001: 1.7, 2000: 1.5}}\n",
    "df_pop = pd.DataFrame(pop)\n",
    "df_pop"
   ]
  },
  {
   "cell_type": "markdown",
   "metadata": {
    "slideshow": {
     "slide_type": "subslide"
    }
   },
   "source": [
    "### 3.5 Dataframe - number of rows and columns \n",
    "\n",
    "<hr>\n"
   ]
  },
  {
   "cell_type": "markdown",
   "metadata": {
    "slideshow": {
     "slide_type": "fragment"
    }
   },
   "source": [
    "- Get the number of rows in a Dataframe"
   ]
  },
  {
   "cell_type": "code",
   "execution_count": null,
   "metadata": {
    "slideshow": {
     "slide_type": "fragment"
    }
   },
   "outputs": [],
   "source": [
    "# Get the number of rows in a Dataframe\n",
    "\n",
    "len(df_mcu)"
   ]
  },
  {
   "cell_type": "markdown",
   "metadata": {
    "slideshow": {
     "slide_type": "fragment"
    }
   },
   "source": [
    "- Get the (rows, cols) of the Dataframe"
   ]
  },
  {
   "cell_type": "code",
   "execution_count": null,
   "metadata": {
    "slideshow": {
     "slide_type": "fragment"
    }
   },
   "outputs": [],
   "source": [
    "# Get the (rows, cols) of the Dataframe\n",
    "\n",
    "df_mcu.shape"
   ]
  },
  {
   "cell_type": "markdown",
   "metadata": {
    "slideshow": {
     "slide_type": "subslide"
    }
   },
   "source": [
    "### 3.6 Dataframe - index, columns and values\n",
    "\n",
    "<hr>"
   ]
  },
  {
   "cell_type": "markdown",
   "metadata": {
    "slideshow": {
     "slide_type": "fragment"
    }
   },
   "source": [
    "- Get the column headers"
   ]
  },
  {
   "cell_type": "code",
   "execution_count": null,
   "metadata": {
    "slideshow": {
     "slide_type": "fragment"
    }
   },
   "outputs": [],
   "source": [
    "# Get the column headers\n",
    "\n",
    "df_mcu.columns "
   ]
  },
  {
   "cell_type": "markdown",
   "metadata": {
    "slideshow": {
     "slide_type": "fragment"
    }
   },
   "source": [
    "- Get the row index values"
   ]
  },
  {
   "cell_type": "code",
   "execution_count": null,
   "metadata": {
    "slideshow": {
     "slide_type": "fragment"
    }
   },
   "outputs": [],
   "source": [
    "# Get the row index values\n",
    "\n",
    "df_mcu.index  "
   ]
  },
  {
   "cell_type": "markdown",
   "metadata": {
    "slideshow": {
     "slide_type": "fragment"
    }
   },
   "source": [
    "- Get values of the Dataframe only"
   ]
  },
  {
   "cell_type": "code",
   "execution_count": null,
   "metadata": {
    "slideshow": {
     "slide_type": "fragment"
    }
   },
   "outputs": [],
   "source": [
    "# Get values of the Dataframe only\n",
    "\n",
    "df_mcu.values  "
   ]
  },
  {
   "cell_type": "markdown",
   "metadata": {
    "slideshow": {
     "slide_type": "subslide"
    }
   },
   "source": [
    "### 3.7 Dataframe - Selecting Columns and Rows\n",
    "\n",
    "<hr>\n",
    "\n",
    "- There are three basic ways to access the data in the Dataframe:\n",
    "    1. Quick Access: DataFrame[] \n",
    "    2. Integer position based selection method: DataFrame.iloc[row, col] \n",
    "    3. Label based selection method: DataFrame.loc[row, col] "
   ]
  },
  {
   "cell_type": "markdown",
   "metadata": {
    "slideshow": {
     "slide_type": "subslide"
    }
   },
   "source": [
    "### 3.7.1 Dataframe - Selecting Columns and Rows - Quick Access\n",
    "\n",
    "<hr>"
   ]
  },
  {
   "cell_type": "markdown",
   "metadata": {
    "slideshow": {
     "slide_type": "fragment"
    }
   },
   "source": [
    "- Select values in a single column"
   ]
  },
  {
   "cell_type": "code",
   "execution_count": null,
   "metadata": {
    "slideshow": {
     "slide_type": "fragment"
    }
   },
   "outputs": [],
   "source": [
    "# Select values in a single column\n",
    "\n",
    "df_mcu['Title']"
   ]
  },
  {
   "cell_type": "markdown",
   "metadata": {
    "slideshow": {
     "slide_type": "fragment"
    }
   },
   "source": [
    "- Select values in a list of columns"
   ]
  },
  {
   "cell_type": "code",
   "execution_count": null,
   "metadata": {
    "slideshow": {
     "slide_type": "fragment"
    }
   },
   "outputs": [],
   "source": [
    "# Select values in a list of columns\n",
    "\n",
    "df_mcu[['Title', 'Rating']]"
   ]
  },
  {
   "cell_type": "markdown",
   "metadata": {
    "slideshow": {
     "slide_type": "fragment"
    }
   },
   "source": [
    "- Use slice to get the first n rows (NumPy style indexing)"
   ]
  },
  {
   "cell_type": "code",
   "execution_count": null,
   "metadata": {
    "slideshow": {
     "slide_type": "fragment"
    }
   },
   "outputs": [],
   "source": [
    "# Use slice to get the first n rows (NumPy style indexing)\n",
    "\n",
    "df_mcu[:2]"
   ]
  },
  {
   "cell_type": "markdown",
   "metadata": {
    "slideshow": {
     "slide_type": "fragment"
    }
   },
   "source": [
    "- Can combine slice and column selection to select the first n rows"
   ]
  },
  {
   "cell_type": "code",
   "execution_count": null,
   "metadata": {
    "slideshow": {
     "slide_type": "fragment"
    }
   },
   "outputs": [],
   "source": [
    "# Can combine slice and column selection to select the first n rows\n",
    "\n",
    "df_mcu['Title'][:2]"
   ]
  },
  {
   "cell_type": "markdown",
   "metadata": {
    "slideshow": {
     "slide_type": "fragment"
    }
   },
   "source": [
    "- Order of column and slice doesn't matter"
   ]
  },
  {
   "cell_type": "code",
   "execution_count": null,
   "metadata": {
    "slideshow": {
     "slide_type": "fragment"
    }
   },
   "outputs": [],
   "source": [
    "df_mcu[:4]['Year']"
   ]
  },
  {
   "cell_type": "markdown",
   "metadata": {
    "slideshow": {
     "slide_type": "subslide"
    }
   },
   "source": [
    "### 3.7.2 Dataframe - Selecting Columns and Rows - Integer based selection\n",
    "\n",
    "<hr>\n",
    "\n",
    "- iloc is primarily an integer position based (from 0 to length-1 of the axis), when we include the starting from the end indexing, but may also be used with a boolean array.\n",
    "\n",
    "- Allowed inputs are:"
   ]
  },
  {
   "cell_type": "markdown",
   "metadata": {
    "slideshow": {
     "slide_type": "fragment"
    }
   },
   "source": [
    "   - Integer"
   ]
  },
  {
   "cell_type": "code",
   "execution_count": null,
   "metadata": {
    "slideshow": {
     "slide_type": "fragment"
    }
   },
   "outputs": [],
   "source": [
    "# Return values in the first row\n",
    "\n",
    "df_mcu.iloc[0]"
   ]
  },
  {
   "cell_type": "code",
   "execution_count": null,
   "metadata": {
    "slideshow": {
     "slide_type": "fragment"
    }
   },
   "outputs": [],
   "source": [
    "# Return values in the first row and second column\n",
    "\n",
    "df_mcu.iloc[0,1]"
   ]
  },
  {
   "cell_type": "markdown",
   "metadata": {
    "slideshow": {
     "slide_type": "fragment"
    }
   },
   "source": [
    "   - A list or array of integers"
   ]
  },
  {
   "cell_type": "code",
   "execution_count": null,
   "metadata": {},
   "outputs": [],
   "source": [
    "# Return values in the 3,5 and 6th rows \n",
    "\n",
    "df_mcu.iloc[[2,4,5]]"
   ]
  },
  {
   "cell_type": "markdown",
   "metadata": {
    "slideshow": {
     "slide_type": "fragment"
    }
   },
   "source": [
    "   - A slice object with ints"
   ]
  },
  {
   "cell_type": "code",
   "execution_count": null,
   "metadata": {
    "slideshow": {
     "slide_type": "fragment"
    }
   },
   "outputs": [],
   "source": [
    "# Return values in the first row and columns 2 and 3\n",
    "\n",
    "df_mcu.iloc[:2, 1:3]"
   ]
  },
  {
   "cell_type": "markdown",
   "metadata": {
    "slideshow": {
     "slide_type": "subslide"
    }
   },
   "source": [
    "### 3.7.3 Dataframe - Selecting Columns and Rows - Integer based selection\n",
    "\n",
    "<hr>\n",
    "\n",
    "- loc is primarily label based, but may also be used with a boolean array.\n",
    "\n",
    "- Allowed inputs are:"
   ]
  },
  {
   "cell_type": "markdown",
   "metadata": {
    "slideshow": {
     "slide_type": "fragment"
    }
   },
   "source": [
    "   - A single label"
   ]
  },
  {
   "cell_type": "code",
   "execution_count": null,
   "metadata": {
    "slideshow": {
     "slide_type": "fragment"
    }
   },
   "outputs": [],
   "source": [
    "# Select all values of the 20th Movie\n",
    "\n",
    "df_mcu.loc['mcu_20']"
   ]
  },
  {
   "cell_type": "markdown",
   "metadata": {
    "slideshow": {
     "slide_type": "fragment"
    }
   },
   "source": [
    "   - A list or array of labels"
   ]
  },
  {
   "cell_type": "code",
   "execution_count": null,
   "metadata": {
    "slideshow": {
     "slide_type": "fragment"
    }
   },
   "outputs": [],
   "source": [
    "# Select all values of the 20th, 17th and 15th movie, which uses row index values, \n",
    "# Not to be confused with df_mcu[['Title', 'Rating']] which uses column headers\n",
    "\n",
    "df_mcu.loc[['mcu_20', 'mcu_17', 'mcu_15']]"
   ]
  },
  {
   "cell_type": "markdown",
   "metadata": {
    "slideshow": {
     "slide_type": "fragment"
    }
   },
   "source": [
    "- A slice object with labels\n",
    "\n",
    "<div style=\"background-color: #9999ff; padding: 10px;\"> NOTE: Unlike numeric index python slices, both the start and the stop are included!</div>"
   ]
  },
  {
   "cell_type": "code",
   "execution_count": null,
   "metadata": {
    "slideshow": {
     "slide_type": "fragment"
    }
   },
   "outputs": [],
   "source": [
    "# Select the Year and Rating\n",
    "\n",
    "\n",
    "df_mcu.loc[:, ['Year', 'Rating']]"
   ]
  },
  {
   "cell_type": "markdown",
   "metadata": {
    "slideshow": {
     "slide_type": "subslide"
    }
   },
   "source": [
    "### 3.7.4 Dataframe - Selecting Columns and Rows - Data Filtering\n",
    "\n",
    "<hr>\n",
    "\n",
    "- Data filtering using boolean\n"
   ]
  },
  {
   "cell_type": "markdown",
   "metadata": {
    "slideshow": {
     "slide_type": "fragment"
    }
   },
   "source": [
    "- Filter and select on single condition"
   ]
  },
  {
   "cell_type": "code",
   "execution_count": null,
   "metadata": {
    "slideshow": {
     "slide_type": "fragment"
    }
   },
   "outputs": [],
   "source": [
    "# Filter for Rating < .95\n",
    "\n",
    "df_mcu.loc[df_mcu['Rating'] < .95, :]"
   ]
  },
  {
   "cell_type": "markdown",
   "metadata": {
    "slideshow": {
     "slide_type": "fragment"
    }
   },
   "source": [
    "- Filter and select on multiple conidtions"
   ]
  },
  {
   "cell_type": "code",
   "execution_count": null,
   "metadata": {
    "slideshow": {
     "slide_type": "fragment"
    }
   },
   "outputs": [],
   "source": [
    "# Filter for Rating < .95 and Sudio is Sony\n",
    "# Reuse the bitwise comparator seen earlier but with OR instead of AND.\n",
    "\n",
    "df_mcu.loc[(df_mcu['Rating'] < .95) | (df_mcu['Studio'] == 'Sony'), :]"
   ]
  },
  {
   "cell_type": "markdown",
   "metadata": {
    "slideshow": {
     "slide_type": "subslide"
    }
   },
   "source": [
    "### 3.8 Dataframe - Adding and Deleting data\n",
    "\n",
    "<hr>"
   ]
  },
  {
   "cell_type": "markdown",
   "metadata": {
    "slideshow": {
     "slide_type": "fragment"
    }
   },
   "source": [
    "- Add a new column"
   ]
  },
  {
   "cell_type": "code",
   "execution_count": null,
   "metadata": {
    "slideshow": {
     "slide_type": "fragment"
    }
   },
   "outputs": [],
   "source": [
    "# Add new predicted rating to Dataframe\n",
    "\n",
    "df_mcu['Predicted Rating'] = np.random.random(len(df_mcu))\n",
    "df_mcu"
   ]
  },
  {
   "cell_type": "markdown",
   "metadata": {},
   "source": [
    "- Add a new row"
   ]
  },
  {
   "cell_type": "code",
   "execution_count": null,
   "metadata": {
    "slideshow": {
     "slide_type": "fragment"
    }
   },
   "outputs": [],
   "source": [
    "# Add a new row for a new movie \n",
    "\n",
    "new_row = pd.Series(['Captain Marvel', 2019, 'BeunaVista',  np.nan, np.random.random(1)[0]], index=df_mcu.columns, name= 'mcu_21' )\n",
    "df_mcu.append(new_row)"
   ]
  },
  {
   "cell_type": "markdown",
   "metadata": {
    "slideshow": {
     "slide_type": "fragment"
    }
   },
   "source": [
    "- Drop an existing column"
   ]
  },
  {
   "cell_type": "code",
   "execution_count": null,
   "metadata": {
    "slideshow": {
     "slide_type": "fragment"
    }
   },
   "outputs": [],
   "source": [
    "# Drop the Rating Column\n",
    "\n",
    "df_mcu.drop('Rating', axis=1)"
   ]
  },
  {
   "cell_type": "markdown",
   "metadata": {
    "slideshow": {
     "slide_type": "fragment"
    }
   },
   "source": [
    "- Drop an existing row"
   ]
  },
  {
   "cell_type": "code",
   "execution_count": null,
   "metadata": {
    "slideshow": {
     "slide_type": "fragment"
    }
   },
   "outputs": [],
   "source": [
    "# Drop the 17 and 19th movies\n",
    "\n",
    "df_mcu.drop(['mcu_15', 'mcu_17'])"
   ]
  },
  {
   "cell_type": "markdown",
   "metadata": {
    "slideshow": {
     "slide_type": "fragment"
    }
   },
   "source": [
    "- Columns, Rows or individual elements can be modified similarly using loc or iloc.\n",
    "\n",
    "<div style=\"background-color: #9999ff; padding: 10px;\"> NOTE: Return new object Dataframe, withouth changing the orignal dataframe (append, drop).</div>\n"
   ]
  },
  {
   "cell_type": "markdown",
   "metadata": {
    "slideshow": {
     "slide_type": "slide"
    }
   },
   "source": [
    "<div style=\"background-color:yellow; padding: 10px\"><h3><span></span>Exericse 3</div>\n",
    "\n",
    "<hr>\n",
    "\n",
    "Create a Dataframe from a specified dictionary data of \n",
    "\n",
    "Which Students have scorescore is between 15 and 20?\n",
    "\n",
    "\n",
    "| Names  | Scores  | Attempts | Qualify | \n",
    "| ------ | ------ | ------ | ------ |\n",
    "| Anastasia     | 12.5     | 1 | 'yes' |\n",
    "| Dima     | 9     | 3 | 'no' |\n",
    "| Katherine     | 16.5     | 2| 'yes' |\n",
    "| James     | NaN     | 3| 'no' |\n",
    "| Emily     | 9     | 2| 'no' |\n",
    "| Michael     | 20     | 3| 'yes' |\n",
    "| Matthew     | 14.5     | 1| 'yes' |\n",
    "| Laura     | NaN     | 1| 'no' |\n",
    "| Kevin     | 8     | 2| 'no' |\n",
    "| Jonas     | 19     | 1| 'yes' |\n",
    "\n"
   ]
  },
  {
   "cell_type": "code",
   "execution_count": null,
   "metadata": {
    "slideshow": {
     "slide_type": "fragment"
    }
   },
   "outputs": [],
   "source": [
    "# Sample Python data:\n",
    "\n",
    "\n",
    "exam_data = {'Names': ['Anastasia', 'Dima', 'Katherine', 'James', 'Emily', 'Michael', 'Matthew', 'Laura', 'Kevin', 'Jonas'], \n",
    "             'Scores': [12.5, 9, 16.5, np.nan, 9, 20, 14.5, np.nan, 8, 19], \n",
    "             'Attempts': [1, 3, 2, 3, 2, 3, 1, 1, 2, 1], \n",
    "             'Qualify': ['yes', 'no', 'yes', 'no', 'no', 'yes', 'yes', 'no', 'no', 'yes']} \n"
   ]
  },
  {
   "cell_type": "code",
   "execution_count": null,
   "metadata": {
    "slideshow": {
     "slide_type": "fragment"
    }
   },
   "outputs": [],
   "source": [
    "# Select the students the qualify based on scores using the Qualify column 'yes'\n"
   ]
  },
  {
   "cell_type": "markdown",
   "metadata": {
    "slideshow": {
     "slide_type": "slide"
    }
   },
   "source": [
    "<div style=\"background-color:yellow; padding: 10px\"><h3><span></span>Exercise 4</div>\n",
    "\n",
    "<hr>\n",
    "\n",
    "Add a new column of, Grade Level, to indicate which Grade in High school the students are in?\n",
    "\n",
    "Add a new student named, Jack? (Hint: Need to use ignore_index=True)"
   ]
  },
  {
   "cell_type": "code",
   "execution_count": null,
   "metadata": {
    "slideshow": {
     "slide_type": "fragment"
    }
   },
   "outputs": [],
   "source": [
    "# Add a new column of, Grade Level, to indicate which Grade in High school the students are in?\n"
   ]
  },
  {
   "cell_type": "code",
   "execution_count": null,
   "metadata": {
    "slideshow": {
     "slide_type": "fragment"
    }
   },
   "outputs": [],
   "source": [
    "# Add a new student named, Jack? (Hint: Need to use ignore_index=True)\n"
   ]
  },
  {
   "cell_type": "markdown",
   "metadata": {
    "slideshow": {
     "slide_type": "slide"
    }
   },
   "source": [
    "<div style=\"background-color:yellow; padding: 10px\"><h3><span></span>Exercise 5</div>\n",
    "\n",
    "<hr>\n",
    "\n",
    "Add a new column of Pass that is either 0 or 1 based on the column Qualify. (Hint: use numpy.where)\n",
    "- 'yes': 1\n",
    "- 'no': 0"
   ]
  },
  {
   "cell_type": "code",
   "execution_count": null,
   "metadata": {
    "slideshow": {
     "slide_type": "fragment"
    }
   },
   "outputs": [],
   "source": [
    "# Add a new column of Pass that is either 0 or 1 based on the column Qualify. (Hint: use numpy.where)\n"
   ]
  },
  {
   "cell_type": "markdown",
   "metadata": {
    "slideshow": {
     "slide_type": "slide"
    }
   },
   "source": [
    "## Agenda\n",
    "\n",
    "<hr>\n",
    "\n",
    "1. Introduction to Pandas\n",
    "2. Series\n",
    "    - Exercise 1\n",
    "    - Exercise 2\n",
    "3. Dataframe\n",
    "    - Exercise 3\n",
    "    - Exercise 4\n",
    "4. **Import and Store Data**\n",
    "5. Summarizing and Computing Descriptive Statistics\n",
    "    - Exercise 6\n",
    "    - Exercise 7\n",
    "6. Grouped and apply\n",
    "    - Exercise 8\n",
    "    - Exercise 9\n",
    "7. Data Transformation and Normalization\n",
    "    - Exercise 10\n",
    "    - Exercise 11\n",
    "    - Exercise 12"
   ]
  },
  {
   "cell_type": "markdown",
   "metadata": {
    "slideshow": {
     "slide_type": "subslide"
    }
   },
   "source": [
    "### 4.1 Import and Store Data\n",
    "\n",
    "<hr>\n",
    "\n",
    "The first step in any  problem is identifying what format your data is in, and then loading it into whatever framework you're using. Common formats are:\n",
    "- Text Files: Text files with a common delimeter to seperate values (e.g. CSV uses ,)\n",
    "- JSON(JavaScript Object Notation): standard formats for sending data by HTTP requests\n",
    "- Web Page: XML and HTML\n",
    "- Binary: \"pickle” format and HDF5\n",
    "- Database: MySQL, PostgreSQL \n",
    " \n",
    "<div style=\"background-color: #9999ff; padding: 10px;\"> NOTE: Most common is CSV or Text files with different delimeters. </div>"
   ]
  },
  {
   "cell_type": "markdown",
   "metadata": {
    "slideshow": {
     "slide_type": "subslide"
    }
   },
   "source": [
    "### 4.2 Import and Store Data - Text Files\n",
    "\n",
    "<hr>\n",
    "- Reading\n",
    "    - read_csv: Use comma seperated (,) deliminator to read file\n",
    "    - read_table: Use tab (\\t)  deliminator to read file\n",
    "- Writting\n",
    "    - write_csv: Use comma seperated (,) deliminator to write file\n",
    "    - write_table: Use tab (\\t)  deliminator to write file"
   ]
  },
  {
   "cell_type": "markdown",
   "metadata": {
    "slideshow": {
     "slide_type": "fragment"
    }
   },
   "source": [
    "Read in Winter Olympic Medal Winners form [Kaggle](https://www.kaggle.com/the-guardian/olympic-games/)"
   ]
  },
  {
   "cell_type": "code",
   "execution_count": null,
   "metadata": {
    "slideshow": {
     "slide_type": "fragment"
    }
   },
   "outputs": [],
   "source": [
    "# Read in Winter Olympic Medal Winners \n",
    "\n",
    "winter_olympics = pd.read_csv('data/winter_olympics.csv')\n",
    "winter_olympics.head()"
   ]
  },
  {
   "cell_type": "markdown",
   "metadata": {
    "slideshow": {
     "slide_type": "slide"
    }
   },
   "source": [
    "## Agenda\n",
    "\n",
    "<hr>\n",
    "\n",
    "1. Introduction to Pandas\n",
    "2. Series\n",
    "    - Exercise 1\n",
    "    - Exercise 2\n",
    "3. Dataframe\n",
    "    - Exercise 3\n",
    "    - Exercise 4\n",
    "4. Import and Store Data\n",
    "5. **Summarizing and Computing Descriptive Statistics**\n",
    "    - Exercise 6\n",
    "    - Exercise 7\n",
    "6. Grouped and apply\n",
    "    - Exercise 8\n",
    "    - Exercise 9\n",
    "7. Data Transformation and Normalization\n",
    "    - Exercise 10\n",
    "    - Exercise 11\n",
    "    - Exercise 12"
   ]
  },
  {
   "cell_type": "markdown",
   "metadata": {
    "slideshow": {
     "slide_type": "subslide"
    }
   },
   "source": [
    "### 5.1 Summarizing and Computing Descriptive Statistics\n",
    "\n",
    "<hr>\n",
    "\n",
    "- Pandas as a lot of  built-in essential functionality common to the pandas data structures to help explore the data."
   ]
  },
  {
   "cell_type": "markdown",
   "metadata": {
    "slideshow": {
     "slide_type": "subslide"
    }
   },
   "source": [
    "### 5.2 Summarizing and Computing Descriptive Statistics - Head and Tail\n",
    "\n",
    "<hr>\n",
    "\n",
    "- To view a small sample of a Series or DataFrame object, use:\n",
    "    - head()\n",
    "    - tail()\n",
    "\n",
    "<div style=\"background-color: #9999ff; padding: 10px;\"> NOTE: The default number of elements to display is five, but you may pass a custom number. </div>\n"
   ]
  },
  {
   "cell_type": "markdown",
   "metadata": {
    "slideshow": {
     "slide_type": "fragment"
    }
   },
   "source": [
    "- Get the First 3 lines of Dataframe"
   ]
  },
  {
   "cell_type": "code",
   "execution_count": null,
   "metadata": {
    "slideshow": {
     "slide_type": "fragment"
    }
   },
   "outputs": [],
   "source": [
    "# Get the First 3 lines of a Dataframe\n",
    "\n",
    "winter_olympics.head(3)"
   ]
  },
  {
   "cell_type": "markdown",
   "metadata": {
    "slideshow": {
     "slide_type": "subslide"
    }
   },
   "source": [
    "### 5.2 Summarizing and Computing Descriptive Statistics - Sorting\n",
    "\n",
    "<hr>\n",
    "\n",
    "- To sort data for exploring the data use:\n",
    "    - sort_index(): object by labels (along an axis)\n",
    "    - sort_values(): by the values along either axis\n",
    "    \n",
    "<div style=\"background-color: #9999ff; padding: 10px;\"> NOTE: axis: 0 or ‘index’, 1 or ‘columns’ and default is 0 </div>"
   ]
  },
  {
   "cell_type": "markdown",
   "metadata": {
    "slideshow": {
     "slide_type": "fragment"
    }
   },
   "source": [
    "- Sort Dataframe by rows in ascending order"
   ]
  },
  {
   "cell_type": "code",
   "execution_count": null,
   "metadata": {
    "slideshow": {
     "slide_type": "fragment"
    }
   },
   "outputs": [],
   "source": [
    "# Sort Dataframe by rows in ascending order\n",
    "\n",
    "df_mcu.sort_index(axis=0, ascending=True)"
   ]
  },
  {
   "cell_type": "markdown",
   "metadata": {
    "slideshow": {
     "slide_type": "fragment"
    }
   },
   "source": [
    "- Sort Dataframe by columns in descending order"
   ]
  },
  {
   "cell_type": "code",
   "execution_count": null,
   "metadata": {
    "slideshow": {
     "slide_type": "fragment"
    }
   },
   "outputs": [],
   "source": [
    "# Sort Dataframe by column in descending order\n",
    "\n",
    "df_mcu.sort_values(by=['Rating', 'Predicted Rating'], ascending=False)"
   ]
  },
  {
   "cell_type": "markdown",
   "metadata": {
    "slideshow": {
     "slide_type": "subslide"
    }
   },
   "source": [
    "### 5.3 Summarizing and Computing Descriptive Statistics - Descriptive statistics\n",
    "\n",
    "<hr>\n",
    "\n",
    "- Built in functions to calculate the values over row or columns"
   ]
  },
  {
   "cell_type": "markdown",
   "metadata": {
    "slideshow": {
     "slide_type": "fragment"
    }
   },
   "source": [
    "- describe(): return summary statistics of each column\n",
    "        - for numeric data: mean, std, max, min, 25%, 50%, 75%, etc.\n",
    "        - For non-numeric data: count, uniq, most-frequent item, etc"
   ]
  },
  {
   "cell_type": "code",
   "execution_count": null,
   "metadata": {
    "slideshow": {
     "slide_type": "fragment"
    }
   },
   "outputs": [],
   "source": [
    "# Summary Statistics for the Dataframe\n",
    "\n",
    "df_mcu.describe()"
   ]
  },
  {
   "cell_type": "markdown",
   "metadata": {
    "slideshow": {
     "slide_type": "fragment"
    }
   },
   "source": [
    "- mean()"
   ]
  },
  {
   "cell_type": "code",
   "execution_count": null,
   "metadata": {
    "slideshow": {
     "slide_type": "fragment"
    }
   },
   "outputs": [],
   "source": [
    "# Mean of the Rating and Predicted Rating Columns\n",
    "\n",
    "df_mcu.loc[:,['Rating', 'Predicted Rating']].mean()"
   ]
  },
  {
   "cell_type": "markdown",
   "metadata": {
    "slideshow": {
     "slide_type": "fragment"
    }
   },
   "source": [
    "- var()"
   ]
  },
  {
   "cell_type": "code",
   "execution_count": null,
   "metadata": {
    "slideshow": {
     "slide_type": "fragment"
    }
   },
   "outputs": [],
   "source": [
    "# Get the variance of the Rating column\n",
    "\n",
    "df_mcu.loc[:,['Rating']].var()"
   ]
  },
  {
   "cell_type": "markdown",
   "metadata": {
    "slideshow": {
     "slide_type": "subslide"
    }
   },
   "source": [
    "### 5.4 Summarizing and Computing Descriptive Statistics - Missing Data\n",
    "\n",
    "<hr>\n",
    "\n",
    "- Data comes in many shapes and forms and Pandas is very flexible in handling missing data:\n",
    "    - While Nan is the default missing value marker\n",
    "    - However, Python None will arise and we wish to also consider that “missing” or “not available” or “NA”\n",
    "    "
   ]
  },
  {
   "cell_type": "markdown",
   "metadata": {
    "slideshow": {
     "slide_type": "fragment"
    }
   },
   "source": [
    "    - Drop rows with Nan values"
   ]
  },
  {
   "cell_type": "code",
   "execution_count": null,
   "metadata": {
    "slideshow": {
     "slide_type": "fragment"
    }
   },
   "outputs": [],
   "source": [
    "# Drop rows with NaN values\n",
    "\n",
    "df_mcu.dropna()"
   ]
  },
  {
   "cell_type": "markdown",
   "metadata": {
    "slideshow": {
     "slide_type": "fragment"
    }
   },
   "source": [
    "      - Fill Nan with default value"
   ]
  },
  {
   "cell_type": "code",
   "execution_count": null,
   "metadata": {
    "slideshow": {
     "slide_type": "fragment"
    }
   },
   "outputs": [],
   "source": [
    "# File Nan in Dataframe with default value\n",
    "\n",
    "df_mcu.fillna(0)"
   ]
  },
  {
   "cell_type": "markdown",
   "metadata": {
    "slideshow": {
     "slide_type": "fragment"
    }
   },
   "source": [
    "    - Use inplace to modify the dataframe instead of retunring a new object"
   ]
  },
  {
   "cell_type": "code",
   "execution_count": null,
   "metadata": {
    "slideshow": {
     "slide_type": "fragment"
    }
   },
   "outputs": [],
   "source": [
    "# File Nan in Dataframe with default value in place\n",
    "\n",
    "df_mcu.fillna(0, inplace=True)\n",
    "df_mcu"
   ]
  },
  {
   "cell_type": "markdown",
   "metadata": {
    "slideshow": {
     "slide_type": "slide"
    }
   },
   "source": [
    "<div style=\"background-color:yellow; padding: 10px\"><h3><span></span>Exercise 6</div>\n",
    "\n",
    "<hr>\n",
    "\n",
    "What is the median score of the students on the exam?\n"
   ]
  },
  {
   "cell_type": "code",
   "execution_count": null,
   "metadata": {
    "slideshow": {
     "slide_type": "fragment"
    }
   },
   "outputs": [],
   "source": [
    "# What is the median score of the students on the exam?\n"
   ]
  },
  {
   "cell_type": "markdown",
   "metadata": {
    "slideshow": {
     "slide_type": "slide"
    }
   },
   "source": [
    "<div style=\"background-color:yellow; padding: 10px\"><h3><span></span>Exercise 7</div>\n",
    "\n",
    "<hr>\n",
    "\n",
    "Deduct 4 points from everyone that attempted the exam 2 or more times. Replace all Nan scores with 0.\n",
    "(Passing is 12 points)\n",
    "\n",
    "Compute the mean. Would the class as a whole pass the test?\n",
    "\n",
    "Are there any students that will fail now?"
   ]
  },
  {
   "cell_type": "code",
   "execution_count": null,
   "metadata": {
    "slideshow": {
     "slide_type": "fragment"
    }
   },
   "outputs": [],
   "source": [
    "# Deduct 4 points from everyone that attempted the exam 2 or more times. Replace all Nan scores with 0. (Passing is 12 points)\n"
   ]
  },
  {
   "cell_type": "code",
   "execution_count": null,
   "metadata": {
    "slideshow": {
     "slide_type": "fragment"
    }
   },
   "outputs": [],
   "source": [
    "# Compute the mean. Would the class as a whole pass the test?\n",
    "\n"
   ]
  },
  {
   "cell_type": "code",
   "execution_count": null,
   "metadata": {
    "slideshow": {
     "slide_type": "fragment"
    }
   },
   "outputs": [],
   "source": [
    "# Are there any students that will fail now?\n",
    "\n"
   ]
  },
  {
   "cell_type": "markdown",
   "metadata": {
    "slideshow": {
     "slide_type": "slide"
    }
   },
   "source": [
    "## Agenda\n",
    "\n",
    "<hr>\n",
    "\n",
    "1. Introduction to Pandas\n",
    "2. Series\n",
    "    - Exercise 1\n",
    "    - Exercise 2\n",
    "3. Dataframe\n",
    "    - Exercise 3\n",
    "    - Exercise 4\n",
    "4. Import and Store Data\n",
    "5. Summarizing and Computing Descriptive Statistics\n",
    "    - Exercise 6\n",
    "    - Exercise 7\n",
    "6. **Grouped and apply**\n",
    "    - Exercise 8\n",
    "    - Exercise 9\n",
    "7. Data Transformation and Normalization\n",
    "    - Exercise 10\n",
    "    - Exercise 11\n",
    "    - Exercise 12"
   ]
  },
  {
   "cell_type": "markdown",
   "metadata": {
    "slideshow": {
     "slide_type": "subslide"
    }
   },
   "source": [
    "### 6.1 Grouped and apply\n",
    "\n",
    "<hr>\n",
    "\n",
    "The Grouped functionality is referring to a process involving one or more of the following steps:\n",
    "- Splitting the data into groups based on some criteria\n",
    "- Applying a function to each group independently"
   ]
  },
  {
   "cell_type": "markdown",
   "metadata": {
    "slideshow": {
     "slide_type": "subslide"
    }
   },
   "source": [
    "### 6.2 Grouped and apply - Splitting\n",
    "\n",
    "<hr>\n",
    "\n",
    "Pandas objects can be split on any of their axes. \n",
    "- 'grouping' is to provided as a mapping of labels to group names in a Grouped Objec\n",
    "- groupby()"
   ]
  },
  {
   "cell_type": "code",
   "execution_count": null,
   "metadata": {
    "slideshow": {
     "slide_type": "fragment"
    }
   },
   "outputs": [],
   "source": [
    "# Groupby year of release and get mean Rating\n",
    "\n",
    "df_mcu.groupby('Year').mean()\n"
   ]
  },
  {
   "cell_type": "markdown",
   "metadata": {
    "slideshow": {
     "slide_type": "subslide"
    }
   },
   "source": [
    "### 6.3 Grouped and apply - Apply\n",
    "\n",
    "<hr>\n",
    "\n",
    "Apply the same function to every column or row:\n",
    "- applymap: Apply same function across every cell\n",
    "- apply: Apply same function to every column (default) or row"
   ]
  },
  {
   "cell_type": "markdown",
   "metadata": {
    "slideshow": {
     "slide_type": "fragment"
    }
   },
   "source": [
    "        - Apply square to every value in a dataframe"
   ]
  },
  {
   "cell_type": "code",
   "execution_count": null,
   "metadata": {
    "slideshow": {
     "slide_type": "fragment"
    }
   },
   "outputs": [],
   "source": [
    "# Apply square to every value in a dataframe\n",
    "\n",
    "test_data = np.arange(9).reshape(3,-1)\n",
    "\n",
    "df_test = pd.DataFrame(test_data, index=['r1', 'r2', 'r3'], columns=['c1', 'c2', 'c3'])\n",
    "df_test"
   ]
  },
  {
   "cell_type": "code",
   "execution_count": null,
   "metadata": {
    "slideshow": {
     "slide_type": "fragment"
    }
   },
   "outputs": [],
   "source": [
    "df_test.applymap(np.square)"
   ]
  },
  {
   "cell_type": "markdown",
   "metadata": {
    "slideshow": {
     "slide_type": "fragment"
    }
   },
   "source": [
    "            - Apply a new function that subtract max from 2 times min in every column"
   ]
  },
  {
   "cell_type": "code",
   "execution_count": null,
   "metadata": {
    "slideshow": {
     "slide_type": "fragment"
    }
   },
   "outputs": [],
   "source": [
    "# Define max minus min function\n",
    "def max_minus_min(x): \n",
    "    return max(x)-(2*min(x))\n",
    "\n",
    "# Apply a new function that subtract max from min in every column\n",
    "\n",
    "\n",
    "df_test.apply(max_minus_min)\n"
   ]
  },
  {
   "cell_type": "markdown",
   "metadata": {
    "slideshow": {
     "slide_type": "slide"
    }
   },
   "source": [
    "<div style=\"background-color:yellow; padding: 10px\"><h3><span></span>Exercise 8</div>\n",
    "\n",
    "<hr>\n",
    "\n",
    "Group students by attempts and find the average score?\n"
   ]
  },
  {
   "cell_type": "code",
   "execution_count": null,
   "metadata": {
    "slideshow": {
     "slide_type": "fragment"
    }
   },
   "outputs": [],
   "source": [
    "# Group students by attempts and find the average score?\n",
    "\n"
   ]
  },
  {
   "cell_type": "markdown",
   "metadata": {
    "slideshow": {
     "slide_type": "slide"
    }
   },
   "source": [
    "<div style=\"background-color:yellow; padding: 10px\"><h3><span></span>Exercise 9</div>\n",
    "\n",
    "<hr>\n",
    "\n",
    "Group students by their pass result and report the variance in scores?"
   ]
  },
  {
   "cell_type": "code",
   "execution_count": null,
   "metadata": {
    "slideshow": {
     "slide_type": "fragment"
    }
   },
   "outputs": [],
   "source": [
    "# Group students by their pass result and report the variance in scores?\n",
    "\n"
   ]
  },
  {
   "cell_type": "markdown",
   "metadata": {
    "slideshow": {
     "slide_type": "slide"
    }
   },
   "source": [
    "1. Introduction to Pandas\n",
    "2. Series\n",
    "    - Exercise 1\n",
    "    - Exercise 2\n",
    "3. Dataframe\n",
    "    - Exercise 3\n",
    "    - Exercise 4\n",
    "4. Import and Store Data\n",
    "5. Summarizing and Computing Descriptive Statistics\n",
    "    - Exercise 6\n",
    "    - Exercise 7\n",
    "6. Grouped and apply\n",
    "    - Exercise 8\n",
    "    - Exercise 9\n",
    "7. **Data Transformation and Normalization**\n",
    "    - Exercise 10\n",
    "    - Exercise 11\n",
    "    - Exercise 12"
   ]
  },
  {
   "cell_type": "markdown",
   "metadata": {
    "slideshow": {
     "slide_type": "subslide"
    }
   },
   "source": [
    "### 7.1 Data Transformation and Normalization\n",
    "\n",
    "<hr>\n",
    "\n",
    "For Machine Learning (ML) and other data analysis it is important to:\n",
    "- Explore your data\n",
    "- Standardize data (Transform/Normalize) to obtain so different columns became comparable / compatible"
   ]
  },
  {
   "cell_type": "markdown",
   "metadata": {
    "slideshow": {
     "slide_type": "subslide"
    }
   },
   "source": [
    "### 7.1 Data Transformation and Normalization - Data Exploration\n",
    "\n",
    "<hr>\n",
    "\n",
    "Pandas Dataframes have a built in plot functionality:\n",
    "- Dataframe.plot()\n",
    "\n",
    "<div style=\"background-color: #9999ff; padding: 10px;\"> NOTE: We will go into more plotting libraries later in the course. </div>"
   ]
  },
  {
   "cell_type": "code",
   "execution_count": null,
   "metadata": {
    "collapsed": true,
    "slideshow": {
     "slide_type": "fragment"
    }
   },
   "outputs": [],
   "source": [
    "# Import  maplotlib and setup to display plots notebook\n",
    "\n",
    "import matplotlib.pyplot as plt\n",
    "%matplotlib inline  "
   ]
  },
  {
   "cell_type": "markdown",
   "metadata": {
    "slideshow": {
     "slide_type": "fragment"
    }
   },
   "source": [
    "- Plot the Number of Medals in barchart by country using: plot.bar()"
   ]
  },
  {
   "cell_type": "code",
   "execution_count": null,
   "metadata": {
    "slideshow": {
     "slide_type": "fragment"
    }
   },
   "outputs": [],
   "source": [
    "# Plot the Number of Medals in barchart by country using: plot.bar()\n",
    "\n",
    "winter_olympics.groupby(['Country'])['Medal'].count().plot.bar()"
   ]
  },
  {
   "cell_type": "markdown",
   "metadata": {
    "slideshow": {
     "slide_type": "fragment"
    }
   },
   "source": [
    "- Other useful plots:\n",
    "    - hist: plot.hist()\n",
    "    - scatter: plot.scatter()\n",
    "    - boxplot: plot.box()"
   ]
  },
  {
   "cell_type": "markdown",
   "metadata": {
    "slideshow": {
     "slide_type": "subslide"
    }
   },
   "source": [
    "### 7.2 Data Transformation and Normalization - Normalization\n",
    "\n",
    "<hr>\n",
    "\n",
    "Why Normalize (re-scale)?\n",
    "- Transform data to obtain a certain distribution e.g. from lognormal to normal\n",
    "- Normalize data so different columns became comparable / compatible\n"
   ]
  },
  {
   "cell_type": "markdown",
   "metadata": {
    "slideshow": {
     "slide_type": "fragment"
    }
   },
   "source": [
    "Typical normalization approach:\n",
    "- Z-score transformation\n",
    "- Scale to between 0 and 1\n",
    "- Trimmed mean normalization\n",
    "- Vector length transformation\n",
    "- Quantilenorm\n",
    "\n",
    "\n",
    "Further Resources:\n",
    "- [scikit-learn](http://scikit-learn.org/stable/modules/preprocessing.html#preprocessing)\n"
   ]
  },
  {
   "cell_type": "markdown",
   "metadata": {
    "slideshow": {
     "slide_type": "slide"
    }
   },
   "source": [
    "### Further Resources\n",
    "\n",
    "<hr>\n",
    "\n",
    "Resources:\n",
    "- [Pandas 10 min](http://pandas.pydata.org/pandas-docs/stable/10min.html)\n",
    "- [Pandas Tutorals](http://pandas.pydata.org/pandas-docs/stable/tutorials.html)\n",
    "- [Pandas Cookbook](http://pandas.pydata.org/pandas-docs/stable/tutorials.html)\n"
   ]
  },
  {
   "cell_type": "markdown",
   "metadata": {
    "slideshow": {
     "slide_type": "slide"
    }
   },
   "source": [
    "<div style=\"background-color:yellow; padding: 10px\"><h3><span></span>Exercise 10</div>\n",
    "\n",
    "<hr>\n",
    "\n",
    "In the Winter olympics which country has the most Biathlon medals?\n",
    "\n",
    "In the Winter olympics which country has the most Skiing medals? And in which event do they have the most Gold medals?"
   ]
  },
  {
   "cell_type": "code",
   "execution_count": null,
   "metadata": {
    "slideshow": {
     "slide_type": "fragment"
    }
   },
   "outputs": [],
   "source": [
    "# In the Winter olympics which country has the most Biathlon medals?\n",
    "\n"
   ]
  },
  {
   "cell_type": "code",
   "execution_count": null,
   "metadata": {
    "slideshow": {
     "slide_type": "fragment"
    }
   },
   "outputs": [],
   "source": []
  },
  {
   "cell_type": "code",
   "execution_count": null,
   "metadata": {
    "slideshow": {
     "slide_type": "fragment"
    }
   },
   "outputs": [],
   "source": [
    "# In the Winter olympics which country has the most Skiing medals? \n",
    "\n"
   ]
  },
  {
   "cell_type": "code",
   "execution_count": null,
   "metadata": {
    "slideshow": {
     "slide_type": "fragment"
    }
   },
   "outputs": [],
   "source": [
    "# And in which event do they have the most Gold medals?\n"
   ]
  },
  {
   "cell_type": "code",
   "execution_count": null,
   "metadata": {
    "slideshow": {
     "slide_type": "fragment"
    }
   },
   "outputs": [],
   "source": []
  },
  {
   "cell_type": "markdown",
   "metadata": {
    "slideshow": {
     "slide_type": "slide"
    }
   },
   "source": [
    "<div style=\"background-color:yellow; padding: 10px\"><h3><span></span>Exercise 11</div>\n",
    "\n",
    "<hr>\n",
    "\n",
    "Import the Summer Olympic dataset located in ('data/summer_olypmics.csv')\n",
    "\n",
    "Which Olympian has the most medals?\n",
    "\n",
    "Which Olympian has the most Gold medals and for which Country and Sport?\n",
    "\n",
    "Which rows have no values and why?"
   ]
  },
  {
   "cell_type": "code",
   "execution_count": null,
   "metadata": {
    "slideshow": {
     "slide_type": "fragment"
    }
   },
   "outputs": [],
   "source": [
    "# Import the Summer Olympic dataset located in ('../data/summer_olypmics.csv')\n",
    "summer_olympics = pd.read_csv('data/summer_olympics.csv')\n",
    "\n",
    "\n",
    "#Which Olympian has the most medals?\n",
    "summer_olympics.groupby(['Athlete'])['Medal'].count().sort_values(ascending=False).head()"
   ]
  },
  {
   "cell_type": "code",
   "execution_count": null,
   "metadata": {
    "slideshow": {
     "slide_type": "fragment"
    }
   },
   "outputs": [],
   "source": [
    "# Which Olympian has the most Gold medals and for which Country?\n",
    "summer_olympics.groupby(['Athlete','Medal','Country'])['Medal'].count().sort_values(ascending=False).head()\n"
   ]
  },
  {
   "cell_type": "code",
   "execution_count": null,
   "metadata": {
    "slideshow": {
     "slide_type": "fragment"
    }
   },
   "outputs": [],
   "source": [
    "# Which Olympian has the most Gold medals and for which Sport?\n",
    "summer_olympics.groupby(['Athlete','Medal','Discipline'])['Medal'].count().sort_values(ascending=False).head()"
   ]
  },
  {
   "cell_type": "code",
   "execution_count": null,
   "metadata": {
    "slideshow": {
     "slide_type": "fragment"
    }
   },
   "outputs": [],
   "source": [
    "# Which rows have no values and why?\n",
    "summer_olympics[pd.isnull(summer_olympics).any(axis=1)]"
   ]
  },
  {
   "cell_type": "markdown",
   "metadata": {
    "slideshow": {
     "slide_type": "slide"
    }
   },
   "source": [
    "<div style=\"background-color:yellow; padding: 10px\"><h3><span></span>Exercise 12</div>\n",
    "\n",
    "<hr>\n",
    "\n",
    "Import the example RNA-seq Count Data in ('data/RNAseq_count_table.txt')\n",
    "\n",
    "Calculate CPM for each Sample. (CPM, Counts Per Million)\n",
    "\n",
    "Formula for CPM = readsMappedToGene x 1/totalNumReads x 10^6\n",
    "\n",
    "totalNumReads - total number of mapped reads of a sample\n",
    "readsMappedToGene - number of reads mapped to a selected gene\n",
    "\n",
    "Which Gene has the highest average CPM?\n",
    "\n",
    "What is the Correlation between SRR1550986 SRR1550987?"
   ]
  },
  {
   "cell_type": "code",
   "execution_count": null,
   "metadata": {
    "slideshow": {
     "slide_type": "fragment"
    }
   },
   "outputs": [],
   "source": [
    "# Import the example RNA-seq Count Data in ('data/RNAseq_count_table.txt')\n",
    "\n",
    "rna_counts = pd.read_csv('data/RNAseq_count_table.txt', sep = '\\t', index_col = 0)\n",
    "rna_counts.head()\n"
   ]
  },
  {
   "cell_type": "code",
   "execution_count": null,
   "metadata": {
    "slideshow": {
     "slide_type": "fragment"
    }
   },
   "outputs": [],
   "source": [
    "# Calculate CPM for each Sample.\n",
    "\n",
    "\n",
    "rna_cpm = rna_counts.divide(rna_counts.sum(axis=0)).multiply(1000000)\n",
    "rna_cpm.head()"
   ]
  },
  {
   "cell_type": "code",
   "execution_count": null,
   "metadata": {
    "slideshow": {
     "slide_type": "fragment"
    }
   },
   "outputs": [],
   "source": [
    "# Which Gene has the highest average CPM?\n",
    "\n",
    "\n",
    "rna_cpm.mean(axis=1).sort_values(ascending=False).head()"
   ]
  },
  {
   "cell_type": "code",
   "execution_count": null,
   "metadata": {
    "slideshow": {
     "slide_type": "fragment"
    }
   },
   "outputs": [],
   "source": [
    "# What is the Correlation between SRR1550986 SRR1550987?\n",
    "\n",
    "rna_cpm.corr()"
   ]
  }
 ],
 "metadata": {
  "celltoolbar": "Slideshow",
  "kernelspec": {
   "display_name": "Python 3",
   "language": "python",
   "name": "python3"
  },
  "language_info": {
   "codemirror_mode": {
    "name": "ipython",
    "version": 3
   },
   "file_extension": ".py",
   "mimetype": "text/x-python",
   "name": "python",
   "nbconvert_exporter": "python",
   "pygments_lexer": "ipython3",
   "version": "3.6.1"
  }
 },
 "nbformat": 4,
 "nbformat_minor": 2
}
