{
 "cells": [
  {
   "cell_type": "markdown",
   "metadata": {},
   "source": [
    "# Question 1: \n",
    "\n",
    "For basic operation using list, tuple and dictionaries"
   ]
  },
  {
   "cell_type": "markdown",
   "metadata": {},
   "source": [
    "### 1.1\n",
    "a. Finds the largest of a list of numbers.\n",
    "<br>Hint: Set up the list as the first line in your program.\n"
   ]
  },
  {
   "cell_type": "code",
   "execution_count": 9,
   "metadata": {},
   "outputs": [
    {
     "name": "stdout",
     "output_type": "stream",
     "text": [
      "The largest number in the list is 26\n"
     ]
    }
   ],
   "source": [
    "maxNumber = 0\n",
    "numberList = [15,4,26,1,9,21,3,6,13]\n",
    "for each in numberList:\n",
    "    if each>maxNumber:\n",
    "        maxNumber = each\n",
    "print(\"The largest number in the list is {0}\".format(maxNumber))"
   ]
  },
  {
   "cell_type": "markdown",
   "metadata": {},
   "source": [
    "### 1.1\n",
    "b. Find the average of a list of numbers using a for loop"
   ]
  },
  {
   "cell_type": "code",
   "execution_count": 13,
   "metadata": {},
   "outputs": [
    {
     "name": "stdout",
     "output_type": "stream",
     "text": [
      "[4, 7, 9, 1, 8, 6]\n",
      "The average of these numbers is 5.83\n"
     ]
    }
   ],
   "source": [
    "runningTotal = 0\n",
    "listOfNumbers = [4,7,9,1,8,6]\n",
    "for each in listOfNumbers:\n",
    "    runningTotal = runningTotal + each\n",
    "    # each time round the loop add the next item to the running total\n",
    "    average = runningTotal/len(listOfNumbers)\n",
    "    # the average is the runningTotal at the end / how many numbers\n",
    "print(listOfNumbers)\n",
    "print(\"The average of these numbers is {0:.2f}\".format(average))"
   ]
  },
  {
   "cell_type": "markdown",
   "metadata": {
    "slideshow": {
     "slide_type": "-"
    }
   },
   "source": [
    "### 1.1\n",
    "c. Write a program that prints string in reverse. Print character by character\n",
    "\n",
    "Input: Python\n",
    "Expected Output: \n",
    "n\n",
    "o\n",
    "h\n",
    "t\n",
    "y\n",
    "P\n",
    "\n",
    "Hint: can use _range, len_ functions<br>\n",
    "`P  y  t  h  o  n\n",
    "0  1  2  3  4  5\n",
    "-6 -5 -4 -3 -2 -1`"
   ]
  },
  {
   "cell_type": "code",
   "execution_count": 3,
   "metadata": {},
   "outputs": [
    {
     "name": "stdout",
     "output_type": "stream",
     "text": [
      "n\n",
      "o\n",
      "h\n",
      "t\n",
      "y\n",
      "P\n"
     ]
    }
   ],
   "source": [
    "word = \"Python\"\n",
    "#print(len(word))\n",
    "for char in range(len(word) - 1, -1, -1): # range(start=5, end=-1, de -1)\n",
    "    print(word[char])"
   ]
  },
  {
   "cell_type": "markdown",
   "metadata": {},
   "source": [
    "### 1.2\n",
    "Write a Python program to count the number of even and odd numbers from a series of numbers.\n",
    "<br>Hint: review of for loop, if statements"
   ]
  },
  {
   "cell_type": "code",
   "execution_count": 65,
   "metadata": {},
   "outputs": [
    {
     "name": "stdout",
     "output_type": "stream",
     "text": [
      "Number of even numbers : 4\n",
      "Number of odd numbers : 5\n"
     ]
    }
   ],
   "source": [
    "numbers = (1, 2, 3, 4, 5, 6, 7, 8, 9) # Declaring the tuple\n",
    "count_odd = 0\n",
    "count_even = 0\n",
    "#type your code here\n",
    "for x in numbers:\n",
    "        if not x % 2:\n",
    "            count_even+=1\n",
    "        else:\n",
    "            count_odd+=1\n",
    "print(\"Number of even numbers :\",count_even)\n",
    "print(\"Number of odd numbers :\",count_odd)"
   ]
  },
  {
   "cell_type": "markdown",
   "metadata": {},
   "source": [
    "### 1.3\n",
    "Check if given list of strings have ECORI **site motif** and print value that doesn't contain the motif until two strings with the **motif** are found\n",
    "motif = \"GAATTC\"  (5' for ECORI restriction site)\n",
    "\n",
    "Output:\n",
    "<br>`AGTGAACCGTCAGATCCGCTAGCGCGAATTC doesn't contain the motif\n",
    "GGAGACCGACACCCTCCTGCTATGGGTGCTGCTGCTC doesn't contain the motif\n",
    "TGGGTGCCCGGCAGCACCGGCGACGCACCGGTCGC doesn't contain the motif\n",
    "CACCATGGTGAGCAAGGGCGAGGAGAATAACATGGCC doesn't contain the motif\n",
    "Two strings in given list contain the motif`"
   ]
  },
  {
   "cell_type": "code",
   "execution_count": 14,
   "metadata": {},
   "outputs": [
    {
     "name": "stdout",
     "output_type": "stream",
     "text": [
      "AGTGAACCGTCAGATCCGCTAGCGCGAATTC : doesn't contain the motif\n",
      "GGAGACCGACACCCTCCTGCTATGGGTGCTGCTGCTC : doesn't contain the motif\n",
      "TGGGTGCCCGGCAGCACCGGCGACGCACCGGTCGC : doesn't contain the motif\n",
      "CACCATGGTGAGCAAGGGCGAGGAGAATAACATGGCC : doesn't contain the motif\n",
      "Two strings in given list contain the motif\n"
     ]
    }
   ],
   "source": [
    "motif = \"GAATTC\"\n",
    "count = 0\n",
    "dna_strings = ['AGTGAACCGTCAGATCCGCTAGCGCGAATTC','GGAGACCGACACCCTCCTGCTATGGGTGCTGCTGCTC','TGGGTGCCCGGCAGCACCGGCGACGCACCGGTCGC',\n",
    "               'CACCATGGTGAGCAAGGGCGAGGAGAATAACATGGCC','ATCATCAAGGAGTTCATGCGCTTCAAGAATTC','CATGGAGGGCTCCGTGAACGGCCACGAGTTCGAGA'\n",
    "               ,'TCGAGGGCGAGGGCGAGGGCCGCCCCTACGAGGCCTT']\n",
    "#type your code\n",
    "for item in dna_strings:\n",
    "    if(item.find(motif) >= 1):\n",
    "        count+=1\n",
    "    if(count==2):\n",
    "        print(\"Two strings in given list contain the motif\")\n",
    "        break;\n",
    "    else:\n",
    "        print(item ,': doesn\\'t contain the motif')"
   ]
  },
  {
   "cell_type": "markdown",
   "metadata": {},
   "source": [
    "### 1.4\n",
    "Write a Python program that prints all the numbers in range from 0 to 10 except 5 and 10.\n",
    "<br> Hint: use _continue_"
   ]
  },
  {
   "cell_type": "code",
   "execution_count": 16,
   "metadata": {},
   "outputs": [
    {
     "name": "stdout",
     "output_type": "stream",
     "text": [
      "0 1 2 3 4 6 7 8 9 \n",
      "\n"
     ]
    }
   ],
   "source": [
    "#type your code here\n",
    "for value in range(10):\n",
    "    if (value == 5 or value==10):\n",
    "        continue\n",
    "    print(value,end=' ')\n",
    "print(\"\\n\")"
   ]
  },
  {
   "cell_type": "markdown",
   "metadata": {},
   "source": [
    "### 1.5 (Multi-Part)\n",
    "Next series of tasks about lists and list manipulations:\n",
    "<br>`a. Create a list of 5 of your favorite things.`\n"
   ]
  },
  {
   "cell_type": "code",
   "execution_count": 17,
   "metadata": {
    "collapsed": true
   },
   "outputs": [],
   "source": [
    "my_favorites=['Music', 'Movies', 'Coding', 'Biology', 'Python']"
   ]
  },
  {
   "cell_type": "markdown",
   "metadata": {},
   "source": [
    "`b. Use the print() function to print your list.`\n"
   ]
  },
  {
   "cell_type": "code",
   "execution_count": 18,
   "metadata": {},
   "outputs": [
    {
     "name": "stdout",
     "output_type": "stream",
     "text": [
      "['Music', 'Movies', 'Coding', 'Biology', 'Python']\n"
     ]
    }
   ],
   "source": [
    "print(my_favorites)"
   ]
  },
  {
   "cell_type": "markdown",
   "metadata": {},
   "source": [
    "`c. Use the print() function to print out the middle element.`"
   ]
  },
  {
   "cell_type": "code",
   "execution_count": 19,
   "metadata": {},
   "outputs": [
    {
     "name": "stdout",
     "output_type": "stream",
     "text": [
      "Coding\n"
     ]
    }
   ],
   "source": [
    "print(my_favorites[2])"
   ]
  },
  {
   "cell_type": "markdown",
   "metadata": {
    "collapsed": true
   },
   "source": [
    "`d. Now replace the middle element with a different item, your favorite song, or song bird.`"
   ]
  },
  {
   "cell_type": "code",
   "execution_count": 71,
   "metadata": {
    "collapsed": true
   },
   "outputs": [],
   "source": [
    "my_favorites[2]='European robin'"
   ]
  },
  {
   "cell_type": "markdown",
   "metadata": {},
   "source": [
    "`e. Use the same print statement from b. to print your new list. Check out the differences.`"
   ]
  },
  {
   "cell_type": "code",
   "execution_count": 72,
   "metadata": {},
   "outputs": [
    {
     "name": "stdout",
     "output_type": "stream",
     "text": [
      "['Music', 'Movies', 'European robin', 'Biology', 'Python']\n"
     ]
    }
   ],
   "source": [
    "print(my_favorites)"
   ]
  },
  {
   "cell_type": "markdown",
   "metadata": {
    "collapsed": true
   },
   "source": [
    "`f. Add a new element to the end. Read about append().`"
   ]
  },
  {
   "cell_type": "code",
   "execution_count": 74,
   "metadata": {
    "collapsed": true
   },
   "outputs": [],
   "source": [
    "my_favorites.append('Monkeys')"
   ]
  },
  {
   "cell_type": "markdown",
   "metadata": {},
   "source": [
    "`g. Add a new element to the beginning. Read about insert().`"
   ]
  },
  {
   "cell_type": "code",
   "execution_count": 75,
   "metadata": {
    "collapsed": true
   },
   "outputs": [],
   "source": [
    "my_favorites.insert(0, 'Evolution')"
   ]
  },
  {
   "cell_type": "markdown",
   "metadata": {},
   "source": [
    "`h. Add a new element somewhere other than the beginning or the end.`"
   ]
  },
  {
   "cell_type": "code",
   "execution_count": 76,
   "metadata": {
    "collapsed": true
   },
   "outputs": [],
   "source": [
    "my_favorites.insert(3, 'Coffee')"
   ]
  },
  {
   "cell_type": "markdown",
   "metadata": {},
   "source": [
    "### 1.6\n",
    "Write a script that splits a string into a list:\n",
    "\n",
    "- Save the string sapiens, erectus, neanderthalensis as a variable.\n",
    "- Print the string.\n",
    "- Split the string into individual words and print the result of the split. (Think about the ', '.)\n",
    "- Store the resulting list in a new variable.\n",
    "- Print the list.\n",
    "- Sort the list alphabetically and print (hint: lookup the function sorted()).\n",
    "- Sort the list by length of each string and print. (The shortest string should be first). Check out documentation of the key argument.`"
   ]
  },
  {
   "cell_type": "code",
   "execution_count": 20,
   "metadata": {},
   "outputs": [
    {
     "name": "stdout",
     "output_type": "stream",
     "text": [
      "sapiens, erectus, neanderthalensis\n",
      "hominin_individuals\n",
      "List:  [' erectus', ' neanderthalensis', 'sapiens']\n",
      "['sapiens', ' erectus', ' neanderthalensis']\n"
     ]
    }
   ],
   "source": [
    "#type your code\n",
    "hominins='sapiens, erectus, neanderthalensis'\n",
    "print(hominins)\n",
    "hominin_individuals=hominins.split(',')\n",
    "print('hominin_individuals')\n",
    "hominin_individuals=sorted(hominin_individuals)\n",
    "print(\"List: \", hominin_individuals)\n",
    "hominin_individuals=sorted(hominin_individuals, key=len)\n",
    "print(hominin_individuals)"
   ]
  },
  {
   "cell_type": "markdown",
   "metadata": {
    "collapsed": true
   },
   "source": [
    "### Extra Pratice: 1.7\n",
    "Use list comprehension to generate a list of tuples. The tuples should contain sequences and lengths from the previous problem. Print out the length and the sequence (i.e., \"4\\tATGC\\n\")."
   ]
  },
  {
   "cell_type": "code",
   "execution_count": 21,
   "metadata": {},
   "outputs": [
    {
     "name": "stdout",
     "output_type": "stream",
     "text": [
      "[('ATGCCCGGCCCGGC', 14), ('GCGTGCTAGCAATACGATAAACCGG', 25), ('ATATATATCGAT', 12), ('ATGGGCCC', 8)]\n"
     ]
    }
   ],
   "source": [
    "sequences=['ATGCCCGGCCCGGC','GCGTGCTAGCAATACGATAAACCGG', 'ATATATATCGAT','ATGGGCCC']\n",
    "seq_lengths=[(seq, len(seq)) for seq in sequences]\n",
    "print(seq_lengths)"
   ]
  },
  {
   "cell_type": "markdown",
   "metadata": {},
   "source": [
    "## Question 2: Dictionaries and Set"
   ]
  },
  {
   "cell_type": "markdown",
   "metadata": {},
   "source": [
    "### 2.1\n",
    "Create a dictionary store DNA restriction enzyme names and their motifs from:\n",
    "<br>https://www.neb.com/tools-and-resources/selection-charts/alphabetized-list-of-recognition-specificities\n",
    "<br>`eg:\n",
    "EcoRI = GAATTC\n",
    "AvaII = GGACC\n",
    "BisI  = GGACC`"
   ]
  },
  {
   "cell_type": "code",
   "execution_count": 22,
   "metadata": {},
   "outputs": [
    {
     "name": "stdout",
     "output_type": "stream",
     "text": [
      "{'EcoRI': 'GAATTC', 'AvaII': 'GGACC', 'BisI': 'GCATGCGC', 'SacII': 'CCGCGG', 'BamHI': 'GGATCC'}\n"
     ]
    }
   ],
   "source": [
    "enzymes = { 'EcoRI':'GAATTC','AvaII':'GGACC', 'BisI':'GCATGCGC' , 'SacII': r'CCGCGG','BamHI': 'GGATCC'}\n",
    "print(enzymes)"
   ]
  },
  {
   "cell_type": "markdown",
   "metadata": {},
   "source": [
    "`a. look up the motif for a particular SacII enzyme`"
   ]
  },
  {
   "cell_type": "code",
   "execution_count": 23,
   "metadata": {},
   "outputs": [
    {
     "name": "stdout",
     "output_type": "stream",
     "text": [
      "CCGCGG\n"
     ]
    }
   ],
   "source": [
    "print(enzymes['SacII'])"
   ]
  },
  {
   "cell_type": "markdown",
   "metadata": {},
   "source": [
    "`b. add below two enzymes and their motifs to dictionary`\n",
    "<br>\n",
    "KasI: GGCGCC\n",
    "AscI: GGCGCGCC\n",
    "EciI: GGCGGA"
   ]
  },
  {
   "cell_type": "code",
   "execution_count": 24,
   "metadata": {},
   "outputs": [
    {
     "name": "stdout",
     "output_type": "stream",
     "text": [
      "{'EcoRI': 'GAATTC', 'AvaII': 'GGACC', 'BisI': 'GCATGCGC', 'SacII': 'CCGCGG', 'BamHI': 'GGATCC', 'KasI': 'GGCGCC', 'AscI': 'GGCGCGCC'}\n"
     ]
    }
   ],
   "source": [
    "enzymes['KasI'] = 'GGCGCC'\n",
    "enzymes['AscI'] = 'GGCGCGCC'\n",
    "print(enzymes)"
   ]
  },
  {
   "cell_type": "markdown",
   "metadata": {},
   "source": [
    "### 2.2\n",
    "Suppose _dna_ is a string variable that contains only 'A','C','G' or 'T' characters. \n",
    "Write code to find and print the character and frequency (max_freq) of the most frequent character in string _dna_?\n",
    "<br>\n"
   ]
  },
  {
   "cell_type": "code",
   "execution_count": 26,
   "metadata": {},
   "outputs": [
    {
     "name": "stdout",
     "output_type": "stream",
     "text": [
      "{'T': 5, 'C': 2, 'G': 3, 'A': 6}\n",
      "6\n"
     ]
    }
   ],
   "source": [
    "dna = 'AAATTCGTGACTGTAA'\n",
    "dna_counts= {'T':dna.count('T'),'C':dna.count('C'),'G':dna.count('G'),'A':dna.count('A')}\n",
    "print(dna_counts)\n",
    "max_freq= sorted(dna_counts.values())[-1]\n",
    "print(max_freq)"
   ]
  },
  {
   "cell_type": "markdown",
   "metadata": {},
   "source": [
    "### 2.3\n",
    "If you create a __set__ using a DNA sequence, what will you get back? Try it with this sequence:\n",
    "\n",
    "GATGGGATTGGGGTTTTCCCCTCCCATGTGCTCAAGACTGGCGCTAAAAGTTTTGAGCTTCTCAAAAGTCTAGAGCCACCGTCCAGGGAGCAGGTAGCTGCTGGGCTCCGGGGACACTTTGCGTTCGGGCTGGGAGCGTGCTTTCCACGACGGTGACACGCTTCCCTGGATTGGCAGCCAGACTGCCTTCCGGGTCACTGCCATGGAGGAGCCGCAGTCAGATCCTAGCGTCGAGCCCCCTCTGAGTCAGGAAACATTTTCAGACCTATGGAAACTACTTCCTGAAAACAACGTTCTGTCCCCCTTGCCGTCCCAAGCAATGGATGATTTGATGCTGTCCCCGGACGATATTGAACAATGGTTCACTGAAGACCCAGGTCCAGATGAAGCTCCCAGAATTCGCCAGAGGCTGCTCCCCCCGTGGCCCCTGCACCAGCAGCTCCTACACCGGCGGCCCCTGCACCAGCCCCCTCCTGGCCCCTGTCATCTTCTGTCCCTTCCCAGAAAACCTACCAGGGCAGCTACGGTTTCCGTCTGGGCTTCTTGCATTCTGGGACAGCCAAGTCTGTGACTTGCACGTACTCCCCTGCCCTCAACAAGATGTTTTGCCAACTGGCCAAGACCTGCCCTGTGCAGCTGTGGGTTGATTCCACACCCCCGCCCGGCACCCGCGTCCGCGCCATGGCCATCTACAAGCAGTCACAGCACATGACGGAGGTTGTGAGGCGCTGCCCCCACCATGAGCGCTGCTCAGATAGCGATGGTCTGGCCCCTCCTCAGCATCTTATCCGAGTGGAAGGAAATTTGCGTGTGGAGTATTTGGATGACAGAAACACTTTTCGTGGGGTTTTCCCCTCCCATGTGCTCAAGACTGGCGCTAAAAGTTTTGAGCTTCTCAAAAGTCTAGAGCCACCGTCCAGGGAGCAGGTAGCTGCTGGGCTCCGGGGACACTTTGCGTTCGGGCTGGGAGCGTGCTTTCCACGACGGTGACACGCTTCCCTGGATTGGCAGCCAGACTGCCTTCCGGGTCACTGCCATGGAGGAGCCGCAGTCAGATCCTAGCGTCGAGCCCCCTCTGAGTCAGGAAACATTTTCAGACCTATGGAAACTACTTCCTGAAAACAACGTTCTGTCCCCCTTGCCGTCCCAAGCAATGGATGATTTGATGCTGTCCCCGGACGATATTGAACAATGGTTCACTGAAGACCCAGGTCCAGATGAAGCTCCCAGAATTCGCCAGAGGCTGCTCCCCCCGTGGCCCCTGCACCAGCAGCTCCTACACCGGCGGCCCCTGCACCAGCCCCCTCCTGGCCCCTGTCATCTTCTGTCCCTTCCCAGAAAACCTACCAGGGCAGCTACGGTTTCCGTCTGGGCTTCTTGCATTCTGGGACAGCCAAGTCTGTGACTTGCACGTACTCCCCTGCCCTCAACAAGATGTTTTGCCAACTGGCCAAGACCTGCCCTGTGCAGCTGTGGGTTGATTCCACACCCCCGCCCGGCACCCGCGTCCGCGCCATGGCCATCTACAAGCAGTCACAGCACATGACGGAGGTTGTGAGGCGCTGCCCCCACCATGAGCGCTGCTCAGATAGCGATGGTCTGGCCCCTCCTCAGCATCTTATCCGAGTGGAAGGAAATTTGCGTGTGGAGTATTTGGATGAC"
   ]
  },
  {
   "cell_type": "code",
   "execution_count": 83,
   "metadata": {},
   "outputs": [
    {
     "name": "stdout",
     "output_type": "stream",
     "text": [
      "DNA_set contains {'T', 'G', 'A', 'C'}\n"
     ]
    }
   ],
   "source": [
    "DNA='GATGGGATTGGGGTTTTCCCCTCCCATGTGCTCAAGACTGGCGCTAAAAGTTTTGAGCTTCTCAAAAGTCTAGAGCCACCGTCCAGGGAGCAGGTAGCTGCTGGGCTCCGGGGACACTTTGCGTTCGGGCTGGGAGCGTGCTTTCCACGACGGTGACACGCTTCCCTGGATTGGCAGCCAGACTGCCTTCCGGGTCACTGCCATGGAGGAGCCGCAGTCAGATCCTAGCGTCGAGCCCCCTCTGAGTCAGGAAACATTTTCAGACCTATGGAAACTACTTCCTGAAAACAACGTTCTGTCCCCCTTGCCGTCCCAAGCAATGGATGATTTGATGCTGTCCCCGGACGATATTGAACAATGGTTCACTGAAGACCCAGGTCCAGATGAAGCTCCCAGAATTCGCCAGAGGCTGCTCCCCCCGTGGCCCCTGCACCAGCAGCTCCTACACCGGCGGCCCCTGCACCAGCCCCCTCCTGGCCCCTGTCATCTTCTGTCCCTTCCCAGAAAACCTACCAGGGCAGCTACGGTTTCCGTCTGGGCTTCTTGCATTCTGGGACAGCCAAGTCTGTGACTTGCACGTACTCCCCTGCCCTCAACAAGATGTTTTGCCAACTGGCCAAGACCTGCCCTGTGCAGCTGTGGGTTGATTCCACACCCCCGCCCGGCACCCGCGTCCGCGCCATGGCCATCTACAAGCAGTCACAGCACATGACGGAGGTTGTGAGGCGCTGCCCCCACCATGAGCGCTGCTCAGATAGCGATGGTCTGGCCCCTCCTCAGCATCTTATCCGAGTGGAAGGAAATTTGCGTGTGGAGTATTTGGATGACAGAAACACTTTTCGTGGGGTTTTCCCCTCCCATGTGCTCAAGACTGGCGCTAAAAGTTTTGAGCTTCTCAAAAGTCTAGAGCCACCGTCCAGGGAGCAGGTAGCTGCTGGGCTCCGGGGACACTTTGCGTTCGGGCTGGGAGCGTGCTTTCCACGACGGTGACACGCTTCCCTGGATTGGCAGCCAGACTGCCTTCCGGGTCACTGCCATGGAGGAGCCGCAGTCAGATCCTAGCGTCGAGCCCCCTCTGAGTCAGGAAACATTTTCAGACCTATGGAAACTACTTCCTGAAAACAACGTTCTGTCCCCCTTGCCGTCCCAAGCAATGGATGATTTGATGCTGTCCCCGGACGATATTGAACAATGGTTCACTGAAGACCCAGGTCCAGATGAAGCTCCCAGAATTCGCCAGAGGCTGCTCCCCCCGTGGCCCCTGCACCAGCAGCTCCTACACCGGCGGCCCCTGCACCAGCCCCCTCCTGGCCCCTGTCATCTTCTGTCCCTTCCCAGAAAACCTACCAGGGCAGCTACGGTTTCCGTCTGGGCTTCTTGCATTCTGGGACAGCCAAGTCTGTGACTTGCACGTACTCCCCTGCCCTCAACAAGATGTTTTGCCAACTGGCCAAGACCTGCCCTGTGCAGCTGTGGGTTGATTCCACACCCCCGCCCGGCACCCGCGTCCGCGCCATGGCCATCTACAAGCAGTCACAGCACATGACGGAGGTTGTGAGGCGCTGCCCCCACCATGAGCGCTGCTCAGATAGCGATGGTCTGGCCCCTCCTCAGCATCTTATCCGAGTGGAAGGAAATTTGCGTGTGGAGTATTTGGATGAC'\n",
    "DNA_set = set(DNA)\n",
    "print('DNA_set contains {}'.format(DNA_set))"
   ]
  }
 ],
 "metadata": {
  "celltoolbar": "Slideshow",
  "kernelspec": {
   "display_name": "Python 3",
   "language": "python",
   "name": "python3"
  },
  "language_info": {
   "codemirror_mode": {
    "name": "ipython",
    "version": 3
   },
   "file_extension": ".py",
   "mimetype": "text/x-python",
   "name": "python",
   "nbconvert_exporter": "python",
   "pygments_lexer": "ipython3",
   "version": "3.6.1"
  }
 },
 "nbformat": 4,
 "nbformat_minor": 2
}
