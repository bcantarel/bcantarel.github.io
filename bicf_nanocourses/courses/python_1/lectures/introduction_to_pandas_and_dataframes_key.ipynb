{
 "cells": [
  {
   "cell_type": "markdown",
   "metadata": {
    "slideshow": {
     "slide_type": "slide"
    }
   },
   "source": [
    "# Intoduction to Pandas and Dataframes\n",
    "\n",
    "<hr>\n",
    "\n",
    "**Venkat Malladi** (Computational Biologist BICF)\n",
    "\n",
    "![python_xkcd.png](img/python_xkcd.png)\n",
    "\n",
    "\n",
    "\n",
    "\n",
    "\n",
    "\n",
    "\n",
    "\n"
   ]
  },
  {
   "cell_type": "markdown",
   "metadata": {
    "slideshow": {
     "slide_type": "slide"
    }
   },
   "source": [
    "## Agenda\n",
    "\n",
    "<hr>\n",
    "\n",
    "1. **Introduction to Pandas**\n",
    "2. DataSeries\n",
    "    - Exercise 1\n",
    "    - Exercise 2\n",
    "3. Dataframe \n",
    "    - Exercise 3\n",
    "    - Exercise 4\n",
    "    - Exercise 5\n",
    "4. Import and Store Data\n",
    "5. Summarizing and Computing Descriptive Statistics\n",
    "    - Exercise 6\n",
    "    - Exercise 7\n",
    "6. Grouped and apply\n",
    "    - Exercise 8\n",
    "    - Exercise 9\n",
    "7. Data Transformation and Normalization\n",
    "    - Exercise 10\n",
    "    - Exercise 11\n",
    "    - Exercise 12\n",
    "  "
   ]
  },
  {
   "cell_type": "markdown",
   "metadata": {
    "slideshow": {
     "slide_type": "subslide"
    }
   },
   "source": [
    "### 1.1 What is Pandas?\n",
    "\n",
    "<hr>\n",
    "\n",
    "![pandas_logo.png](img/pandas_logo.png)\n",
    "\n",
    "### Description\n",
    "\n",
    "- Python library providing high-performance, easy-to-use structures and data analysis tools.\n",
    "- Suitable for tabular data with heterogeneously-typed colums, as in an SQL table or Excel spreadsheet\n",
    "- Provides data analysis feautures similar to: R, MATLAB, SAS\n",
    "- Based on [NumPy](http://www.numpy.org/)\n"
   ]
  },
  {
   "cell_type": "markdown",
   "metadata": {
    "slideshow": {
     "slide_type": "subslide"
    }
   },
   "source": [
    "### 1.2 Key Features\n",
    "\n",
    "<hr>\n",
    "\n",
    "The library is oriented towards table-like data structures that can be manipulated by a collection of methods:\n",
    "\n",
    "- Easy handling of **missing data**\n",
    "- Label-based **slicing, indexing and subsetting** of large data sets\n",
    "- Powerful and flexible **group by functionality** to perform split-apply-combine operations on data sets\n",
    "- **Read/Write** data from/to Excel, CSV, SQL databases, JSON"
   ]
  },
  {
   "cell_type": "markdown",
   "metadata": {
    "slideshow": {
     "slide_type": "subslide"
    }
   },
   "source": [
    "### 1.3 Import Pandas\n",
    "\n",
    "<hr>\n",
    "\n",
    "Before we explore the pandas package, let's import pandas. \n",
    "\n",
    "The convention is to use **pd** to refere to pandas when importing the package.\n"
   ]
  },
  {
   "cell_type": "code",
   "execution_count": 1,
   "metadata": {
    "collapsed": true,
    "slideshow": {
     "slide_type": "fragment"
    }
   },
   "outputs": [],
   "source": [
    "# Import Pandas and Numpy\n",
    "\n",
    "import pandas as pd\n",
    "import numpy as np"
   ]
  },
  {
   "cell_type": "markdown",
   "metadata": {
    "slideshow": {
     "slide_type": "subslide"
    }
   },
   "source": [
    "### 1.4 Data Structures\n",
    "\n",
    "- Series\n",
    "- Dataframe"
   ]
  },
  {
   "cell_type": "markdown",
   "metadata": {
    "slideshow": {
     "slide_type": "slide"
    }
   },
   "source": [
    "## Agenda\n",
    "\n",
    "<hr>\n",
    "\n",
    "1. Introduction to Pandas\n",
    "2. **Series**\n",
    "    - Exercise 1\n",
    "    - Exercise 2\n",
    "3. Dataframe \n",
    "    - Exercise 3\n",
    "    - Exercise 4\n",
    "    - Exercise 5\n",
    "4. Import and Store Data\n",
    "5. Summarizing and Computing Descriptive Statistics\n",
    "    - Exercise 6\n",
    "    - Exercise 7\n",
    "6. Grouped and apply\n",
    "    - Exercise 8\n",
    "    - Exercise 9\n",
    "7. Data Transformation and Normalization\n",
    "    - Exercise 10\n",
    "    - Exercise 11\n",
    "    - Exercise 12"
   ]
  },
  {
   "cell_type": "markdown",
   "metadata": {
    "slideshow": {
     "slide_type": "subslide"
    }
   },
   "source": [
    "### 2.1 Series \n",
    "\n",
    "<hr>\n",
    "\n",
    "- One dimensional array-like object\n",
    "- Contains array of data (of any NumPy data type) with an index that labels each element in the vector. \n",
    "    \n",
    "    - Indexes can be:\n",
    "        - integers\n",
    "        - strings\n",
    "        - other data types\n",
    "\n",
    "\n",
    "<div style=\"background-color: #9999ff; padding: 10px;\">NOTE: Not Numpy arrays but adds functionality to a Numpy array </div>\n"
   ]
  },
  {
   "cell_type": "markdown",
   "metadata": {
    "slideshow": {
     "slide_type": "subslide"
    }
   },
   "source": [
    "### 2.2 Series - Integer indexes\n",
    "\n",
    "<hr>\n",
    "\n",
    "- If an *index* **is not** specified, a default sequence of integers is assigned as index.\n",
    "\n",
    "| Index  | Value  |\n",
    "| ------ | ------ |\n",
    "| 0      | 35     |\n",
    "| 1      | 50     |\n",
    "| 2      | 25     |"
   ]
  },
  {
   "cell_type": "markdown",
   "metadata": {
    "slideshow": {
     "slide_type": "fragment"
    }
   },
   "source": [
    "- Make a Series of count data"
   ]
  },
  {
   "cell_type": "code",
   "execution_count": 2,
   "metadata": {
    "slideshow": {
     "slide_type": "fragment"
    }
   },
   "outputs": [
    {
     "data": {
      "text/plain": [
       "0    223\n",
       "1     43\n",
       "2     53\n",
       "3     24\n",
       "4     43\n",
       "dtype: int64"
      ]
     },
     "execution_count": 2,
     "metadata": {},
     "output_type": "execute_result"
    }
   ],
   "source": [
    "# Make Series of count data and visaulize series\n",
    "\n",
    "counts = pd.Series([223, 43, 53, 24, 43])\n",
    "counts"
   ]
  },
  {
   "cell_type": "markdown",
   "metadata": {
    "slideshow": {
     "slide_type": "fragment"
    }
   },
   "source": [
    "- What datatype is the counts object?"
   ]
  },
  {
   "cell_type": "code",
   "execution_count": 3,
   "metadata": {
    "slideshow": {
     "slide_type": "fragment"
    }
   },
   "outputs": [
    {
     "data": {
      "text/plain": [
       "pandas.core.series.Series"
      ]
     },
     "execution_count": 3,
     "metadata": {},
     "output_type": "execute_result"
    }
   ],
   "source": [
    "# What datatype is the counts object?\n",
    "\n",
    "type(counts)"
   ]
  },
  {
   "cell_type": "markdown",
   "metadata": {
    "slideshow": {
     "slide_type": "subslide"
    }
   },
   "source": [
    "### 2.3 Series - String indexes\n",
    "\n",
    "<hr>\n",
    "\n",
    "- We can assign meaningful lables to the indexes when making the Series object by specfing an array of **index**\n",
    "\n",
    "| Index  | Value  |\n",
    "| ------ | ------ |\n",
    "| CA     | 35     |\n",
    "| TX     | 50     |\n",
    "| OK     | 25     |"
   ]
  },
  {
   "cell_type": "markdown",
   "metadata": {
    "slideshow": {
     "slide_type": "fragment"
    }
   },
   "source": [
    " - Make Series of count data with Gene Symbols"
   ]
  },
  {
   "cell_type": "code",
   "execution_count": 4,
   "metadata": {
    "slideshow": {
     "slide_type": "fragment"
    }
   },
   "outputs": [
    {
     "data": {
      "text/plain": [
       "BRCA2    50\n",
       "GATA2    10\n",
       "Myc      12\n",
       "FOXA1    29\n",
       "ERCC2     4\n",
       "dtype: int64"
      ]
     },
     "execution_count": 4,
     "metadata": {},
     "output_type": "execute_result"
    }
   ],
   "source": [
    "# Make Series of count data with Gene Symbols\n",
    "\n",
    "rna_counts = pd.Series([50, 10, 12, 29, 4], index=['BRCA2', 'GATA2', 'Myc', 'FOXA1', 'ERCC2'])\n",
    "rna_counts"
   ]
  },
  {
   "cell_type": "markdown",
   "metadata": {
    "slideshow": {
     "slide_type": "subslide"
    }
   },
   "source": [
    "### 2.4 Series - Dictionary\n",
    "\n",
    "<hr>\n",
    "\n",
    "- Can be thought of as a dict\n",
    "- Can be constructed from a dict directly.\n"
   ]
  },
  {
   "cell_type": "markdown",
   "metadata": {
    "slideshow": {
     "slide_type": "fragment"
    }
   },
   "source": [
    "- Construct second sample RNA-counts dict"
   ]
  },
  {
   "cell_type": "code",
   "execution_count": 5,
   "metadata": {
    "slideshow": {
     "slide_type": "fragment"
    }
   },
   "outputs": [
    {
     "data": {
      "text/plain": [
       "{'BRCA1': 20, 'BRCA2': 5, 'ERCC2': 0, 'FOXA1': 10, 'GATA2': 20, 'Myc': 45}"
      ]
     },
     "execution_count": 5,
     "metadata": {},
     "output_type": "execute_result"
    }
   ],
   "source": [
    "# Construct second sample RNA-counts dict\n",
    "\n",
    "cell2_counts = {'BRCA2':5, 'GATA2':20, 'Myc':45, 'FOXA1':10, 'ERCC2':0, 'BRCA1': 20}\n",
    "cell2_counts"
   ]
  },
  {
   "cell_type": "markdown",
   "metadata": {
    "slideshow": {
     "slide_type": "fragment"
    }
   },
   "source": [
    "- Make pandas Series from RNA-counts dict"
   ]
  },
  {
   "cell_type": "code",
   "execution_count": 6,
   "metadata": {
    "slideshow": {
     "slide_type": "fragment"
    }
   },
   "outputs": [
    {
     "data": {
      "text/plain": [
       "BRCA1    20\n",
       "BRCA2     5\n",
       "ERCC2     0\n",
       "FOXA1    10\n",
       "GATA2    20\n",
       "Myc      45\n",
       "dtype: int64"
      ]
     },
     "execution_count": 6,
     "metadata": {},
     "output_type": "execute_result"
    }
   ],
   "source": [
    "# Make pandas Series from RNA-counts dict\n",
    "\n",
    "rna_counts_cell2 = pd.Series(cell2_counts)\n",
    "rna_counts_cell2\n"
   ]
  },
  {
   "cell_type": "markdown",
   "metadata": {
    "slideshow": {
     "slide_type": "subslide"
    }
   },
   "source": [
    "### 2.5.1 Series - Referencing Elements - Integer\n",
    "\n",
    "<hr>\n",
    "\n",
    "<div style=\"background-color: #9999ff; padding: 10px;\">NOTE: We can access the values like an array text </div>\n",
    "\n",
    "- Integer Index"
   ]
  },
  {
   "cell_type": "markdown",
   "metadata": {
    "slideshow": {
     "slide_type": "fragment"
    }
   },
   "source": [
    "- Access the 1st element of counts data"
   ]
  },
  {
   "cell_type": "code",
   "execution_count": 7,
   "metadata": {
    "slideshow": {
     "slide_type": "fragment"
    }
   },
   "outputs": [
    {
     "data": {
      "text/plain": [
       "223"
      ]
     },
     "execution_count": 7,
     "metadata": {},
     "output_type": "execute_result"
    }
   ],
   "source": [
    "# Access the 1st element of counts data\n",
    "\n",
    "counts[0]"
   ]
  },
  {
   "cell_type": "markdown",
   "metadata": {
    "slideshow": {
     "slide_type": "fragment"
    }
   },
   "source": [
    "- Get the 2nd through 4th elements"
   ]
  },
  {
   "cell_type": "code",
   "execution_count": 8,
   "metadata": {
    "slideshow": {
     "slide_type": "fragment"
    }
   },
   "outputs": [
    {
     "data": {
      "text/plain": [
       "1    43\n",
       "2    53\n",
       "3    24\n",
       "dtype: int64"
      ]
     },
     "execution_count": 8,
     "metadata": {},
     "output_type": "execute_result"
    }
   ],
   "source": [
    "# Get the 2nd through 4th elements\n",
    "\n",
    "counts[1:4]"
   ]
  },
  {
   "cell_type": "markdown",
   "metadata": {
    "slideshow": {
     "slide_type": "subslide"
    }
   },
   "source": [
    "### 2.5.2 Series - Referencing Elements - String\n",
    "\n",
    "<hr>\n",
    "\n",
    "- String Index"
   ]
  },
  {
   "cell_type": "markdown",
   "metadata": {
    "slideshow": {
     "slide_type": "fragment"
    }
   },
   "source": [
    "- Get the counts for the Myc Gene"
   ]
  },
  {
   "cell_type": "code",
   "execution_count": 9,
   "metadata": {
    "slideshow": {
     "slide_type": "fragment"
    }
   },
   "outputs": [
    {
     "data": {
      "text/plain": [
       "12"
      ]
     },
     "execution_count": 9,
     "metadata": {},
     "output_type": "execute_result"
    }
   ],
   "source": [
    "# Get the counts for Myc Gene\n",
    "\n",
    "rna_counts['Myc']"
   ]
  },
  {
   "cell_type": "markdown",
   "metadata": {
    "slideshow": {
     "slide_type": "fragment"
    }
   },
   "source": [
    "- Get the counts for FOXA1, GATA2 and BRCA2"
   ]
  },
  {
   "cell_type": "code",
   "execution_count": 10,
   "metadata": {
    "slideshow": {
     "slide_type": "fragment"
    }
   },
   "outputs": [
    {
     "data": {
      "text/plain": [
       "FOXA1    29\n",
       "GATA2    10\n",
       "BRCA2    50\n",
       "dtype: int64"
      ]
     },
     "execution_count": 10,
     "metadata": {},
     "output_type": "execute_result"
    }
   ],
   "source": [
    "# Get the Counts for FOXA1, GATA2 and BRCA2\n",
    "\n",
    "rna_counts[['FOXA1', 'GATA2', 'BRCA2']]"
   ]
  },
  {
   "cell_type": "markdown",
   "metadata": {
    "slideshow": {
     "slide_type": "subslide"
    }
   },
   "source": [
    "### 2.5.3 Series - Referencing Elements - array/index values\n",
    "\n",
    "<hr>\n",
    "\n",
    "- Can get the **array representation** and **index object** of the Series via its values and index atrributes, respectively."
   ]
  },
  {
   "cell_type": "markdown",
   "metadata": {
    "slideshow": {
     "slide_type": "fragment"
    }
   },
   "source": [
    " - Get the values in the counts matrix"
   ]
  },
  {
   "cell_type": "code",
   "execution_count": 11,
   "metadata": {
    "slideshow": {
     "slide_type": "fragment"
    }
   },
   "outputs": [
    {
     "data": {
      "text/plain": [
       "array([223,  43,  53,  24,  43])"
      ]
     },
     "execution_count": 11,
     "metadata": {},
     "output_type": "execute_result"
    }
   ],
   "source": [
    "# Get the values in the counts matrix\n",
    "\n",
    "counts.values"
   ]
  },
  {
   "cell_type": "markdown",
   "metadata": {
    "slideshow": {
     "slide_type": "fragment"
    }
   },
   "source": [
    "- Get the index of the rna_counts matrix\n"
   ]
  },
  {
   "cell_type": "code",
   "execution_count": 12,
   "metadata": {
    "slideshow": {
     "slide_type": "fragment"
    }
   },
   "outputs": [
    {
     "data": {
      "text/plain": [
       "Index(['BRCA2', 'GATA2', 'Myc', 'FOXA1', 'ERCC2'], dtype='object')"
      ]
     },
     "execution_count": 12,
     "metadata": {},
     "output_type": "execute_result"
    }
   ],
   "source": [
    "# Get the index of the rna_counts matrix\n",
    "\n",
    "rna_counts.index"
   ]
  },
  {
   "cell_type": "markdown",
   "metadata": {
    "slideshow": {
     "slide_type": "subslide"
    }
   },
   "source": [
    "### 2.5.4 Series - Referencing Elements - labels\n",
    "\n",
    "<hr>\n",
    "\n",
    "- Can give both the array of values and the index meaningful labels themselves"
   ]
  },
  {
   "cell_type": "code",
   "execution_count": 13,
   "metadata": {
    "slideshow": {
     "slide_type": "fragment"
    }
   },
   "outputs": [
    {
     "data": {
      "text/plain": [
       "Symbol\n",
       "BRCA2    50\n",
       "GATA2    10\n",
       "Myc      12\n",
       "FOXA1    29\n",
       "ERCC2     4\n",
       "Name: RNA Counts, dtype: int64"
      ]
     },
     "execution_count": 13,
     "metadata": {},
     "output_type": "execute_result"
    }
   ],
   "source": [
    "rna_counts.name = 'RNA Counts'\n",
    "rna_counts.index.name = 'Symbol'\n",
    "rna_counts"
   ]
  },
  {
   "cell_type": "markdown",
   "metadata": {
    "slideshow": {
     "slide_type": "subslide"
    }
   },
   "source": [
    "### 2.6 Series - array operations \n",
    "\n",
    "<hr>\n",
    "    \n",
    "- NumPy array operations can be applied to Series without losing the data structure"
   ]
  },
  {
   "cell_type": "markdown",
   "metadata": {
    "slideshow": {
     "slide_type": "fragment"
    }
   },
   "source": [
    "- Use boolean array to filter Series"
   ]
  },
  {
   "cell_type": "markdown",
   "metadata": {
    "slideshow": {
     "slide_type": "fragment"
    }
   },
   "source": [
    "- Select Genes that have greater than 20 counts\n"
   ]
  },
  {
   "cell_type": "code",
   "execution_count": 14,
   "metadata": {
    "slideshow": {
     "slide_type": "fragment"
    }
   },
   "outputs": [
    {
     "data": {
      "text/plain": [
       "Symbol\n",
       "BRCA2     True\n",
       "GATA2    False\n",
       "Myc      False\n",
       "FOXA1     True\n",
       "ERCC2    False\n",
       "Name: RNA Counts, dtype: bool"
      ]
     },
     "execution_count": 14,
     "metadata": {},
     "output_type": "execute_result"
    }
   ],
   "source": [
    "# Select Genes that have greater than 20 counts\n",
    "\n",
    "rna_counts > 20"
   ]
  },
  {
   "cell_type": "markdown",
   "metadata": {
    "slideshow": {
     "slide_type": "fragment"
    }
   },
   "source": [
    "- Select genes that have greater than 20 counts"
   ]
  },
  {
   "cell_type": "code",
   "execution_count": 15,
   "metadata": {
    "slideshow": {
     "slide_type": "fragment"
    }
   },
   "outputs": [
    {
     "data": {
      "text/plain": [
       "Symbol\n",
       "BRCA2    50\n",
       "FOXA1    29\n",
       "Name: RNA Counts, dtype: int64"
      ]
     },
     "execution_count": 15,
     "metadata": {},
     "output_type": "execute_result"
    }
   ],
   "source": [
    "# Select genes that have greater than 20 counts\n",
    "\n",
    "rna_counts[rna_counts > 20]"
   ]
  },
  {
   "cell_type": "markdown",
   "metadata": {
    "slideshow": {
     "slide_type": "subslide"
    }
   },
   "source": [
    "### 2.7 Series - null values\n",
    "\n",
    "<hr>\n",
    "\n",
    "- Many times Series have missing values that you need to identify and clean"
   ]
  },
  {
   "cell_type": "markdown",
   "metadata": {
    "slideshow": {
     "slide_type": "subslide"
    }
   },
   "source": [
    "#### Marvel Cinematic Universe\n",
    "\n",
    "![mcu_timeline.png](img/mcu_timeline.png)"
   ]
  },
  {
   "cell_type": "markdown",
   "metadata": {
    "slideshow": {
     "slide_type": "subslide"
    }
   },
   "source": [
    "- Make Movie DataFrame with missing values"
   ]
  },
  {
   "cell_type": "code",
   "execution_count": 16,
   "metadata": {
    "slideshow": {
     "slide_type": "fragment"
    }
   },
   "outputs": [
    {
     "data": {
      "text/plain": [
       "Ant-Man and the Wasp                      NaN\n",
       "Avengers: Infinity War                    NaN\n",
       "Black Panther                     202003951.0\n",
       "Thor: Ragnarok                    122744989.0\n",
       "Spider-Man: Homecoming            117027503.0\n",
       "Guardians of the Galaxy Vol. 2    146510104.0\n",
       "Doctor Strange                     85058311.0\n",
       "Captain America: Civil War        179139142.0\n",
       "dtype: float64"
      ]
     },
     "execution_count": 16,
     "metadata": {},
     "output_type": "execute_result"
    }
   ],
   "source": [
    "# Make Movie Database with missing values\n",
    "\n",
    "mcu_opening = {'Black Panther': 202003951, 'Thor: Ragnarok': 122744989, 'Spider-Man: Homecoming': 117027503,\n",
    "              'Guardians of the Galaxy Vol. 2': 146510104, 'Doctor Strange': 85058311, \n",
    "               'Captain America: Civil War': 179139142}\n",
    "mcu_movies = ['Ant-Man and the Wasp', 'Avengers: Infinity War', 'Black Panther', 'Thor: Ragnarok', \n",
    "              'Spider-Man: Homecoming', 'Guardians of the Galaxy Vol. 2', 'Doctor Strange', 'Captain America: Civil War']\n",
    "mcu_series = pd.Series(mcu_opening, index=mcu_movies)\n",
    "\n",
    "mcu_series"
   ]
  },
  {
   "cell_type": "markdown",
   "metadata": {
    "slideshow": {
     "slide_type": "subslide"
    }
   },
   "source": [
    "- Find movies with no opening revenue"
   ]
  },
  {
   "cell_type": "code",
   "execution_count": 17,
   "metadata": {
    "slideshow": {
     "slide_type": "fragment"
    }
   },
   "outputs": [
    {
     "data": {
      "text/plain": [
       "Ant-Man and the Wasp               True\n",
       "Avengers: Infinity War             True\n",
       "Black Panther                     False\n",
       "Thor: Ragnarok                    False\n",
       "Spider-Man: Homecoming            False\n",
       "Guardians of the Galaxy Vol. 2    False\n",
       "Doctor Strange                    False\n",
       "Captain America: Civil War        False\n",
       "dtype: bool"
      ]
     },
     "execution_count": 17,
     "metadata": {},
     "output_type": "execute_result"
    }
   ],
   "source": [
    "# Find movies with no opening revenue\n",
    "\n",
    "pd.isnull(mcu_series)"
   ]
  },
  {
   "cell_type": "code",
   "execution_count": 18,
   "metadata": {
    "slideshow": {
     "slide_type": "fragment"
    }
   },
   "outputs": [
    {
     "data": {
      "text/plain": [
       "array(['Ant-Man and the Wasp', 'Avengers: Infinity War'], dtype=object)"
      ]
     },
     "execution_count": 18,
     "metadata": {},
     "output_type": "execute_result"
    }
   ],
   "source": [
    "# Good opportunity to use Boolean filter get index and only movie names\n",
    "\n",
    "mcu_series[pd.isnull(mcu_series)].index.values"
   ]
  },
  {
   "cell_type": "markdown",
   "metadata": {
    "slideshow": {
     "slide_type": "fragment"
    }
   },
   "source": [
    "- Find movies with opening revenue"
   ]
  },
  {
   "cell_type": "code",
   "execution_count": 19,
   "metadata": {
    "slideshow": {
     "slide_type": "fragment"
    }
   },
   "outputs": [
    {
     "data": {
      "text/plain": [
       "Ant-Man and the Wasp              False\n",
       "Avengers: Infinity War            False\n",
       "Black Panther                      True\n",
       "Thor: Ragnarok                     True\n",
       "Spider-Man: Homecoming             True\n",
       "Guardians of the Galaxy Vol. 2     True\n",
       "Doctor Strange                     True\n",
       "Captain America: Civil War         True\n",
       "dtype: bool"
      ]
     },
     "execution_count": 19,
     "metadata": {},
     "output_type": "execute_result"
    }
   ],
   "source": [
    "# Find movies with opening revenue\n",
    "\n",
    "pd.notnull(mcu_series)"
   ]
  },
  {
   "cell_type": "markdown",
   "metadata": {
    "slideshow": {
     "slide_type": "subslide"
    }
   },
   "source": [
    "- Display only movie with no opening revenue"
   ]
  },
  {
   "cell_type": "code",
   "execution_count": 20,
   "metadata": {
    "slideshow": {
     "slide_type": "fragment"
    }
   },
   "outputs": [
    {
     "data": {
      "text/plain": [
       "array(['Ant-Man and the Wasp', 'Avengers: Infinity War'], dtype=object)"
      ]
     },
     "execution_count": 20,
     "metadata": {},
     "output_type": "execute_result"
    }
   ],
   "source": [
    "# Display only movies with no opening revenue\n",
    "\n",
    "mcu_series[pd.isnull(mcu_series)].index.values"
   ]
  },
  {
   "cell_type": "markdown",
   "metadata": {
    "slideshow": {
     "slide_type": "subslide"
    }
   },
   "source": [
    "### 2.8 Series - auto alignment\n",
    "\n",
    "<hr>\n",
    "\n",
    "-  Index labels are used to align (merge) data when used in operations with other Series objects"
   ]
  },
  {
   "cell_type": "code",
   "execution_count": 21,
   "metadata": {
    "slideshow": {
     "slide_type": "fragment"
    }
   },
   "outputs": [
    {
     "data": {
      "text/plain": [
       "Symbol\n",
       "BRCA2    50\n",
       "GATA2    10\n",
       "Myc      12\n",
       "FOXA1    29\n",
       "ERCC2     4\n",
       "Name: RNA Counts, dtype: int64"
      ]
     },
     "execution_count": 21,
     "metadata": {},
     "output_type": "execute_result"
    }
   ],
   "source": [
    "rna_counts"
   ]
  },
  {
   "cell_type": "code",
   "execution_count": 22,
   "metadata": {
    "slideshow": {
     "slide_type": "fragment"
    }
   },
   "outputs": [
    {
     "data": {
      "text/plain": [
       "BRCA1    20\n",
       "BRCA2     5\n",
       "ERCC2     0\n",
       "FOXA1    10\n",
       "GATA2    20\n",
       "Myc      45\n",
       "dtype: int64"
      ]
     },
     "execution_count": 22,
     "metadata": {},
     "output_type": "execute_result"
    }
   ],
   "source": [
    "rna_counts_cell2"
   ]
  },
  {
   "cell_type": "markdown",
   "metadata": {
    "slideshow": {
     "slide_type": "subslide"
    }
   },
   "source": [
    "- Combine counts for 2 cells (rna_counts and rna_counts_cell2)"
   ]
  },
  {
   "cell_type": "code",
   "execution_count": 23,
   "metadata": {
    "slideshow": {
     "slide_type": "fragment"
    }
   },
   "outputs": [
    {
     "data": {
      "text/plain": [
       "BRCA1     NaN\n",
       "BRCA2    55.0\n",
       "ERCC2     4.0\n",
       "FOXA1    39.0\n",
       "GATA2    30.0\n",
       "Myc      57.0\n",
       "dtype: float64"
      ]
     },
     "execution_count": 23,
     "metadata": {},
     "output_type": "execute_result"
    }
   ],
   "source": [
    "# Combine counts for 2 cells \n",
    "\n",
    "rna_counts + rna_counts_cell2\n"
   ]
  },
  {
   "cell_type": "markdown",
   "metadata": {
    "slideshow": {
     "slide_type": "fragment"
    }
   },
   "source": [
    "- Adding Series combined values with the same label in the resulting series\n",
    "- Contrast this with arrays, where arrays of the same length will combine values element-wise\n",
    "- Notice that the missing values. If one Series has a missing value you can't add it to the other value and a missing value results. "
   ]
  },
  {
   "cell_type": "markdown",
   "metadata": {
    "slideshow": {
     "slide_type": "slide"
    }
   },
   "source": [
    "<div style=\"background-color:yellow; padding: 10px\"><h3><span></span>Exercise 1</div>\n",
    "\n",
    "<hr>\n",
    "\n",
    "Create a Series from a specified list data which has the index labels as student names and test values.\n",
    "\n",
    "Which Students have scores greater than 15?\n",
    "\n",
    "Bonus: How would you use get the Students scores greater than 15 and less than 20? \n",
    "\n",
    "<div style=\"background-color: #9999ff; padding: 10px;\">Hint: Will use the bitwise opperator & </div>\n",
    "\n",
    "\n",
    "\n",
    "| Names  | Value  |\n",
    "| ------ | ------ |\n",
    "| Anastasia     | 12.5     |\n",
    "| Dima     | 9     |\n",
    "| Katherine     | 16.5     |\n",
    "| James     | NaN     |\n",
    "| Emily     | 9     |\n",
    "| Michael     | 20     |\n",
    "| Matthew     | 14.5     |\n",
    "| Laura     | NaN     |\n",
    "| Kevin     | 8     |\n",
    "| Jonas     | 19     |"
   ]
  },
  {
   "cell_type": "code",
   "execution_count": 24,
   "metadata": {
    "slideshow": {
     "slide_type": "fragment"
    }
   },
   "outputs": [
    {
     "data": {
      "text/plain": [
       "array(['Katherine', 'Michael', 'Jonas'], dtype=object)"
      ]
     },
     "execution_count": 24,
     "metadata": {},
     "output_type": "execute_result"
    }
   ],
   "source": [
    "# Sample Python data and labels:\n",
    "\n",
    "\n",
    "students = ['Anastasia', 'Dima', 'Katherine', 'James', 'Emily', 'Michael', 'Matthew', 'Laura', 'Kevin', 'Jonas']\n",
    "\n",
    "test_scores = [12.5, 9, 16.5, np.nan, 9, 20, 14.5, np.nan, 8, 19]\n",
    "\n",
    "s_scores = pd.Series(test_scores, index=students)\n",
    "\n",
    "# Which Students have scores greater than 15?\n",
    "\n",
    "\n",
    "s_scores[s_scores > 15].index.values"
   ]
  },
  {
   "cell_type": "code",
   "execution_count": 25,
   "metadata": {
    "slideshow": {
     "slide_type": "fragment"
    }
   },
   "outputs": [
    {
     "data": {
      "text/plain": [
       "Katherine    16.5\n",
       "Jonas        19.0\n",
       "dtype: float64"
      ]
     },
     "execution_count": 25,
     "metadata": {},
     "output_type": "execute_result"
    }
   ],
   "source": [
    "# Bonus: How would you use get the Students scores greater than 15 and less than 20?\n",
    "\n",
    "s_scores[(s_scores > 15) & (s_scores < 20)]"
   ]
  },
  {
   "cell_type": "markdown",
   "metadata": {
    "slideshow": {
     "slide_type": "slide"
    }
   },
   "source": [
    "<div style=\"background-color:yellow; padding: 10px\"><h3><span></span>Exercise 2</div>\n",
    "\n",
    "What is the mean, median and max test scores?"
   ]
  },
  {
   "cell_type": "code",
   "execution_count": 26,
   "metadata": {
    "slideshow": {
     "slide_type": "fragment"
    }
   },
   "outputs": [
    {
     "data": {
      "text/plain": [
       "13.5625"
      ]
     },
     "execution_count": 26,
     "metadata": {},
     "output_type": "execute_result"
    }
   ],
   "source": [
    "# What is the mean, median and max test scores?\n",
    "\n",
    "s_scores.mean()"
   ]
  },
  {
   "cell_type": "code",
   "execution_count": 27,
   "metadata": {
    "slideshow": {
     "slide_type": "fragment"
    }
   },
   "outputs": [
    {
     "data": {
      "text/plain": [
       "13.5"
      ]
     },
     "execution_count": 27,
     "metadata": {},
     "output_type": "execute_result"
    }
   ],
   "source": [
    "s_scores.median()"
   ]
  },
  {
   "cell_type": "code",
   "execution_count": 28,
   "metadata": {
    "slideshow": {
     "slide_type": "fragment"
    }
   },
   "outputs": [
    {
     "data": {
      "text/plain": [
       "20.0"
      ]
     },
     "execution_count": 28,
     "metadata": {},
     "output_type": "execute_result"
    }
   ],
   "source": [
    "s_scores.max()"
   ]
  },
  {
   "cell_type": "markdown",
   "metadata": {
    "slideshow": {
     "slide_type": "slide"
    }
   },
   "source": [
    "## Agenda\n",
    "\n",
    "<hr>\n",
    "\n",
    "1. Introduction to Pandas\n",
    "2. Series\n",
    "    - Exercise 1\n",
    "    - Exercise 2\n",
    "3. **Dataframe**\n",
    "    - Exercise 3\n",
    "    - Exercise 4\n",
    "    - Exercise 5\n",
    "4. Import and Store Data\n",
    "5. Summarizing and Computing Descriptive Statistics\n",
    "    - Exercise 6\n",
    "    - Exercise 7\n",
    "6. Grouped and apply\n",
    "    - Exercise 8\n",
    "    - Exercise 9\n",
    "7. Data Transformation and Normalization\n",
    "    - Exercise 10\n",
    "    - Exercise 11\n",
    "    - Exercise 12"
   ]
  },
  {
   "cell_type": "markdown",
   "metadata": {
    "slideshow": {
     "slide_type": "subslide"
    }
   },
   "source": [
    "### 3.1 Dataframe \n",
    "\n",
    "<hr>\n",
    "\n",
    "- A DataFrame is a tabular data structure, comprised of rows and columns like in a spreadsheet\n",
    "- Each column can be a different value type (numeric, string, boolean etc)\n"
   ]
  },
  {
   "cell_type": "markdown",
   "metadata": {
    "slideshow": {
     "slide_type": "fragment"
    }
   },
   "source": [
    "\n",
    "| Title  | Year   | Studio | Rating |\n",
    "| :------: | :------: | :------: | :------: |\n",
    "| Ant-Man and the Wasp  | 2018| Beuna Vista | NaN|\n",
    "| Avengers: Infinity War   | 2018    | Beuna Vista | NaN|\n",
    "| Black Panther     | 2018     | Beuna Vista | 0.96 |\n",
    "| Thor: Ragnarok | 2017 | Beuna Vista | 0.92|\n",
    "| Spider-Man: Homecoming| 2017 | Sony | 0.92|\n",
    "| Guardians of the Galaxy Vol. 2| 2017| Beuna Vista | 0.83 |"
   ]
  },
  {
   "cell_type": "markdown",
   "metadata": {
    "slideshow": {
     "slide_type": "subslide"
    }
   },
   "source": [
    "### 3.2 Dataframe - from dict of lists\n",
    "\n",
    "<hr>\n",
    "\n",
    "- dict keys: columns\n",
    "- dict values (arrays): rows"
   ]
  },
  {
   "cell_type": "markdown",
   "metadata": {
    "slideshow": {
     "slide_type": "fragment"
    }
   },
   "source": [
    "- Make Dataframe of Marvel data\n"
   ]
  },
  {
   "cell_type": "code",
   "execution_count": 29,
   "metadata": {
    "slideshow": {
     "slide_type": "fragment"
    }
   },
   "outputs": [
    {
     "data": {
      "text/html": [
       "<div>\n",
       "<style>\n",
       "    .dataframe thead tr:only-child th {\n",
       "        text-align: right;\n",
       "    }\n",
       "\n",
       "    .dataframe thead th {\n",
       "        text-align: left;\n",
       "    }\n",
       "\n",
       "    .dataframe tbody tr th {\n",
       "        vertical-align: top;\n",
       "    }\n",
       "</style>\n",
       "<table border=\"1\" class=\"dataframe\">\n",
       "  <thead>\n",
       "    <tr style=\"text-align: right;\">\n",
       "      <th></th>\n",
       "      <th>Rating</th>\n",
       "      <th>Studio</th>\n",
       "      <th>Title</th>\n",
       "      <th>Year</th>\n",
       "    </tr>\n",
       "  </thead>\n",
       "  <tbody>\n",
       "    <tr>\n",
       "      <th>0</th>\n",
       "      <td>NaN</td>\n",
       "      <td>Beuna Vista</td>\n",
       "      <td>Ant-Man and the Wasp</td>\n",
       "      <td>2018</td>\n",
       "    </tr>\n",
       "    <tr>\n",
       "      <th>1</th>\n",
       "      <td>NaN</td>\n",
       "      <td>Beuna Vista</td>\n",
       "      <td>Avengers: Infinity War</td>\n",
       "      <td>2018</td>\n",
       "    </tr>\n",
       "    <tr>\n",
       "      <th>2</th>\n",
       "      <td>0.96</td>\n",
       "      <td>Beuna Vista</td>\n",
       "      <td>Black Panther</td>\n",
       "      <td>2018</td>\n",
       "    </tr>\n",
       "    <tr>\n",
       "      <th>3</th>\n",
       "      <td>0.92</td>\n",
       "      <td>Beuna Vista</td>\n",
       "      <td>Thor: Ragnarok</td>\n",
       "      <td>2017</td>\n",
       "    </tr>\n",
       "    <tr>\n",
       "      <th>4</th>\n",
       "      <td>0.92</td>\n",
       "      <td>Sony</td>\n",
       "      <td>Spider-Man: Homecoming</td>\n",
       "      <td>2017</td>\n",
       "    </tr>\n",
       "    <tr>\n",
       "      <th>5</th>\n",
       "      <td>0.83</td>\n",
       "      <td>Beuna Vista</td>\n",
       "      <td>Guardians of the Galaxy Vol. 2</td>\n",
       "      <td>2017</td>\n",
       "    </tr>\n",
       "  </tbody>\n",
       "</table>\n",
       "</div>"
      ],
      "text/plain": [
       "   Rating       Studio                           Title  Year\n",
       "0     NaN  Beuna Vista            Ant-Man and the Wasp  2018\n",
       "1     NaN  Beuna Vista          Avengers: Infinity War  2018\n",
       "2    0.96  Beuna Vista                   Black Panther  2018\n",
       "3    0.92  Beuna Vista                  Thor: Ragnarok  2017\n",
       "4    0.92         Sony          Spider-Man: Homecoming  2017\n",
       "5    0.83  Beuna Vista  Guardians of the Galaxy Vol. 2  2017"
      ]
     },
     "execution_count": 29,
     "metadata": {},
     "output_type": "execute_result"
    }
   ],
   "source": [
    "# Make Dataframe of Marvel data\n",
    "\n",
    "mcu_data = {'Title': ['Ant-Man and the Wasp', 'Avengers: Infinity War', 'Black Panther', 'Thor: Ragnarok', \n",
    "              'Spider-Man: Homecoming', 'Guardians of the Galaxy Vol. 2'],\n",
    "            'Year':[2018, 2018, 2018, 2017, 2017, 2017],\n",
    "            'Studio':['Beuna Vista', 'Beuna Vista', 'Beuna Vista', 'Beuna Vista', 'Sony', 'Beuna Vista'],\n",
    "            'Rating': [np.nan, np.nan, 0.96, 0.92, 0.92, 0.83]}\n",
    "df_mcu = pd.DataFrame(mcu_data)\n",
    "df_mcu"
   ]
  },
  {
   "cell_type": "markdown",
   "metadata": {
    "slideshow": {
     "slide_type": "fragment"
    }
   },
   "source": [
    "- What datatype is df_mcu?"
   ]
  },
  {
   "cell_type": "code",
   "execution_count": 30,
   "metadata": {
    "slideshow": {
     "slide_type": "fragment"
    }
   },
   "outputs": [
    {
     "data": {
      "text/plain": [
       "pandas.core.frame.DataFrame"
      ]
     },
     "execution_count": 30,
     "metadata": {},
     "output_type": "execute_result"
    }
   ],
   "source": [
    "# What datatype is df_mcu?\n",
    "\n",
    "type(df_mcu)"
   ]
  },
  {
   "cell_type": "markdown",
   "metadata": {
    "slideshow": {
     "slide_type": "subslide"
    }
   },
   "source": [
    "### 3.3 Dataframe - specifying indices and columns\n",
    "\n",
    "<hr>\n",
    "\n",
    "- Order of columns/rows can be specified using:\n",
    "    - columns array\n",
    "    - index array"
   ]
  },
  {
   "cell_type": "code",
   "execution_count": 31,
   "metadata": {
    "slideshow": {
     "slide_type": "fragment"
    }
   },
   "outputs": [
    {
     "data": {
      "text/html": [
       "<div>\n",
       "<style>\n",
       "    .dataframe thead tr:only-child th {\n",
       "        text-align: right;\n",
       "    }\n",
       "\n",
       "    .dataframe thead th {\n",
       "        text-align: left;\n",
       "    }\n",
       "\n",
       "    .dataframe tbody tr th {\n",
       "        vertical-align: top;\n",
       "    }\n",
       "</style>\n",
       "<table border=\"1\" class=\"dataframe\">\n",
       "  <thead>\n",
       "    <tr style=\"text-align: right;\">\n",
       "      <th></th>\n",
       "      <th>Title</th>\n",
       "      <th>Year</th>\n",
       "      <th>Studio</th>\n",
       "      <th>Rating</th>\n",
       "    </tr>\n",
       "  </thead>\n",
       "  <tbody>\n",
       "    <tr>\n",
       "      <th>mcu_20</th>\n",
       "      <td>Ant-Man and the Wasp</td>\n",
       "      <td>2018</td>\n",
       "      <td>Beuna Vista</td>\n",
       "      <td>NaN</td>\n",
       "    </tr>\n",
       "    <tr>\n",
       "      <th>mcu_19</th>\n",
       "      <td>Avengers: Infinity War</td>\n",
       "      <td>2018</td>\n",
       "      <td>Beuna Vista</td>\n",
       "      <td>NaN</td>\n",
       "    </tr>\n",
       "    <tr>\n",
       "      <th>mcu_18</th>\n",
       "      <td>Black Panther</td>\n",
       "      <td>2018</td>\n",
       "      <td>Beuna Vista</td>\n",
       "      <td>0.96</td>\n",
       "    </tr>\n",
       "    <tr>\n",
       "      <th>mcu_17</th>\n",
       "      <td>Thor: Ragnarok</td>\n",
       "      <td>2017</td>\n",
       "      <td>Beuna Vista</td>\n",
       "      <td>0.92</td>\n",
       "    </tr>\n",
       "    <tr>\n",
       "      <th>mcu_16</th>\n",
       "      <td>Spider-Man: Homecoming</td>\n",
       "      <td>2017</td>\n",
       "      <td>Sony</td>\n",
       "      <td>0.92</td>\n",
       "    </tr>\n",
       "    <tr>\n",
       "      <th>mcu_15</th>\n",
       "      <td>Guardians of the Galaxy Vol. 2</td>\n",
       "      <td>2017</td>\n",
       "      <td>Beuna Vista</td>\n",
       "      <td>0.83</td>\n",
       "    </tr>\n",
       "  </tbody>\n",
       "</table>\n",
       "</div>"
      ],
      "text/plain": [
       "                                 Title  Year       Studio  Rating\n",
       "mcu_20            Ant-Man and the Wasp  2018  Beuna Vista     NaN\n",
       "mcu_19          Avengers: Infinity War  2018  Beuna Vista     NaN\n",
       "mcu_18                   Black Panther  2018  Beuna Vista    0.96\n",
       "mcu_17                  Thor: Ragnarok  2017  Beuna Vista    0.92\n",
       "mcu_16          Spider-Man: Homecoming  2017         Sony    0.92\n",
       "mcu_15  Guardians of the Galaxy Vol. 2  2017  Beuna Vista    0.83"
      ]
     },
     "execution_count": 31,
     "metadata": {},
     "output_type": "execute_result"
    }
   ],
   "source": [
    "# Assign column order and index based on Marvel Cinemetic Universe Movie Number \n",
    "\n",
    "mcu_index = ['mcu_20','mcu_19', 'mcu_18', 'mcu_17', 'mcu_16', 'mcu_15']\n",
    "mcu_columns = ['Title', 'Year', 'Studio', 'Rating']\n",
    "df_mcu = pd.DataFrame(mcu_data, columns = mcu_columns, index = mcu_index)\n",
    "df_mcu"
   ]
  },
  {
   "cell_type": "markdown",
   "metadata": {
    "slideshow": {
     "slide_type": "subslide"
    }
   },
   "source": [
    "### 3.4 Dataframe - from nested dict of dicts\n",
    "\n",
    "<hr>\n",
    "\n",
    "- Outer dict keys as columns and inner dict keys as row indices\n"
   ]
  },
  {
   "cell_type": "markdown",
   "metadata": {
    "slideshow": {
     "slide_type": "fragment"
    }
   },
   "source": [
    "- Make Dataframe of population of states"
   ]
  },
  {
   "cell_type": "code",
   "execution_count": 32,
   "metadata": {
    "slideshow": {
     "slide_type": "fragment"
    }
   },
   "outputs": [
    {
     "data": {
      "text/html": [
       "<div>\n",
       "<style>\n",
       "    .dataframe thead tr:only-child th {\n",
       "        text-align: right;\n",
       "    }\n",
       "\n",
       "    .dataframe thead th {\n",
       "        text-align: left;\n",
       "    }\n",
       "\n",
       "    .dataframe tbody tr th {\n",
       "        vertical-align: top;\n",
       "    }\n",
       "</style>\n",
       "<table border=\"1\" class=\"dataframe\">\n",
       "  <thead>\n",
       "    <tr style=\"text-align: right;\">\n",
       "      <th></th>\n",
       "      <th>Nevada</th>\n",
       "      <th>Ohio</th>\n",
       "    </tr>\n",
       "  </thead>\n",
       "  <tbody>\n",
       "    <tr>\n",
       "      <th>2000</th>\n",
       "      <td>NaN</td>\n",
       "      <td>1.5</td>\n",
       "    </tr>\n",
       "    <tr>\n",
       "      <th>2001</th>\n",
       "      <td>2.9</td>\n",
       "      <td>1.7</td>\n",
       "    </tr>\n",
       "    <tr>\n",
       "      <th>2002</th>\n",
       "      <td>2.9</td>\n",
       "      <td>3.6</td>\n",
       "    </tr>\n",
       "  </tbody>\n",
       "</table>\n",
       "</div>"
      ],
      "text/plain": [
       "      Nevada  Ohio\n",
       "2000     NaN   1.5\n",
       "2001     2.9   1.7\n",
       "2002     2.9   3.6"
      ]
     },
     "execution_count": 32,
     "metadata": {},
     "output_type": "execute_result"
    }
   ],
   "source": [
    "# Make Dataframe of population\n",
    "\n",
    "pop = {'Nevada': {2001: 2.9, 2002: 2.9}, 'Ohio': {2002: 3.6, 2001: 1.7, 2000: 1.5}}\n",
    "df_pop = pd.DataFrame(pop)\n",
    "df_pop"
   ]
  },
  {
   "cell_type": "markdown",
   "metadata": {
    "slideshow": {
     "slide_type": "subslide"
    }
   },
   "source": [
    "### 3.5 Dataframe - number of rows and columns \n",
    "\n",
    "<hr>\n"
   ]
  },
  {
   "cell_type": "markdown",
   "metadata": {
    "slideshow": {
     "slide_type": "fragment"
    }
   },
   "source": [
    "- Get the number of rows in a Dataframe"
   ]
  },
  {
   "cell_type": "code",
   "execution_count": 33,
   "metadata": {
    "slideshow": {
     "slide_type": "fragment"
    }
   },
   "outputs": [
    {
     "data": {
      "text/plain": [
       "6"
      ]
     },
     "execution_count": 33,
     "metadata": {},
     "output_type": "execute_result"
    }
   ],
   "source": [
    "# Get the number of rows in a Dataframe\n",
    "\n",
    "len(df_mcu)"
   ]
  },
  {
   "cell_type": "markdown",
   "metadata": {
    "slideshow": {
     "slide_type": "fragment"
    }
   },
   "source": [
    "- Get the (rows, cols) of the Dataframe"
   ]
  },
  {
   "cell_type": "code",
   "execution_count": 34,
   "metadata": {
    "slideshow": {
     "slide_type": "fragment"
    }
   },
   "outputs": [
    {
     "data": {
      "text/plain": [
       "(6, 4)"
      ]
     },
     "execution_count": 34,
     "metadata": {},
     "output_type": "execute_result"
    }
   ],
   "source": [
    "# Get the (rows, cols) of the Dataframe\n",
    "\n",
    "df_mcu.shape"
   ]
  },
  {
   "cell_type": "markdown",
   "metadata": {
    "slideshow": {
     "slide_type": "subslide"
    }
   },
   "source": [
    "### 3.6 Dataframe - index, columns and values\n",
    "\n",
    "<hr>"
   ]
  },
  {
   "cell_type": "markdown",
   "metadata": {
    "slideshow": {
     "slide_type": "fragment"
    }
   },
   "source": [
    "- Get the column headers"
   ]
  },
  {
   "cell_type": "code",
   "execution_count": 35,
   "metadata": {
    "slideshow": {
     "slide_type": "fragment"
    }
   },
   "outputs": [
    {
     "data": {
      "text/plain": [
       "Index(['Title', 'Year', 'Studio', 'Rating'], dtype='object')"
      ]
     },
     "execution_count": 35,
     "metadata": {},
     "output_type": "execute_result"
    }
   ],
   "source": [
    "# Get the column headers\n",
    "\n",
    "df_mcu.columns "
   ]
  },
  {
   "cell_type": "markdown",
   "metadata": {
    "slideshow": {
     "slide_type": "fragment"
    }
   },
   "source": [
    "- Get the row index values"
   ]
  },
  {
   "cell_type": "code",
   "execution_count": 36,
   "metadata": {
    "slideshow": {
     "slide_type": "fragment"
    }
   },
   "outputs": [
    {
     "data": {
      "text/plain": [
       "Index(['mcu_20', 'mcu_19', 'mcu_18', 'mcu_17', 'mcu_16', 'mcu_15'], dtype='object')"
      ]
     },
     "execution_count": 36,
     "metadata": {},
     "output_type": "execute_result"
    }
   ],
   "source": [
    "# Get the row index values\n",
    "\n",
    "df_mcu.index  "
   ]
  },
  {
   "cell_type": "markdown",
   "metadata": {
    "slideshow": {
     "slide_type": "fragment"
    }
   },
   "source": [
    "- Get values of the Dataframe only"
   ]
  },
  {
   "cell_type": "code",
   "execution_count": 37,
   "metadata": {
    "slideshow": {
     "slide_type": "fragment"
    }
   },
   "outputs": [
    {
     "data": {
      "text/plain": [
       "array([['Ant-Man and the Wasp', 2018, 'Beuna Vista', nan],\n",
       "       ['Avengers: Infinity War', 2018, 'Beuna Vista', nan],\n",
       "       ['Black Panther', 2018, 'Beuna Vista', 0.96],\n",
       "       ['Thor: Ragnarok', 2017, 'Beuna Vista', 0.92],\n",
       "       ['Spider-Man: Homecoming', 2017, 'Sony', 0.92],\n",
       "       ['Guardians of the Galaxy Vol. 2', 2017, 'Beuna Vista', 0.83]], dtype=object)"
      ]
     },
     "execution_count": 37,
     "metadata": {},
     "output_type": "execute_result"
    }
   ],
   "source": [
    "# Get values of the Dataframe only\n",
    "\n",
    "df_mcu.values  "
   ]
  },
  {
   "cell_type": "markdown",
   "metadata": {
    "slideshow": {
     "slide_type": "subslide"
    }
   },
   "source": [
    "### 3.7 Dataframe - Selecting Columns and Rows\n",
    "\n",
    "<hr>\n",
    "\n",
    "- There are three basic ways to access the data in the Dataframe:\n",
    "    1. Quick Access: DataFrame[] \n",
    "    2. Integer position based selection method: DataFrame.iloc[row, col] \n",
    "    3. Label based selection method: DataFrame.loc[row, col] "
   ]
  },
  {
   "cell_type": "markdown",
   "metadata": {
    "slideshow": {
     "slide_type": "subslide"
    }
   },
   "source": [
    "### 3.7.1 Dataframe - Selecting Columns and Rows - Quick Access\n",
    "\n",
    "<hr>"
   ]
  },
  {
   "cell_type": "markdown",
   "metadata": {
    "slideshow": {
     "slide_type": "fragment"
    }
   },
   "source": [
    "- Select values in a single column"
   ]
  },
  {
   "cell_type": "code",
   "execution_count": 38,
   "metadata": {
    "slideshow": {
     "slide_type": "fragment"
    }
   },
   "outputs": [
    {
     "data": {
      "text/plain": [
       "mcu_20              Ant-Man and the Wasp\n",
       "mcu_19            Avengers: Infinity War\n",
       "mcu_18                     Black Panther\n",
       "mcu_17                    Thor: Ragnarok\n",
       "mcu_16            Spider-Man: Homecoming\n",
       "mcu_15    Guardians of the Galaxy Vol. 2\n",
       "Name: Title, dtype: object"
      ]
     },
     "execution_count": 38,
     "metadata": {},
     "output_type": "execute_result"
    }
   ],
   "source": [
    "# Select values in a single column\n",
    "\n",
    "df_mcu['Title']"
   ]
  },
  {
   "cell_type": "markdown",
   "metadata": {
    "slideshow": {
     "slide_type": "fragment"
    }
   },
   "source": [
    "- Select values in a list of columns"
   ]
  },
  {
   "cell_type": "code",
   "execution_count": 39,
   "metadata": {
    "slideshow": {
     "slide_type": "fragment"
    }
   },
   "outputs": [
    {
     "data": {
      "text/html": [
       "<div>\n",
       "<style>\n",
       "    .dataframe thead tr:only-child th {\n",
       "        text-align: right;\n",
       "    }\n",
       "\n",
       "    .dataframe thead th {\n",
       "        text-align: left;\n",
       "    }\n",
       "\n",
       "    .dataframe tbody tr th {\n",
       "        vertical-align: top;\n",
       "    }\n",
       "</style>\n",
       "<table border=\"1\" class=\"dataframe\">\n",
       "  <thead>\n",
       "    <tr style=\"text-align: right;\">\n",
       "      <th></th>\n",
       "      <th>Title</th>\n",
       "      <th>Rating</th>\n",
       "    </tr>\n",
       "  </thead>\n",
       "  <tbody>\n",
       "    <tr>\n",
       "      <th>mcu_20</th>\n",
       "      <td>Ant-Man and the Wasp</td>\n",
       "      <td>NaN</td>\n",
       "    </tr>\n",
       "    <tr>\n",
       "      <th>mcu_19</th>\n",
       "      <td>Avengers: Infinity War</td>\n",
       "      <td>NaN</td>\n",
       "    </tr>\n",
       "    <tr>\n",
       "      <th>mcu_18</th>\n",
       "      <td>Black Panther</td>\n",
       "      <td>0.96</td>\n",
       "    </tr>\n",
       "    <tr>\n",
       "      <th>mcu_17</th>\n",
       "      <td>Thor: Ragnarok</td>\n",
       "      <td>0.92</td>\n",
       "    </tr>\n",
       "    <tr>\n",
       "      <th>mcu_16</th>\n",
       "      <td>Spider-Man: Homecoming</td>\n",
       "      <td>0.92</td>\n",
       "    </tr>\n",
       "    <tr>\n",
       "      <th>mcu_15</th>\n",
       "      <td>Guardians of the Galaxy Vol. 2</td>\n",
       "      <td>0.83</td>\n",
       "    </tr>\n",
       "  </tbody>\n",
       "</table>\n",
       "</div>"
      ],
      "text/plain": [
       "                                 Title  Rating\n",
       "mcu_20            Ant-Man and the Wasp     NaN\n",
       "mcu_19          Avengers: Infinity War     NaN\n",
       "mcu_18                   Black Panther    0.96\n",
       "mcu_17                  Thor: Ragnarok    0.92\n",
       "mcu_16          Spider-Man: Homecoming    0.92\n",
       "mcu_15  Guardians of the Galaxy Vol. 2    0.83"
      ]
     },
     "execution_count": 39,
     "metadata": {},
     "output_type": "execute_result"
    }
   ],
   "source": [
    "# Select values in a list of columns\n",
    "\n",
    "df_mcu[['Title', 'Rating']]"
   ]
  },
  {
   "cell_type": "markdown",
   "metadata": {
    "slideshow": {
     "slide_type": "fragment"
    }
   },
   "source": [
    "- Use slice to get the first n rows (NumPy style indexing)"
   ]
  },
  {
   "cell_type": "code",
   "execution_count": 40,
   "metadata": {
    "slideshow": {
     "slide_type": "fragment"
    }
   },
   "outputs": [
    {
     "data": {
      "text/html": [
       "<div>\n",
       "<style>\n",
       "    .dataframe thead tr:only-child th {\n",
       "        text-align: right;\n",
       "    }\n",
       "\n",
       "    .dataframe thead th {\n",
       "        text-align: left;\n",
       "    }\n",
       "\n",
       "    .dataframe tbody tr th {\n",
       "        vertical-align: top;\n",
       "    }\n",
       "</style>\n",
       "<table border=\"1\" class=\"dataframe\">\n",
       "  <thead>\n",
       "    <tr style=\"text-align: right;\">\n",
       "      <th></th>\n",
       "      <th>Title</th>\n",
       "      <th>Year</th>\n",
       "      <th>Studio</th>\n",
       "      <th>Rating</th>\n",
       "    </tr>\n",
       "  </thead>\n",
       "  <tbody>\n",
       "    <tr>\n",
       "      <th>mcu_20</th>\n",
       "      <td>Ant-Man and the Wasp</td>\n",
       "      <td>2018</td>\n",
       "      <td>Beuna Vista</td>\n",
       "      <td>NaN</td>\n",
       "    </tr>\n",
       "    <tr>\n",
       "      <th>mcu_19</th>\n",
       "      <td>Avengers: Infinity War</td>\n",
       "      <td>2018</td>\n",
       "      <td>Beuna Vista</td>\n",
       "      <td>NaN</td>\n",
       "    </tr>\n",
       "  </tbody>\n",
       "</table>\n",
       "</div>"
      ],
      "text/plain": [
       "                         Title  Year       Studio  Rating\n",
       "mcu_20    Ant-Man and the Wasp  2018  Beuna Vista     NaN\n",
       "mcu_19  Avengers: Infinity War  2018  Beuna Vista     NaN"
      ]
     },
     "execution_count": 40,
     "metadata": {},
     "output_type": "execute_result"
    }
   ],
   "source": [
    "# Use slice to get the first n rows (NumPy style indexing)\n",
    "\n",
    "df_mcu[:2]"
   ]
  },
  {
   "cell_type": "markdown",
   "metadata": {
    "slideshow": {
     "slide_type": "fragment"
    }
   },
   "source": [
    "- Can combine slice and column selection to select the first n rows"
   ]
  },
  {
   "cell_type": "code",
   "execution_count": 41,
   "metadata": {
    "slideshow": {
     "slide_type": "fragment"
    }
   },
   "outputs": [
    {
     "data": {
      "text/plain": [
       "mcu_20      Ant-Man and the Wasp\n",
       "mcu_19    Avengers: Infinity War\n",
       "Name: Title, dtype: object"
      ]
     },
     "execution_count": 41,
     "metadata": {},
     "output_type": "execute_result"
    }
   ],
   "source": [
    "# Can combine slice and column selection to select the first n rows\n",
    "\n",
    "df_mcu['Title'][:2]"
   ]
  },
  {
   "cell_type": "markdown",
   "metadata": {
    "slideshow": {
     "slide_type": "fragment"
    }
   },
   "source": [
    "- Order of column and slice doesn't matter"
   ]
  },
  {
   "cell_type": "code",
   "execution_count": 42,
   "metadata": {
    "slideshow": {
     "slide_type": "fragment"
    }
   },
   "outputs": [
    {
     "data": {
      "text/plain": [
       "mcu_20    2018\n",
       "mcu_19    2018\n",
       "mcu_18    2018\n",
       "mcu_17    2017\n",
       "Name: Year, dtype: int64"
      ]
     },
     "execution_count": 42,
     "metadata": {},
     "output_type": "execute_result"
    }
   ],
   "source": [
    "df_mcu[:4]['Year']"
   ]
  },
  {
   "cell_type": "markdown",
   "metadata": {
    "slideshow": {
     "slide_type": "subslide"
    }
   },
   "source": [
    "### 3.7.2 Dataframe - Selecting Columns and Rows - Integer based selection\n",
    "\n",
    "<hr>\n",
    "\n",
    "- iloc is primarily an integer position based (from 0 to length-1 of the axis), when we include the starting from the end indexing, but may also be used with a boolean array.\n",
    "\n",
    "- Allowed inputs are:"
   ]
  },
  {
   "cell_type": "markdown",
   "metadata": {
    "slideshow": {
     "slide_type": "fragment"
    }
   },
   "source": [
    "   - Integer"
   ]
  },
  {
   "cell_type": "code",
   "execution_count": 43,
   "metadata": {
    "slideshow": {
     "slide_type": "fragment"
    }
   },
   "outputs": [
    {
     "data": {
      "text/plain": [
       "Title     Ant-Man and the Wasp\n",
       "Year                      2018\n",
       "Studio             Beuna Vista\n",
       "Rating                     NaN\n",
       "Name: mcu_20, dtype: object"
      ]
     },
     "execution_count": 43,
     "metadata": {},
     "output_type": "execute_result"
    }
   ],
   "source": [
    "# Return values in the first row\n",
    "\n",
    "df_mcu.iloc[0]"
   ]
  },
  {
   "cell_type": "code",
   "execution_count": 44,
   "metadata": {
    "slideshow": {
     "slide_type": "fragment"
    }
   },
   "outputs": [
    {
     "data": {
      "text/plain": [
       "2018"
      ]
     },
     "execution_count": 44,
     "metadata": {},
     "output_type": "execute_result"
    }
   ],
   "source": [
    "# Return values in the first row and second column\n",
    "\n",
    "df_mcu.iloc[0,1]"
   ]
  },
  {
   "cell_type": "markdown",
   "metadata": {
    "slideshow": {
     "slide_type": "fragment"
    }
   },
   "source": [
    "   - A list or array of integers"
   ]
  },
  {
   "cell_type": "code",
   "execution_count": 45,
   "metadata": {},
   "outputs": [
    {
     "data": {
      "text/html": [
       "<div>\n",
       "<style>\n",
       "    .dataframe thead tr:only-child th {\n",
       "        text-align: right;\n",
       "    }\n",
       "\n",
       "    .dataframe thead th {\n",
       "        text-align: left;\n",
       "    }\n",
       "\n",
       "    .dataframe tbody tr th {\n",
       "        vertical-align: top;\n",
       "    }\n",
       "</style>\n",
       "<table border=\"1\" class=\"dataframe\">\n",
       "  <thead>\n",
       "    <tr style=\"text-align: right;\">\n",
       "      <th></th>\n",
       "      <th>Title</th>\n",
       "      <th>Year</th>\n",
       "      <th>Studio</th>\n",
       "      <th>Rating</th>\n",
       "    </tr>\n",
       "  </thead>\n",
       "  <tbody>\n",
       "    <tr>\n",
       "      <th>mcu_18</th>\n",
       "      <td>Black Panther</td>\n",
       "      <td>2018</td>\n",
       "      <td>Beuna Vista</td>\n",
       "      <td>0.96</td>\n",
       "    </tr>\n",
       "    <tr>\n",
       "      <th>mcu_16</th>\n",
       "      <td>Spider-Man: Homecoming</td>\n",
       "      <td>2017</td>\n",
       "      <td>Sony</td>\n",
       "      <td>0.92</td>\n",
       "    </tr>\n",
       "    <tr>\n",
       "      <th>mcu_15</th>\n",
       "      <td>Guardians of the Galaxy Vol. 2</td>\n",
       "      <td>2017</td>\n",
       "      <td>Beuna Vista</td>\n",
       "      <td>0.83</td>\n",
       "    </tr>\n",
       "  </tbody>\n",
       "</table>\n",
       "</div>"
      ],
      "text/plain": [
       "                                 Title  Year       Studio  Rating\n",
       "mcu_18                   Black Panther  2018  Beuna Vista    0.96\n",
       "mcu_16          Spider-Man: Homecoming  2017         Sony    0.92\n",
       "mcu_15  Guardians of the Galaxy Vol. 2  2017  Beuna Vista    0.83"
      ]
     },
     "execution_count": 45,
     "metadata": {},
     "output_type": "execute_result"
    }
   ],
   "source": [
    "# Return values in the 3,5 and 6th rows \n",
    "\n",
    "df_mcu.iloc[[2,4,5]]"
   ]
  },
  {
   "cell_type": "markdown",
   "metadata": {
    "slideshow": {
     "slide_type": "fragment"
    }
   },
   "source": [
    "   - A slice object with ints"
   ]
  },
  {
   "cell_type": "code",
   "execution_count": 46,
   "metadata": {
    "slideshow": {
     "slide_type": "fragment"
    }
   },
   "outputs": [
    {
     "data": {
      "text/html": [
       "<div>\n",
       "<style>\n",
       "    .dataframe thead tr:only-child th {\n",
       "        text-align: right;\n",
       "    }\n",
       "\n",
       "    .dataframe thead th {\n",
       "        text-align: left;\n",
       "    }\n",
       "\n",
       "    .dataframe tbody tr th {\n",
       "        vertical-align: top;\n",
       "    }\n",
       "</style>\n",
       "<table border=\"1\" class=\"dataframe\">\n",
       "  <thead>\n",
       "    <tr style=\"text-align: right;\">\n",
       "      <th></th>\n",
       "      <th>Year</th>\n",
       "      <th>Studio</th>\n",
       "    </tr>\n",
       "  </thead>\n",
       "  <tbody>\n",
       "    <tr>\n",
       "      <th>mcu_20</th>\n",
       "      <td>2018</td>\n",
       "      <td>Beuna Vista</td>\n",
       "    </tr>\n",
       "    <tr>\n",
       "      <th>mcu_19</th>\n",
       "      <td>2018</td>\n",
       "      <td>Beuna Vista</td>\n",
       "    </tr>\n",
       "  </tbody>\n",
       "</table>\n",
       "</div>"
      ],
      "text/plain": [
       "        Year       Studio\n",
       "mcu_20  2018  Beuna Vista\n",
       "mcu_19  2018  Beuna Vista"
      ]
     },
     "execution_count": 46,
     "metadata": {},
     "output_type": "execute_result"
    }
   ],
   "source": [
    "# Return values in the first row and columns 2 and 3\n",
    "\n",
    "df_mcu.iloc[:2, 1:3]"
   ]
  },
  {
   "cell_type": "markdown",
   "metadata": {
    "slideshow": {
     "slide_type": "subslide"
    }
   },
   "source": [
    "### 3.7.3 Dataframe - Selecting Columns and Rows - Integer based selection\n",
    "\n",
    "<hr>\n",
    "\n",
    "- loc is primarily label based, but may also be used with a boolean array.\n",
    "\n",
    "- Allowed inputs are:"
   ]
  },
  {
   "cell_type": "markdown",
   "metadata": {
    "slideshow": {
     "slide_type": "fragment"
    }
   },
   "source": [
    "   - A single label"
   ]
  },
  {
   "cell_type": "code",
   "execution_count": 47,
   "metadata": {
    "slideshow": {
     "slide_type": "fragment"
    }
   },
   "outputs": [
    {
     "data": {
      "text/plain": [
       "Title     Ant-Man and the Wasp\n",
       "Year                      2018\n",
       "Studio             Beuna Vista\n",
       "Rating                     NaN\n",
       "Name: mcu_20, dtype: object"
      ]
     },
     "execution_count": 47,
     "metadata": {},
     "output_type": "execute_result"
    }
   ],
   "source": [
    "# Select all values of the 20th Movie\n",
    "\n",
    "df_mcu.loc['mcu_20']"
   ]
  },
  {
   "cell_type": "markdown",
   "metadata": {
    "slideshow": {
     "slide_type": "fragment"
    }
   },
   "source": [
    "   - A list or array of labels"
   ]
  },
  {
   "cell_type": "code",
   "execution_count": 48,
   "metadata": {
    "slideshow": {
     "slide_type": "fragment"
    }
   },
   "outputs": [
    {
     "data": {
      "text/html": [
       "<div>\n",
       "<style>\n",
       "    .dataframe thead tr:only-child th {\n",
       "        text-align: right;\n",
       "    }\n",
       "\n",
       "    .dataframe thead th {\n",
       "        text-align: left;\n",
       "    }\n",
       "\n",
       "    .dataframe tbody tr th {\n",
       "        vertical-align: top;\n",
       "    }\n",
       "</style>\n",
       "<table border=\"1\" class=\"dataframe\">\n",
       "  <thead>\n",
       "    <tr style=\"text-align: right;\">\n",
       "      <th></th>\n",
       "      <th>Title</th>\n",
       "      <th>Year</th>\n",
       "      <th>Studio</th>\n",
       "      <th>Rating</th>\n",
       "    </tr>\n",
       "  </thead>\n",
       "  <tbody>\n",
       "    <tr>\n",
       "      <th>mcu_20</th>\n",
       "      <td>Ant-Man and the Wasp</td>\n",
       "      <td>2018</td>\n",
       "      <td>Beuna Vista</td>\n",
       "      <td>NaN</td>\n",
       "    </tr>\n",
       "    <tr>\n",
       "      <th>mcu_17</th>\n",
       "      <td>Thor: Ragnarok</td>\n",
       "      <td>2017</td>\n",
       "      <td>Beuna Vista</td>\n",
       "      <td>0.92</td>\n",
       "    </tr>\n",
       "    <tr>\n",
       "      <th>mcu_15</th>\n",
       "      <td>Guardians of the Galaxy Vol. 2</td>\n",
       "      <td>2017</td>\n",
       "      <td>Beuna Vista</td>\n",
       "      <td>0.83</td>\n",
       "    </tr>\n",
       "  </tbody>\n",
       "</table>\n",
       "</div>"
      ],
      "text/plain": [
       "                                 Title  Year       Studio  Rating\n",
       "mcu_20            Ant-Man and the Wasp  2018  Beuna Vista     NaN\n",
       "mcu_17                  Thor: Ragnarok  2017  Beuna Vista    0.92\n",
       "mcu_15  Guardians of the Galaxy Vol. 2  2017  Beuna Vista    0.83"
      ]
     },
     "execution_count": 48,
     "metadata": {},
     "output_type": "execute_result"
    }
   ],
   "source": [
    "# Select all values of the 20th, 17th and 15th movie, which uses row index values, \n",
    "# Not to be confused with df_mcu[['Title', 'Rating']] which uses column headers\n",
    "\n",
    "df_mcu.loc[['mcu_20', 'mcu_17', 'mcu_15']]"
   ]
  },
  {
   "cell_type": "markdown",
   "metadata": {
    "slideshow": {
     "slide_type": "fragment"
    }
   },
   "source": [
    "- A slice object with labels\n",
    "\n",
    "<div style=\"background-color: #9999ff; padding: 10px;\"> NOTE: Unlike numeric index python slices, both the start and the stop are included!</div>"
   ]
  },
  {
   "cell_type": "code",
   "execution_count": 49,
   "metadata": {
    "slideshow": {
     "slide_type": "fragment"
    }
   },
   "outputs": [
    {
     "data": {
      "text/html": [
       "<div>\n",
       "<style>\n",
       "    .dataframe thead tr:only-child th {\n",
       "        text-align: right;\n",
       "    }\n",
       "\n",
       "    .dataframe thead th {\n",
       "        text-align: left;\n",
       "    }\n",
       "\n",
       "    .dataframe tbody tr th {\n",
       "        vertical-align: top;\n",
       "    }\n",
       "</style>\n",
       "<table border=\"1\" class=\"dataframe\">\n",
       "  <thead>\n",
       "    <tr style=\"text-align: right;\">\n",
       "      <th></th>\n",
       "      <th>Year</th>\n",
       "      <th>Rating</th>\n",
       "    </tr>\n",
       "  </thead>\n",
       "  <tbody>\n",
       "    <tr>\n",
       "      <th>mcu_20</th>\n",
       "      <td>2018</td>\n",
       "      <td>NaN</td>\n",
       "    </tr>\n",
       "    <tr>\n",
       "      <th>mcu_19</th>\n",
       "      <td>2018</td>\n",
       "      <td>NaN</td>\n",
       "    </tr>\n",
       "    <tr>\n",
       "      <th>mcu_18</th>\n",
       "      <td>2018</td>\n",
       "      <td>0.96</td>\n",
       "    </tr>\n",
       "    <tr>\n",
       "      <th>mcu_17</th>\n",
       "      <td>2017</td>\n",
       "      <td>0.92</td>\n",
       "    </tr>\n",
       "    <tr>\n",
       "      <th>mcu_16</th>\n",
       "      <td>2017</td>\n",
       "      <td>0.92</td>\n",
       "    </tr>\n",
       "    <tr>\n",
       "      <th>mcu_15</th>\n",
       "      <td>2017</td>\n",
       "      <td>0.83</td>\n",
       "    </tr>\n",
       "  </tbody>\n",
       "</table>\n",
       "</div>"
      ],
      "text/plain": [
       "        Year  Rating\n",
       "mcu_20  2018     NaN\n",
       "mcu_19  2018     NaN\n",
       "mcu_18  2018    0.96\n",
       "mcu_17  2017    0.92\n",
       "mcu_16  2017    0.92\n",
       "mcu_15  2017    0.83"
      ]
     },
     "execution_count": 49,
     "metadata": {},
     "output_type": "execute_result"
    }
   ],
   "source": [
    "# Select the Year and Rating\n",
    "\n",
    "\n",
    "df_mcu.loc[:, ['Year', 'Rating']]"
   ]
  },
  {
   "cell_type": "markdown",
   "metadata": {
    "slideshow": {
     "slide_type": "subslide"
    }
   },
   "source": [
    "### 3.7.4 Dataframe - Selecting Columns and Rows - Data Filtering\n",
    "\n",
    "<hr>\n",
    "\n",
    "- Data filtering using boolean\n"
   ]
  },
  {
   "cell_type": "markdown",
   "metadata": {
    "slideshow": {
     "slide_type": "fragment"
    }
   },
   "source": [
    "- Filter and select on single condition"
   ]
  },
  {
   "cell_type": "code",
   "execution_count": 50,
   "metadata": {
    "slideshow": {
     "slide_type": "fragment"
    }
   },
   "outputs": [
    {
     "data": {
      "text/html": [
       "<div>\n",
       "<style>\n",
       "    .dataframe thead tr:only-child th {\n",
       "        text-align: right;\n",
       "    }\n",
       "\n",
       "    .dataframe thead th {\n",
       "        text-align: left;\n",
       "    }\n",
       "\n",
       "    .dataframe tbody tr th {\n",
       "        vertical-align: top;\n",
       "    }\n",
       "</style>\n",
       "<table border=\"1\" class=\"dataframe\">\n",
       "  <thead>\n",
       "    <tr style=\"text-align: right;\">\n",
       "      <th></th>\n",
       "      <th>Title</th>\n",
       "      <th>Year</th>\n",
       "      <th>Studio</th>\n",
       "      <th>Rating</th>\n",
       "    </tr>\n",
       "  </thead>\n",
       "  <tbody>\n",
       "    <tr>\n",
       "      <th>mcu_17</th>\n",
       "      <td>Thor: Ragnarok</td>\n",
       "      <td>2017</td>\n",
       "      <td>Beuna Vista</td>\n",
       "      <td>0.92</td>\n",
       "    </tr>\n",
       "    <tr>\n",
       "      <th>mcu_16</th>\n",
       "      <td>Spider-Man: Homecoming</td>\n",
       "      <td>2017</td>\n",
       "      <td>Sony</td>\n",
       "      <td>0.92</td>\n",
       "    </tr>\n",
       "    <tr>\n",
       "      <th>mcu_15</th>\n",
       "      <td>Guardians of the Galaxy Vol. 2</td>\n",
       "      <td>2017</td>\n",
       "      <td>Beuna Vista</td>\n",
       "      <td>0.83</td>\n",
       "    </tr>\n",
       "  </tbody>\n",
       "</table>\n",
       "</div>"
      ],
      "text/plain": [
       "                                 Title  Year       Studio  Rating\n",
       "mcu_17                  Thor: Ragnarok  2017  Beuna Vista    0.92\n",
       "mcu_16          Spider-Man: Homecoming  2017         Sony    0.92\n",
       "mcu_15  Guardians of the Galaxy Vol. 2  2017  Beuna Vista    0.83"
      ]
     },
     "execution_count": 50,
     "metadata": {},
     "output_type": "execute_result"
    }
   ],
   "source": [
    "# Filter for Rating < .95\n",
    "\n",
    "df_mcu.loc[df_mcu['Rating'] < .95, :]"
   ]
  },
  {
   "cell_type": "markdown",
   "metadata": {
    "slideshow": {
     "slide_type": "fragment"
    }
   },
   "source": [
    "- Filter and select on multiple conidtions"
   ]
  },
  {
   "cell_type": "code",
   "execution_count": 51,
   "metadata": {
    "slideshow": {
     "slide_type": "fragment"
    }
   },
   "outputs": [
    {
     "data": {
      "text/html": [
       "<div>\n",
       "<style>\n",
       "    .dataframe thead tr:only-child th {\n",
       "        text-align: right;\n",
       "    }\n",
       "\n",
       "    .dataframe thead th {\n",
       "        text-align: left;\n",
       "    }\n",
       "\n",
       "    .dataframe tbody tr th {\n",
       "        vertical-align: top;\n",
       "    }\n",
       "</style>\n",
       "<table border=\"1\" class=\"dataframe\">\n",
       "  <thead>\n",
       "    <tr style=\"text-align: right;\">\n",
       "      <th></th>\n",
       "      <th>Title</th>\n",
       "      <th>Year</th>\n",
       "      <th>Studio</th>\n",
       "      <th>Rating</th>\n",
       "    </tr>\n",
       "  </thead>\n",
       "  <tbody>\n",
       "    <tr>\n",
       "      <th>mcu_17</th>\n",
       "      <td>Thor: Ragnarok</td>\n",
       "      <td>2017</td>\n",
       "      <td>Beuna Vista</td>\n",
       "      <td>0.92</td>\n",
       "    </tr>\n",
       "    <tr>\n",
       "      <th>mcu_16</th>\n",
       "      <td>Spider-Man: Homecoming</td>\n",
       "      <td>2017</td>\n",
       "      <td>Sony</td>\n",
       "      <td>0.92</td>\n",
       "    </tr>\n",
       "    <tr>\n",
       "      <th>mcu_15</th>\n",
       "      <td>Guardians of the Galaxy Vol. 2</td>\n",
       "      <td>2017</td>\n",
       "      <td>Beuna Vista</td>\n",
       "      <td>0.83</td>\n",
       "    </tr>\n",
       "  </tbody>\n",
       "</table>\n",
       "</div>"
      ],
      "text/plain": [
       "                                 Title  Year       Studio  Rating\n",
       "mcu_17                  Thor: Ragnarok  2017  Beuna Vista    0.92\n",
       "mcu_16          Spider-Man: Homecoming  2017         Sony    0.92\n",
       "mcu_15  Guardians of the Galaxy Vol. 2  2017  Beuna Vista    0.83"
      ]
     },
     "execution_count": 51,
     "metadata": {},
     "output_type": "execute_result"
    }
   ],
   "source": [
    "# Filter for Rating < .95 and Sudio is Sony\n",
    "# Reuse the bitwise comparator seen earlier but with OR instead of AND.\n",
    "\n",
    "df_mcu.loc[(df_mcu['Rating'] < .95) | (df_mcu['Studio'] == 'Sony'), :]"
   ]
  },
  {
   "cell_type": "markdown",
   "metadata": {
    "slideshow": {
     "slide_type": "subslide"
    }
   },
   "source": [
    "### 3.8 Dataframe - Adding and Deleting data\n",
    "\n",
    "<hr>"
   ]
  },
  {
   "cell_type": "markdown",
   "metadata": {
    "slideshow": {
     "slide_type": "fragment"
    }
   },
   "source": [
    "- Add a new column"
   ]
  },
  {
   "cell_type": "code",
   "execution_count": 52,
   "metadata": {
    "slideshow": {
     "slide_type": "fragment"
    }
   },
   "outputs": [
    {
     "data": {
      "text/html": [
       "<div>\n",
       "<style>\n",
       "    .dataframe thead tr:only-child th {\n",
       "        text-align: right;\n",
       "    }\n",
       "\n",
       "    .dataframe thead th {\n",
       "        text-align: left;\n",
       "    }\n",
       "\n",
       "    .dataframe tbody tr th {\n",
       "        vertical-align: top;\n",
       "    }\n",
       "</style>\n",
       "<table border=\"1\" class=\"dataframe\">\n",
       "  <thead>\n",
       "    <tr style=\"text-align: right;\">\n",
       "      <th></th>\n",
       "      <th>Title</th>\n",
       "      <th>Year</th>\n",
       "      <th>Studio</th>\n",
       "      <th>Rating</th>\n",
       "      <th>Predicted Rating</th>\n",
       "    </tr>\n",
       "  </thead>\n",
       "  <tbody>\n",
       "    <tr>\n",
       "      <th>mcu_20</th>\n",
       "      <td>Ant-Man and the Wasp</td>\n",
       "      <td>2018</td>\n",
       "      <td>Beuna Vista</td>\n",
       "      <td>NaN</td>\n",
       "      <td>0.016992</td>\n",
       "    </tr>\n",
       "    <tr>\n",
       "      <th>mcu_19</th>\n",
       "      <td>Avengers: Infinity War</td>\n",
       "      <td>2018</td>\n",
       "      <td>Beuna Vista</td>\n",
       "      <td>NaN</td>\n",
       "      <td>0.962886</td>\n",
       "    </tr>\n",
       "    <tr>\n",
       "      <th>mcu_18</th>\n",
       "      <td>Black Panther</td>\n",
       "      <td>2018</td>\n",
       "      <td>Beuna Vista</td>\n",
       "      <td>0.96</td>\n",
       "      <td>0.872491</td>\n",
       "    </tr>\n",
       "    <tr>\n",
       "      <th>mcu_17</th>\n",
       "      <td>Thor: Ragnarok</td>\n",
       "      <td>2017</td>\n",
       "      <td>Beuna Vista</td>\n",
       "      <td>0.92</td>\n",
       "      <td>0.711236</td>\n",
       "    </tr>\n",
       "    <tr>\n",
       "      <th>mcu_16</th>\n",
       "      <td>Spider-Man: Homecoming</td>\n",
       "      <td>2017</td>\n",
       "      <td>Sony</td>\n",
       "      <td>0.92</td>\n",
       "      <td>0.997052</td>\n",
       "    </tr>\n",
       "    <tr>\n",
       "      <th>mcu_15</th>\n",
       "      <td>Guardians of the Galaxy Vol. 2</td>\n",
       "      <td>2017</td>\n",
       "      <td>Beuna Vista</td>\n",
       "      <td>0.83</td>\n",
       "      <td>0.922450</td>\n",
       "    </tr>\n",
       "  </tbody>\n",
       "</table>\n",
       "</div>"
      ],
      "text/plain": [
       "                                 Title  Year       Studio  Rating  \\\n",
       "mcu_20            Ant-Man and the Wasp  2018  Beuna Vista     NaN   \n",
       "mcu_19          Avengers: Infinity War  2018  Beuna Vista     NaN   \n",
       "mcu_18                   Black Panther  2018  Beuna Vista    0.96   \n",
       "mcu_17                  Thor: Ragnarok  2017  Beuna Vista    0.92   \n",
       "mcu_16          Spider-Man: Homecoming  2017         Sony    0.92   \n",
       "mcu_15  Guardians of the Galaxy Vol. 2  2017  Beuna Vista    0.83   \n",
       "\n",
       "        Predicted Rating  \n",
       "mcu_20          0.016992  \n",
       "mcu_19          0.962886  \n",
       "mcu_18          0.872491  \n",
       "mcu_17          0.711236  \n",
       "mcu_16          0.997052  \n",
       "mcu_15          0.922450  "
      ]
     },
     "execution_count": 52,
     "metadata": {},
     "output_type": "execute_result"
    }
   ],
   "source": [
    "# Add new predicted rating to Dataframe\n",
    "\n",
    "df_mcu['Predicted Rating'] = np.random.random(len(df_mcu))\n",
    "df_mcu"
   ]
  },
  {
   "cell_type": "markdown",
   "metadata": {},
   "source": [
    "- Add a new row"
   ]
  },
  {
   "cell_type": "code",
   "execution_count": 53,
   "metadata": {
    "slideshow": {
     "slide_type": "fragment"
    }
   },
   "outputs": [
    {
     "data": {
      "text/html": [
       "<div>\n",
       "<style>\n",
       "    .dataframe thead tr:only-child th {\n",
       "        text-align: right;\n",
       "    }\n",
       "\n",
       "    .dataframe thead th {\n",
       "        text-align: left;\n",
       "    }\n",
       "\n",
       "    .dataframe tbody tr th {\n",
       "        vertical-align: top;\n",
       "    }\n",
       "</style>\n",
       "<table border=\"1\" class=\"dataframe\">\n",
       "  <thead>\n",
       "    <tr style=\"text-align: right;\">\n",
       "      <th></th>\n",
       "      <th>Title</th>\n",
       "      <th>Year</th>\n",
       "      <th>Studio</th>\n",
       "      <th>Rating</th>\n",
       "      <th>Predicted Rating</th>\n",
       "    </tr>\n",
       "  </thead>\n",
       "  <tbody>\n",
       "    <tr>\n",
       "      <th>mcu_20</th>\n",
       "      <td>Ant-Man and the Wasp</td>\n",
       "      <td>2018</td>\n",
       "      <td>Beuna Vista</td>\n",
       "      <td>NaN</td>\n",
       "      <td>0.016992</td>\n",
       "    </tr>\n",
       "    <tr>\n",
       "      <th>mcu_19</th>\n",
       "      <td>Avengers: Infinity War</td>\n",
       "      <td>2018</td>\n",
       "      <td>Beuna Vista</td>\n",
       "      <td>NaN</td>\n",
       "      <td>0.962886</td>\n",
       "    </tr>\n",
       "    <tr>\n",
       "      <th>mcu_18</th>\n",
       "      <td>Black Panther</td>\n",
       "      <td>2018</td>\n",
       "      <td>Beuna Vista</td>\n",
       "      <td>0.96</td>\n",
       "      <td>0.872491</td>\n",
       "    </tr>\n",
       "    <tr>\n",
       "      <th>mcu_17</th>\n",
       "      <td>Thor: Ragnarok</td>\n",
       "      <td>2017</td>\n",
       "      <td>Beuna Vista</td>\n",
       "      <td>0.92</td>\n",
       "      <td>0.711236</td>\n",
       "    </tr>\n",
       "    <tr>\n",
       "      <th>mcu_16</th>\n",
       "      <td>Spider-Man: Homecoming</td>\n",
       "      <td>2017</td>\n",
       "      <td>Sony</td>\n",
       "      <td>0.92</td>\n",
       "      <td>0.997052</td>\n",
       "    </tr>\n",
       "    <tr>\n",
       "      <th>mcu_15</th>\n",
       "      <td>Guardians of the Galaxy Vol. 2</td>\n",
       "      <td>2017</td>\n",
       "      <td>Beuna Vista</td>\n",
       "      <td>0.83</td>\n",
       "      <td>0.922450</td>\n",
       "    </tr>\n",
       "    <tr>\n",
       "      <th>mcu_21</th>\n",
       "      <td>Captain Marvel</td>\n",
       "      <td>2019</td>\n",
       "      <td>BeunaVista</td>\n",
       "      <td>NaN</td>\n",
       "      <td>0.997816</td>\n",
       "    </tr>\n",
       "  </tbody>\n",
       "</table>\n",
       "</div>"
      ],
      "text/plain": [
       "                                 Title  Year       Studio  Rating  \\\n",
       "mcu_20            Ant-Man and the Wasp  2018  Beuna Vista     NaN   \n",
       "mcu_19          Avengers: Infinity War  2018  Beuna Vista     NaN   \n",
       "mcu_18                   Black Panther  2018  Beuna Vista    0.96   \n",
       "mcu_17                  Thor: Ragnarok  2017  Beuna Vista    0.92   \n",
       "mcu_16          Spider-Man: Homecoming  2017         Sony    0.92   \n",
       "mcu_15  Guardians of the Galaxy Vol. 2  2017  Beuna Vista    0.83   \n",
       "mcu_21                  Captain Marvel  2019   BeunaVista     NaN   \n",
       "\n",
       "        Predicted Rating  \n",
       "mcu_20          0.016992  \n",
       "mcu_19          0.962886  \n",
       "mcu_18          0.872491  \n",
       "mcu_17          0.711236  \n",
       "mcu_16          0.997052  \n",
       "mcu_15          0.922450  \n",
       "mcu_21          0.997816  "
      ]
     },
     "execution_count": 53,
     "metadata": {},
     "output_type": "execute_result"
    }
   ],
   "source": [
    "# Add a new row for a new movie \n",
    "\n",
    "new_row = pd.Series(['Captain Marvel', 2019, 'BeunaVista',  np.nan, np.random.random(1)[0]], index=df_mcu.columns, name= 'mcu_21' )\n",
    "df_mcu.append(new_row)"
   ]
  },
  {
   "cell_type": "markdown",
   "metadata": {
    "slideshow": {
     "slide_type": "fragment"
    }
   },
   "source": [
    "- Drop an existing column"
   ]
  },
  {
   "cell_type": "code",
   "execution_count": 54,
   "metadata": {
    "slideshow": {
     "slide_type": "fragment"
    }
   },
   "outputs": [
    {
     "data": {
      "text/html": [
       "<div>\n",
       "<style>\n",
       "    .dataframe thead tr:only-child th {\n",
       "        text-align: right;\n",
       "    }\n",
       "\n",
       "    .dataframe thead th {\n",
       "        text-align: left;\n",
       "    }\n",
       "\n",
       "    .dataframe tbody tr th {\n",
       "        vertical-align: top;\n",
       "    }\n",
       "</style>\n",
       "<table border=\"1\" class=\"dataframe\">\n",
       "  <thead>\n",
       "    <tr style=\"text-align: right;\">\n",
       "      <th></th>\n",
       "      <th>Title</th>\n",
       "      <th>Year</th>\n",
       "      <th>Studio</th>\n",
       "      <th>Predicted Rating</th>\n",
       "    </tr>\n",
       "  </thead>\n",
       "  <tbody>\n",
       "    <tr>\n",
       "      <th>mcu_20</th>\n",
       "      <td>Ant-Man and the Wasp</td>\n",
       "      <td>2018</td>\n",
       "      <td>Beuna Vista</td>\n",
       "      <td>0.016992</td>\n",
       "    </tr>\n",
       "    <tr>\n",
       "      <th>mcu_19</th>\n",
       "      <td>Avengers: Infinity War</td>\n",
       "      <td>2018</td>\n",
       "      <td>Beuna Vista</td>\n",
       "      <td>0.962886</td>\n",
       "    </tr>\n",
       "    <tr>\n",
       "      <th>mcu_18</th>\n",
       "      <td>Black Panther</td>\n",
       "      <td>2018</td>\n",
       "      <td>Beuna Vista</td>\n",
       "      <td>0.872491</td>\n",
       "    </tr>\n",
       "    <tr>\n",
       "      <th>mcu_17</th>\n",
       "      <td>Thor: Ragnarok</td>\n",
       "      <td>2017</td>\n",
       "      <td>Beuna Vista</td>\n",
       "      <td>0.711236</td>\n",
       "    </tr>\n",
       "    <tr>\n",
       "      <th>mcu_16</th>\n",
       "      <td>Spider-Man: Homecoming</td>\n",
       "      <td>2017</td>\n",
       "      <td>Sony</td>\n",
       "      <td>0.997052</td>\n",
       "    </tr>\n",
       "    <tr>\n",
       "      <th>mcu_15</th>\n",
       "      <td>Guardians of the Galaxy Vol. 2</td>\n",
       "      <td>2017</td>\n",
       "      <td>Beuna Vista</td>\n",
       "      <td>0.922450</td>\n",
       "    </tr>\n",
       "  </tbody>\n",
       "</table>\n",
       "</div>"
      ],
      "text/plain": [
       "                                 Title  Year       Studio  Predicted Rating\n",
       "mcu_20            Ant-Man and the Wasp  2018  Beuna Vista          0.016992\n",
       "mcu_19          Avengers: Infinity War  2018  Beuna Vista          0.962886\n",
       "mcu_18                   Black Panther  2018  Beuna Vista          0.872491\n",
       "mcu_17                  Thor: Ragnarok  2017  Beuna Vista          0.711236\n",
       "mcu_16          Spider-Man: Homecoming  2017         Sony          0.997052\n",
       "mcu_15  Guardians of the Galaxy Vol. 2  2017  Beuna Vista          0.922450"
      ]
     },
     "execution_count": 54,
     "metadata": {},
     "output_type": "execute_result"
    }
   ],
   "source": [
    "# Drop the Rating Column\n",
    "\n",
    "df_mcu.drop('Rating', axis=1)"
   ]
  },
  {
   "cell_type": "markdown",
   "metadata": {
    "slideshow": {
     "slide_type": "fragment"
    }
   },
   "source": [
    "- Drop an existing row"
   ]
  },
  {
   "cell_type": "code",
   "execution_count": 55,
   "metadata": {
    "slideshow": {
     "slide_type": "fragment"
    }
   },
   "outputs": [
    {
     "data": {
      "text/html": [
       "<div>\n",
       "<style>\n",
       "    .dataframe thead tr:only-child th {\n",
       "        text-align: right;\n",
       "    }\n",
       "\n",
       "    .dataframe thead th {\n",
       "        text-align: left;\n",
       "    }\n",
       "\n",
       "    .dataframe tbody tr th {\n",
       "        vertical-align: top;\n",
       "    }\n",
       "</style>\n",
       "<table border=\"1\" class=\"dataframe\">\n",
       "  <thead>\n",
       "    <tr style=\"text-align: right;\">\n",
       "      <th></th>\n",
       "      <th>Title</th>\n",
       "      <th>Year</th>\n",
       "      <th>Studio</th>\n",
       "      <th>Rating</th>\n",
       "      <th>Predicted Rating</th>\n",
       "    </tr>\n",
       "  </thead>\n",
       "  <tbody>\n",
       "    <tr>\n",
       "      <th>mcu_20</th>\n",
       "      <td>Ant-Man and the Wasp</td>\n",
       "      <td>2018</td>\n",
       "      <td>Beuna Vista</td>\n",
       "      <td>NaN</td>\n",
       "      <td>0.016992</td>\n",
       "    </tr>\n",
       "    <tr>\n",
       "      <th>mcu_19</th>\n",
       "      <td>Avengers: Infinity War</td>\n",
       "      <td>2018</td>\n",
       "      <td>Beuna Vista</td>\n",
       "      <td>NaN</td>\n",
       "      <td>0.962886</td>\n",
       "    </tr>\n",
       "    <tr>\n",
       "      <th>mcu_18</th>\n",
       "      <td>Black Panther</td>\n",
       "      <td>2018</td>\n",
       "      <td>Beuna Vista</td>\n",
       "      <td>0.96</td>\n",
       "      <td>0.872491</td>\n",
       "    </tr>\n",
       "    <tr>\n",
       "      <th>mcu_16</th>\n",
       "      <td>Spider-Man: Homecoming</td>\n",
       "      <td>2017</td>\n",
       "      <td>Sony</td>\n",
       "      <td>0.92</td>\n",
       "      <td>0.997052</td>\n",
       "    </tr>\n",
       "  </tbody>\n",
       "</table>\n",
       "</div>"
      ],
      "text/plain": [
       "                         Title  Year       Studio  Rating  Predicted Rating\n",
       "mcu_20    Ant-Man and the Wasp  2018  Beuna Vista     NaN          0.016992\n",
       "mcu_19  Avengers: Infinity War  2018  Beuna Vista     NaN          0.962886\n",
       "mcu_18           Black Panther  2018  Beuna Vista    0.96          0.872491\n",
       "mcu_16  Spider-Man: Homecoming  2017         Sony    0.92          0.997052"
      ]
     },
     "execution_count": 55,
     "metadata": {},
     "output_type": "execute_result"
    }
   ],
   "source": [
    "# Drop the 17 and 19th movies\n",
    "\n",
    "df_mcu.drop(['mcu_15', 'mcu_17'])"
   ]
  },
  {
   "cell_type": "markdown",
   "metadata": {
    "slideshow": {
     "slide_type": "fragment"
    }
   },
   "source": [
    "- Columns, Rows or individual elements can be modified similarly using loc or iloc.\n",
    "\n",
    "<div style=\"background-color: #9999ff; padding: 10px;\"> NOTE: Return new object Dataframe, withouth changing the orignal dataframe (append, drop).</div>\n"
   ]
  },
  {
   "cell_type": "markdown",
   "metadata": {
    "slideshow": {
     "slide_type": "slide"
    }
   },
   "source": [
    "<div style=\"background-color:yellow; padding: 10px\"><h3><span></span>Exericse 3</div>\n",
    "\n",
    "<hr>\n",
    "\n",
    "Create a Dataframe from a specified dictionary data of \n",
    "\n",
    "Which Students have scorescore is between 15 and 20?\n",
    "\n",
    "\n",
    "| Names  | Scores  | Attempts | Qualify | \n",
    "| ------ | ------ | ------ | ------ |\n",
    "| Anastasia     | 12.5     | 1 | 'yes' |\n",
    "| Dima     | 9     | 3 | 'no' |\n",
    "| Katherine     | 16.5     | 2| 'yes' |\n",
    "| James     | NaN     | 3| 'no' |\n",
    "| Emily     | 9     | 2| 'no' |\n",
    "| Michael     | 20     | 3| 'yes' |\n",
    "| Matthew     | 14.5     | 1| 'yes' |\n",
    "| Laura     | NaN     | 1| 'no' |\n",
    "| Kevin     | 8     | 2| 'no' |\n",
    "| Jonas     | 19     | 1| 'yes' |\n",
    "\n"
   ]
  },
  {
   "cell_type": "code",
   "execution_count": 56,
   "metadata": {
    "slideshow": {
     "slide_type": "fragment"
    }
   },
   "outputs": [
    {
     "data": {
      "text/html": [
       "<div>\n",
       "<style>\n",
       "    .dataframe thead tr:only-child th {\n",
       "        text-align: right;\n",
       "    }\n",
       "\n",
       "    .dataframe thead th {\n",
       "        text-align: left;\n",
       "    }\n",
       "\n",
       "    .dataframe tbody tr th {\n",
       "        vertical-align: top;\n",
       "    }\n",
       "</style>\n",
       "<table border=\"1\" class=\"dataframe\">\n",
       "  <thead>\n",
       "    <tr style=\"text-align: right;\">\n",
       "      <th></th>\n",
       "      <th>Attempts</th>\n",
       "      <th>Names</th>\n",
       "      <th>Qualify</th>\n",
       "      <th>Scores</th>\n",
       "    </tr>\n",
       "  </thead>\n",
       "  <tbody>\n",
       "    <tr>\n",
       "      <th>0</th>\n",
       "      <td>1</td>\n",
       "      <td>Anastasia</td>\n",
       "      <td>yes</td>\n",
       "      <td>12.5</td>\n",
       "    </tr>\n",
       "    <tr>\n",
       "      <th>1</th>\n",
       "      <td>3</td>\n",
       "      <td>Dima</td>\n",
       "      <td>no</td>\n",
       "      <td>9.0</td>\n",
       "    </tr>\n",
       "    <tr>\n",
       "      <th>2</th>\n",
       "      <td>2</td>\n",
       "      <td>Katherine</td>\n",
       "      <td>yes</td>\n",
       "      <td>16.5</td>\n",
       "    </tr>\n",
       "    <tr>\n",
       "      <th>3</th>\n",
       "      <td>3</td>\n",
       "      <td>James</td>\n",
       "      <td>no</td>\n",
       "      <td>NaN</td>\n",
       "    </tr>\n",
       "    <tr>\n",
       "      <th>4</th>\n",
       "      <td>2</td>\n",
       "      <td>Emily</td>\n",
       "      <td>no</td>\n",
       "      <td>9.0</td>\n",
       "    </tr>\n",
       "    <tr>\n",
       "      <th>5</th>\n",
       "      <td>3</td>\n",
       "      <td>Michael</td>\n",
       "      <td>yes</td>\n",
       "      <td>20.0</td>\n",
       "    </tr>\n",
       "    <tr>\n",
       "      <th>6</th>\n",
       "      <td>1</td>\n",
       "      <td>Matthew</td>\n",
       "      <td>yes</td>\n",
       "      <td>14.5</td>\n",
       "    </tr>\n",
       "    <tr>\n",
       "      <th>7</th>\n",
       "      <td>1</td>\n",
       "      <td>Laura</td>\n",
       "      <td>no</td>\n",
       "      <td>NaN</td>\n",
       "    </tr>\n",
       "    <tr>\n",
       "      <th>8</th>\n",
       "      <td>2</td>\n",
       "      <td>Kevin</td>\n",
       "      <td>no</td>\n",
       "      <td>8.0</td>\n",
       "    </tr>\n",
       "    <tr>\n",
       "      <th>9</th>\n",
       "      <td>1</td>\n",
       "      <td>Jonas</td>\n",
       "      <td>yes</td>\n",
       "      <td>19.0</td>\n",
       "    </tr>\n",
       "  </tbody>\n",
       "</table>\n",
       "</div>"
      ],
      "text/plain": [
       "   Attempts      Names Qualify  Scores\n",
       "0         1  Anastasia     yes    12.5\n",
       "1         3       Dima      no     9.0\n",
       "2         2  Katherine     yes    16.5\n",
       "3         3      James      no     NaN\n",
       "4         2      Emily      no     9.0\n",
       "5         3    Michael     yes    20.0\n",
       "6         1    Matthew     yes    14.5\n",
       "7         1      Laura      no     NaN\n",
       "8         2      Kevin      no     8.0\n",
       "9         1      Jonas     yes    19.0"
      ]
     },
     "execution_count": 56,
     "metadata": {},
     "output_type": "execute_result"
    }
   ],
   "source": [
    "# Sample Python data:\n",
    "\n",
    "\n",
    "exam_data = {'Names': ['Anastasia', 'Dima', 'Katherine', 'James', 'Emily', 'Michael', 'Matthew', 'Laura', 'Kevin', 'Jonas'], \n",
    "             'Scores': [12.5, 9, 16.5, np.nan, 9, 20, 14.5, np.nan, 8, 19], \n",
    "             'Attempts': [1, 3, 2, 3, 2, 3, 1, 1, 2, 1], \n",
    "             'Qualify': ['yes', 'no', 'yes', 'no', 'no', 'yes', 'yes', 'no', 'no', 'yes']} \n",
    "\n",
    "student_data = pd.DataFrame(exam_data)\n",
    "student_data"
   ]
  },
  {
   "cell_type": "code",
   "execution_count": 57,
   "metadata": {
    "slideshow": {
     "slide_type": "fragment"
    }
   },
   "outputs": [
    {
     "data": {
      "text/html": [
       "<div>\n",
       "<style>\n",
       "    .dataframe thead tr:only-child th {\n",
       "        text-align: right;\n",
       "    }\n",
       "\n",
       "    .dataframe thead th {\n",
       "        text-align: left;\n",
       "    }\n",
       "\n",
       "    .dataframe tbody tr th {\n",
       "        vertical-align: top;\n",
       "    }\n",
       "</style>\n",
       "<table border=\"1\" class=\"dataframe\">\n",
       "  <thead>\n",
       "    <tr style=\"text-align: right;\">\n",
       "      <th></th>\n",
       "      <th>Attempts</th>\n",
       "      <th>Names</th>\n",
       "      <th>Qualify</th>\n",
       "      <th>Scores</th>\n",
       "    </tr>\n",
       "  </thead>\n",
       "  <tbody>\n",
       "    <tr>\n",
       "      <th>0</th>\n",
       "      <td>1</td>\n",
       "      <td>Anastasia</td>\n",
       "      <td>yes</td>\n",
       "      <td>12.5</td>\n",
       "    </tr>\n",
       "    <tr>\n",
       "      <th>2</th>\n",
       "      <td>2</td>\n",
       "      <td>Katherine</td>\n",
       "      <td>yes</td>\n",
       "      <td>16.5</td>\n",
       "    </tr>\n",
       "    <tr>\n",
       "      <th>5</th>\n",
       "      <td>3</td>\n",
       "      <td>Michael</td>\n",
       "      <td>yes</td>\n",
       "      <td>20.0</td>\n",
       "    </tr>\n",
       "    <tr>\n",
       "      <th>6</th>\n",
       "      <td>1</td>\n",
       "      <td>Matthew</td>\n",
       "      <td>yes</td>\n",
       "      <td>14.5</td>\n",
       "    </tr>\n",
       "    <tr>\n",
       "      <th>9</th>\n",
       "      <td>1</td>\n",
       "      <td>Jonas</td>\n",
       "      <td>yes</td>\n",
       "      <td>19.0</td>\n",
       "    </tr>\n",
       "  </tbody>\n",
       "</table>\n",
       "</div>"
      ],
      "text/plain": [
       "   Attempts      Names Qualify  Scores\n",
       "0         1  Anastasia     yes    12.5\n",
       "2         2  Katherine     yes    16.5\n",
       "5         3    Michael     yes    20.0\n",
       "6         1    Matthew     yes    14.5\n",
       "9         1      Jonas     yes    19.0"
      ]
     },
     "execution_count": 57,
     "metadata": {},
     "output_type": "execute_result"
    }
   ],
   "source": [
    "# Select the students the qualify based on scores using the Qualify column 'yes'\n",
    "\n",
    "student_data[student_data['Qualify'] == 'yes']"
   ]
  },
  {
   "cell_type": "markdown",
   "metadata": {
    "slideshow": {
     "slide_type": "slide"
    }
   },
   "source": [
    "<div style=\"background-color:yellow; padding: 10px\"><h3><span></span>Exercise 4</div>\n",
    "\n",
    "<hr>\n",
    "\n",
    "Add a new column of, Grade Level, to indicate which Grade in High school the students are in?\n",
    "\n",
    "Add a new student named, Jack? (Hint: Need to use ignore_index=True)"
   ]
  },
  {
   "cell_type": "code",
   "execution_count": 58,
   "metadata": {
    "slideshow": {
     "slide_type": "fragment"
    }
   },
   "outputs": [
    {
     "data": {
      "text/html": [
       "<div>\n",
       "<style>\n",
       "    .dataframe thead tr:only-child th {\n",
       "        text-align: right;\n",
       "    }\n",
       "\n",
       "    .dataframe thead th {\n",
       "        text-align: left;\n",
       "    }\n",
       "\n",
       "    .dataframe tbody tr th {\n",
       "        vertical-align: top;\n",
       "    }\n",
       "</style>\n",
       "<table border=\"1\" class=\"dataframe\">\n",
       "  <thead>\n",
       "    <tr style=\"text-align: right;\">\n",
       "      <th></th>\n",
       "      <th>Attempts</th>\n",
       "      <th>Names</th>\n",
       "      <th>Qualify</th>\n",
       "      <th>Scores</th>\n",
       "      <th>Grade</th>\n",
       "    </tr>\n",
       "  </thead>\n",
       "  <tbody>\n",
       "    <tr>\n",
       "      <th>0</th>\n",
       "      <td>1</td>\n",
       "      <td>Anastasia</td>\n",
       "      <td>yes</td>\n",
       "      <td>12.5</td>\n",
       "      <td>9th</td>\n",
       "    </tr>\n",
       "    <tr>\n",
       "      <th>1</th>\n",
       "      <td>3</td>\n",
       "      <td>Dima</td>\n",
       "      <td>no</td>\n",
       "      <td>9.0</td>\n",
       "      <td>9th</td>\n",
       "    </tr>\n",
       "    <tr>\n",
       "      <th>2</th>\n",
       "      <td>2</td>\n",
       "      <td>Katherine</td>\n",
       "      <td>yes</td>\n",
       "      <td>16.5</td>\n",
       "      <td>10th</td>\n",
       "    </tr>\n",
       "    <tr>\n",
       "      <th>3</th>\n",
       "      <td>3</td>\n",
       "      <td>James</td>\n",
       "      <td>no</td>\n",
       "      <td>NaN</td>\n",
       "      <td>11th</td>\n",
       "    </tr>\n",
       "    <tr>\n",
       "      <th>4</th>\n",
       "      <td>2</td>\n",
       "      <td>Emily</td>\n",
       "      <td>no</td>\n",
       "      <td>9.0</td>\n",
       "      <td>12th</td>\n",
       "    </tr>\n",
       "    <tr>\n",
       "      <th>5</th>\n",
       "      <td>3</td>\n",
       "      <td>Michael</td>\n",
       "      <td>yes</td>\n",
       "      <td>20.0</td>\n",
       "      <td>9th</td>\n",
       "    </tr>\n",
       "    <tr>\n",
       "      <th>6</th>\n",
       "      <td>1</td>\n",
       "      <td>Matthew</td>\n",
       "      <td>yes</td>\n",
       "      <td>14.5</td>\n",
       "      <td>10th</td>\n",
       "    </tr>\n",
       "    <tr>\n",
       "      <th>7</th>\n",
       "      <td>1</td>\n",
       "      <td>Laura</td>\n",
       "      <td>no</td>\n",
       "      <td>NaN</td>\n",
       "      <td>11th</td>\n",
       "    </tr>\n",
       "    <tr>\n",
       "      <th>8</th>\n",
       "      <td>2</td>\n",
       "      <td>Kevin</td>\n",
       "      <td>no</td>\n",
       "      <td>8.0</td>\n",
       "      <td>12th</td>\n",
       "    </tr>\n",
       "    <tr>\n",
       "      <th>9</th>\n",
       "      <td>1</td>\n",
       "      <td>Jonas</td>\n",
       "      <td>yes</td>\n",
       "      <td>19.0</td>\n",
       "      <td>11th</td>\n",
       "    </tr>\n",
       "  </tbody>\n",
       "</table>\n",
       "</div>"
      ],
      "text/plain": [
       "   Attempts      Names Qualify  Scores Grade\n",
       "0         1  Anastasia     yes    12.5   9th\n",
       "1         3       Dima      no     9.0   9th\n",
       "2         2  Katherine     yes    16.5  10th\n",
       "3         3      James      no     NaN  11th\n",
       "4         2      Emily      no     9.0  12th\n",
       "5         3    Michael     yes    20.0   9th\n",
       "6         1    Matthew     yes    14.5  10th\n",
       "7         1      Laura      no     NaN  11th\n",
       "8         2      Kevin      no     8.0  12th\n",
       "9         1      Jonas     yes    19.0  11th"
      ]
     },
     "execution_count": 58,
     "metadata": {},
     "output_type": "execute_result"
    }
   ],
   "source": [
    "# Add a new column of, Grade Level, to indicate which Grade in High school the students are in?\n",
    "\n",
    "grade_level = ['9th', '9th', '10th', '11th', '12th', '9th', '10th', '11th', '12th', '11th']\n",
    "student_data['Grade'] = grade_level\n",
    "student_data"
   ]
  },
  {
   "cell_type": "code",
   "execution_count": 59,
   "metadata": {
    "slideshow": {
     "slide_type": "fragment"
    }
   },
   "outputs": [
    {
     "data": {
      "text/plain": [
       "Index(['Attempts', 'Names', 'Qualify', 'Scores', 'Grade'], dtype='object')"
      ]
     },
     "execution_count": 59,
     "metadata": {},
     "output_type": "execute_result"
    }
   ],
   "source": [
    "student_data.columns"
   ]
  },
  {
   "cell_type": "code",
   "execution_count": 60,
   "metadata": {
    "slideshow": {
     "slide_type": "fragment"
    }
   },
   "outputs": [
    {
     "data": {
      "text/html": [
       "<div>\n",
       "<style>\n",
       "    .dataframe thead tr:only-child th {\n",
       "        text-align: right;\n",
       "    }\n",
       "\n",
       "    .dataframe thead th {\n",
       "        text-align: left;\n",
       "    }\n",
       "\n",
       "    .dataframe tbody tr th {\n",
       "        vertical-align: top;\n",
       "    }\n",
       "</style>\n",
       "<table border=\"1\" class=\"dataframe\">\n",
       "  <thead>\n",
       "    <tr style=\"text-align: right;\">\n",
       "      <th></th>\n",
       "      <th>Attempts</th>\n",
       "      <th>Names</th>\n",
       "      <th>Qualify</th>\n",
       "      <th>Scores</th>\n",
       "      <th>Grade</th>\n",
       "    </tr>\n",
       "  </thead>\n",
       "  <tbody>\n",
       "    <tr>\n",
       "      <th>0</th>\n",
       "      <td>1</td>\n",
       "      <td>Anastasia</td>\n",
       "      <td>yes</td>\n",
       "      <td>12.5</td>\n",
       "      <td>9th</td>\n",
       "    </tr>\n",
       "    <tr>\n",
       "      <th>1</th>\n",
       "      <td>3</td>\n",
       "      <td>Dima</td>\n",
       "      <td>no</td>\n",
       "      <td>9.0</td>\n",
       "      <td>9th</td>\n",
       "    </tr>\n",
       "    <tr>\n",
       "      <th>2</th>\n",
       "      <td>2</td>\n",
       "      <td>Katherine</td>\n",
       "      <td>yes</td>\n",
       "      <td>16.5</td>\n",
       "      <td>10th</td>\n",
       "    </tr>\n",
       "    <tr>\n",
       "      <th>3</th>\n",
       "      <td>3</td>\n",
       "      <td>James</td>\n",
       "      <td>no</td>\n",
       "      <td>NaN</td>\n",
       "      <td>11th</td>\n",
       "    </tr>\n",
       "    <tr>\n",
       "      <th>4</th>\n",
       "      <td>2</td>\n",
       "      <td>Emily</td>\n",
       "      <td>no</td>\n",
       "      <td>9.0</td>\n",
       "      <td>12th</td>\n",
       "    </tr>\n",
       "    <tr>\n",
       "      <th>5</th>\n",
       "      <td>3</td>\n",
       "      <td>Michael</td>\n",
       "      <td>yes</td>\n",
       "      <td>20.0</td>\n",
       "      <td>9th</td>\n",
       "    </tr>\n",
       "    <tr>\n",
       "      <th>6</th>\n",
       "      <td>1</td>\n",
       "      <td>Matthew</td>\n",
       "      <td>yes</td>\n",
       "      <td>14.5</td>\n",
       "      <td>10th</td>\n",
       "    </tr>\n",
       "    <tr>\n",
       "      <th>7</th>\n",
       "      <td>1</td>\n",
       "      <td>Laura</td>\n",
       "      <td>no</td>\n",
       "      <td>NaN</td>\n",
       "      <td>11th</td>\n",
       "    </tr>\n",
       "    <tr>\n",
       "      <th>8</th>\n",
       "      <td>2</td>\n",
       "      <td>Kevin</td>\n",
       "      <td>no</td>\n",
       "      <td>8.0</td>\n",
       "      <td>12th</td>\n",
       "    </tr>\n",
       "    <tr>\n",
       "      <th>9</th>\n",
       "      <td>1</td>\n",
       "      <td>Jonas</td>\n",
       "      <td>yes</td>\n",
       "      <td>19.0</td>\n",
       "      <td>11th</td>\n",
       "    </tr>\n",
       "    <tr>\n",
       "      <th>10</th>\n",
       "      <td>2</td>\n",
       "      <td>Jack</td>\n",
       "      <td>yes</td>\n",
       "      <td>17.0</td>\n",
       "      <td>9th</td>\n",
       "    </tr>\n",
       "  </tbody>\n",
       "</table>\n",
       "</div>"
      ],
      "text/plain": [
       "    Attempts      Names Qualify  Scores Grade\n",
       "0          1  Anastasia     yes    12.5   9th\n",
       "1          3       Dima      no     9.0   9th\n",
       "2          2  Katherine     yes    16.5  10th\n",
       "3          3      James      no     NaN  11th\n",
       "4          2      Emily      no     9.0  12th\n",
       "5          3    Michael     yes    20.0   9th\n",
       "6          1    Matthew     yes    14.5  10th\n",
       "7          1      Laura      no     NaN  11th\n",
       "8          2      Kevin      no     8.0  12th\n",
       "9          1      Jonas     yes    19.0  11th\n",
       "10         2       Jack     yes    17.0   9th"
      ]
     },
     "execution_count": 60,
     "metadata": {},
     "output_type": "execute_result"
    }
   ],
   "source": [
    "# Add a new student named, Jack? (Hint: Need to use ignore_index=True)\n",
    "\n",
    "jack = pd.Series([2, 'Jack', 'yes' , 17, '9th'],index=student_data.columns )\n",
    "student_data.append(jack, ignore_index=True)"
   ]
  },
  {
   "cell_type": "markdown",
   "metadata": {
    "slideshow": {
     "slide_type": "slide"
    }
   },
   "source": [
    "<div style=\"background-color:yellow; padding: 10px\"><h3><span></span>Exercise 5</div>\n",
    "\n",
    "<hr>\n",
    "\n",
    "Add a new column of Pass that is either 0 or 1 based on the column Qualify. (Hint: use numpy.where)\n",
    "- 'yes': 1\n",
    "- 'no': 0"
   ]
  },
  {
   "cell_type": "code",
   "execution_count": 61,
   "metadata": {
    "slideshow": {
     "slide_type": "fragment"
    }
   },
   "outputs": [
    {
     "data": {
      "text/html": [
       "<div>\n",
       "<style>\n",
       "    .dataframe thead tr:only-child th {\n",
       "        text-align: right;\n",
       "    }\n",
       "\n",
       "    .dataframe thead th {\n",
       "        text-align: left;\n",
       "    }\n",
       "\n",
       "    .dataframe tbody tr th {\n",
       "        vertical-align: top;\n",
       "    }\n",
       "</style>\n",
       "<table border=\"1\" class=\"dataframe\">\n",
       "  <thead>\n",
       "    <tr style=\"text-align: right;\">\n",
       "      <th></th>\n",
       "      <th>Attempts</th>\n",
       "      <th>Names</th>\n",
       "      <th>Qualify</th>\n",
       "      <th>Scores</th>\n",
       "      <th>Grade</th>\n",
       "      <th>Pass</th>\n",
       "    </tr>\n",
       "  </thead>\n",
       "  <tbody>\n",
       "    <tr>\n",
       "      <th>0</th>\n",
       "      <td>1</td>\n",
       "      <td>Anastasia</td>\n",
       "      <td>yes</td>\n",
       "      <td>12.5</td>\n",
       "      <td>9th</td>\n",
       "      <td>1</td>\n",
       "    </tr>\n",
       "    <tr>\n",
       "      <th>1</th>\n",
       "      <td>3</td>\n",
       "      <td>Dima</td>\n",
       "      <td>no</td>\n",
       "      <td>9.0</td>\n",
       "      <td>9th</td>\n",
       "      <td>0</td>\n",
       "    </tr>\n",
       "    <tr>\n",
       "      <th>2</th>\n",
       "      <td>2</td>\n",
       "      <td>Katherine</td>\n",
       "      <td>yes</td>\n",
       "      <td>16.5</td>\n",
       "      <td>10th</td>\n",
       "      <td>1</td>\n",
       "    </tr>\n",
       "    <tr>\n",
       "      <th>3</th>\n",
       "      <td>3</td>\n",
       "      <td>James</td>\n",
       "      <td>no</td>\n",
       "      <td>NaN</td>\n",
       "      <td>11th</td>\n",
       "      <td>0</td>\n",
       "    </tr>\n",
       "    <tr>\n",
       "      <th>4</th>\n",
       "      <td>2</td>\n",
       "      <td>Emily</td>\n",
       "      <td>no</td>\n",
       "      <td>9.0</td>\n",
       "      <td>12th</td>\n",
       "      <td>0</td>\n",
       "    </tr>\n",
       "    <tr>\n",
       "      <th>5</th>\n",
       "      <td>3</td>\n",
       "      <td>Michael</td>\n",
       "      <td>yes</td>\n",
       "      <td>20.0</td>\n",
       "      <td>9th</td>\n",
       "      <td>1</td>\n",
       "    </tr>\n",
       "    <tr>\n",
       "      <th>6</th>\n",
       "      <td>1</td>\n",
       "      <td>Matthew</td>\n",
       "      <td>yes</td>\n",
       "      <td>14.5</td>\n",
       "      <td>10th</td>\n",
       "      <td>1</td>\n",
       "    </tr>\n",
       "    <tr>\n",
       "      <th>7</th>\n",
       "      <td>1</td>\n",
       "      <td>Laura</td>\n",
       "      <td>no</td>\n",
       "      <td>NaN</td>\n",
       "      <td>11th</td>\n",
       "      <td>0</td>\n",
       "    </tr>\n",
       "    <tr>\n",
       "      <th>8</th>\n",
       "      <td>2</td>\n",
       "      <td>Kevin</td>\n",
       "      <td>no</td>\n",
       "      <td>8.0</td>\n",
       "      <td>12th</td>\n",
       "      <td>0</td>\n",
       "    </tr>\n",
       "    <tr>\n",
       "      <th>9</th>\n",
       "      <td>1</td>\n",
       "      <td>Jonas</td>\n",
       "      <td>yes</td>\n",
       "      <td>19.0</td>\n",
       "      <td>11th</td>\n",
       "      <td>1</td>\n",
       "    </tr>\n",
       "  </tbody>\n",
       "</table>\n",
       "</div>"
      ],
      "text/plain": [
       "   Attempts      Names Qualify  Scores Grade  Pass\n",
       "0         1  Anastasia     yes    12.5   9th     1\n",
       "1         3       Dima      no     9.0   9th     0\n",
       "2         2  Katherine     yes    16.5  10th     1\n",
       "3         3      James      no     NaN  11th     0\n",
       "4         2      Emily      no     9.0  12th     0\n",
       "5         3    Michael     yes    20.0   9th     1\n",
       "6         1    Matthew     yes    14.5  10th     1\n",
       "7         1      Laura      no     NaN  11th     0\n",
       "8         2      Kevin      no     8.0  12th     0\n",
       "9         1      Jonas     yes    19.0  11th     1"
      ]
     },
     "execution_count": 61,
     "metadata": {},
     "output_type": "execute_result"
    }
   ],
   "source": [
    "# Add a new column of Pass that is either 0 or 1 based on the column Qualify. (Hint: use numpy.where)\n",
    "\n",
    "student_data['Pass'] = np.where(student_data['Qualify'] == 'yes', 1, 0)\n",
    "student_data"
   ]
  },
  {
   "cell_type": "markdown",
   "metadata": {
    "slideshow": {
     "slide_type": "slide"
    }
   },
   "source": [
    "## Agenda\n",
    "\n",
    "<hr>\n",
    "\n",
    "1. Introduction to Pandas\n",
    "2. Series\n",
    "    - Exercise 1\n",
    "    - Exercise 2\n",
    "3. Dataframe\n",
    "    - Exercise 3\n",
    "    - Exercise 4\n",
    "4. **Import and Store Data**\n",
    "5. Summarizing and Computing Descriptive Statistics\n",
    "    - Exercise 6\n",
    "    - Exercise 7\n",
    "6. Grouped and apply\n",
    "    - Exercise 8\n",
    "    - Exercise 9\n",
    "7. Data Transformation and Normalization\n",
    "    - Exercise 10\n",
    "    - Exercise 11\n",
    "    - Exercise 12"
   ]
  },
  {
   "cell_type": "markdown",
   "metadata": {
    "slideshow": {
     "slide_type": "subslide"
    }
   },
   "source": [
    "### 4.1 Import and Store Data\n",
    "\n",
    "<hr>\n",
    "\n",
    "The first step in any  problem is identifying what format your data is in, and then loading it into whatever framework you're using. Common formats are:\n",
    "- Text Files: Text files with a common delimeter to seperate values (e.g. CSV uses ,)\n",
    "- JSON(JavaScript Object Notation): standard formats for sending data by HTTP requests\n",
    "- Web Page: XML and HTML\n",
    "- Binary: \"pickle” format and HDF5\n",
    "- Database: MySQL, PostgreSQL \n",
    " \n",
    "<div style=\"background-color: #9999ff; padding: 10px;\"> NOTE: Most common is CSV or Text files with different delimeters. </div>"
   ]
  },
  {
   "cell_type": "markdown",
   "metadata": {
    "slideshow": {
     "slide_type": "subslide"
    }
   },
   "source": [
    "### 4.2 Import and Store Data - Text Files\n",
    "\n",
    "<hr>\n",
    "- Reading\n",
    "    - read_csv: Use comma seperated (,) deliminator to read file\n",
    "    - read_table: Use tab (\\t)  deliminator to read file\n",
    "- Writting\n",
    "    - write_csv: Use comma seperated (,) deliminator to write file\n",
    "    - write_table: Use tab (\\t)  deliminator to write file"
   ]
  },
  {
   "cell_type": "markdown",
   "metadata": {
    "slideshow": {
     "slide_type": "fragment"
    }
   },
   "source": [
    "Read in Winter Olympic Medal Winners form [Kaggle](https://www.kaggle.com/the-guardian/olympic-games/)"
   ]
  },
  {
   "cell_type": "code",
   "execution_count": 62,
   "metadata": {
    "slideshow": {
     "slide_type": "fragment"
    }
   },
   "outputs": [
    {
     "data": {
      "text/html": [
       "<div>\n",
       "<style>\n",
       "    .dataframe thead tr:only-child th {\n",
       "        text-align: right;\n",
       "    }\n",
       "\n",
       "    .dataframe thead th {\n",
       "        text-align: left;\n",
       "    }\n",
       "\n",
       "    .dataframe tbody tr th {\n",
       "        vertical-align: top;\n",
       "    }\n",
       "</style>\n",
       "<table border=\"1\" class=\"dataframe\">\n",
       "  <thead>\n",
       "    <tr style=\"text-align: right;\">\n",
       "      <th></th>\n",
       "      <th>Year</th>\n",
       "      <th>City</th>\n",
       "      <th>Sport</th>\n",
       "      <th>Discipline</th>\n",
       "      <th>Athlete</th>\n",
       "      <th>Country</th>\n",
       "      <th>Gender</th>\n",
       "      <th>Event</th>\n",
       "      <th>Medal</th>\n",
       "    </tr>\n",
       "  </thead>\n",
       "  <tbody>\n",
       "    <tr>\n",
       "      <th>0</th>\n",
       "      <td>1924</td>\n",
       "      <td>Chamonix</td>\n",
       "      <td>Biathlon</td>\n",
       "      <td>Biathlon</td>\n",
       "      <td>BERTHET, G.</td>\n",
       "      <td>FRA</td>\n",
       "      <td>Men</td>\n",
       "      <td>Military Patrol</td>\n",
       "      <td>Bronze</td>\n",
       "    </tr>\n",
       "    <tr>\n",
       "      <th>1</th>\n",
       "      <td>1924</td>\n",
       "      <td>Chamonix</td>\n",
       "      <td>Biathlon</td>\n",
       "      <td>Biathlon</td>\n",
       "      <td>MANDRILLON, C.</td>\n",
       "      <td>FRA</td>\n",
       "      <td>Men</td>\n",
       "      <td>Military Patrol</td>\n",
       "      <td>Bronze</td>\n",
       "    </tr>\n",
       "    <tr>\n",
       "      <th>2</th>\n",
       "      <td>1924</td>\n",
       "      <td>Chamonix</td>\n",
       "      <td>Biathlon</td>\n",
       "      <td>Biathlon</td>\n",
       "      <td>MANDRILLON, Maurice</td>\n",
       "      <td>FRA</td>\n",
       "      <td>Men</td>\n",
       "      <td>Military Patrol</td>\n",
       "      <td>Bronze</td>\n",
       "    </tr>\n",
       "    <tr>\n",
       "      <th>3</th>\n",
       "      <td>1924</td>\n",
       "      <td>Chamonix</td>\n",
       "      <td>Biathlon</td>\n",
       "      <td>Biathlon</td>\n",
       "      <td>VANDELLE, André</td>\n",
       "      <td>FRA</td>\n",
       "      <td>Men</td>\n",
       "      <td>Military Patrol</td>\n",
       "      <td>Bronze</td>\n",
       "    </tr>\n",
       "    <tr>\n",
       "      <th>4</th>\n",
       "      <td>1924</td>\n",
       "      <td>Chamonix</td>\n",
       "      <td>Biathlon</td>\n",
       "      <td>Biathlon</td>\n",
       "      <td>AUFDENBLATTEN, Adolf</td>\n",
       "      <td>SUI</td>\n",
       "      <td>Men</td>\n",
       "      <td>Military Patrol</td>\n",
       "      <td>Gold</td>\n",
       "    </tr>\n",
       "  </tbody>\n",
       "</table>\n",
       "</div>"
      ],
      "text/plain": [
       "   Year      City     Sport Discipline               Athlete Country Gender  \\\n",
       "0  1924  Chamonix  Biathlon   Biathlon           BERTHET, G.     FRA    Men   \n",
       "1  1924  Chamonix  Biathlon   Biathlon        MANDRILLON, C.     FRA    Men   \n",
       "2  1924  Chamonix  Biathlon   Biathlon   MANDRILLON, Maurice     FRA    Men   \n",
       "3  1924  Chamonix  Biathlon   Biathlon       VANDELLE, André     FRA    Men   \n",
       "4  1924  Chamonix  Biathlon   Biathlon  AUFDENBLATTEN, Adolf     SUI    Men   \n",
       "\n",
       "             Event   Medal  \n",
       "0  Military Patrol  Bronze  \n",
       "1  Military Patrol  Bronze  \n",
       "2  Military Patrol  Bronze  \n",
       "3  Military Patrol  Bronze  \n",
       "4  Military Patrol    Gold  "
      ]
     },
     "execution_count": 62,
     "metadata": {},
     "output_type": "execute_result"
    }
   ],
   "source": [
    "# Read in Winter Olympic Medal Winners \n",
    "\n",
    "winter_olympics = pd.read_csv('data/winter_olympics.csv')\n",
    "winter_olympics.head()"
   ]
  },
  {
   "cell_type": "markdown",
   "metadata": {
    "slideshow": {
     "slide_type": "slide"
    }
   },
   "source": [
    "## Agenda\n",
    "\n",
    "<hr>\n",
    "\n",
    "1. Introduction to Pandas\n",
    "2. Series\n",
    "    - Exercise 1\n",
    "    - Exercise 2\n",
    "3. Dataframe\n",
    "    - Exercise 3\n",
    "    - Exercise 4\n",
    "4. Import and Store Data\n",
    "5. **Summarizing and Computing Descriptive Statistics**\n",
    "    - Exercise 6\n",
    "    - Exercise 7\n",
    "6. Grouped and apply\n",
    "    - Exercise 8\n",
    "    - Exercise 9\n",
    "7. Data Transformation and Normalization\n",
    "    - Exercise 10\n",
    "    - Exercise 11\n",
    "    - Exercise 12"
   ]
  },
  {
   "cell_type": "markdown",
   "metadata": {
    "slideshow": {
     "slide_type": "subslide"
    }
   },
   "source": [
    "### 5.1 Summarizing and Computing Descriptive Statistics\n",
    "\n",
    "<hr>\n",
    "\n",
    "- Pandas as a lot of  built-in essential functionality common to the pandas data structures to help explore the data."
   ]
  },
  {
   "cell_type": "markdown",
   "metadata": {
    "slideshow": {
     "slide_type": "subslide"
    }
   },
   "source": [
    "### 5.2 Summarizing and Computing Descriptive Statistics - Head and Tail\n",
    "\n",
    "<hr>\n",
    "\n",
    "- To view a small sample of a Series or DataFrame object, use:\n",
    "    - head()\n",
    "    - tail()\n",
    "\n",
    "<div style=\"background-color: #9999ff; padding: 10px;\"> NOTE: The default number of elements to display is five, but you may pass a custom number. </div>\n"
   ]
  },
  {
   "cell_type": "markdown",
   "metadata": {
    "slideshow": {
     "slide_type": "fragment"
    }
   },
   "source": [
    "- Get the First 3 lines of Dataframe"
   ]
  },
  {
   "cell_type": "code",
   "execution_count": 63,
   "metadata": {
    "slideshow": {
     "slide_type": "fragment"
    }
   },
   "outputs": [
    {
     "data": {
      "text/html": [
       "<div>\n",
       "<style>\n",
       "    .dataframe thead tr:only-child th {\n",
       "        text-align: right;\n",
       "    }\n",
       "\n",
       "    .dataframe thead th {\n",
       "        text-align: left;\n",
       "    }\n",
       "\n",
       "    .dataframe tbody tr th {\n",
       "        vertical-align: top;\n",
       "    }\n",
       "</style>\n",
       "<table border=\"1\" class=\"dataframe\">\n",
       "  <thead>\n",
       "    <tr style=\"text-align: right;\">\n",
       "      <th></th>\n",
       "      <th>Year</th>\n",
       "      <th>City</th>\n",
       "      <th>Sport</th>\n",
       "      <th>Discipline</th>\n",
       "      <th>Athlete</th>\n",
       "      <th>Country</th>\n",
       "      <th>Gender</th>\n",
       "      <th>Event</th>\n",
       "      <th>Medal</th>\n",
       "    </tr>\n",
       "  </thead>\n",
       "  <tbody>\n",
       "    <tr>\n",
       "      <th>0</th>\n",
       "      <td>1924</td>\n",
       "      <td>Chamonix</td>\n",
       "      <td>Biathlon</td>\n",
       "      <td>Biathlon</td>\n",
       "      <td>BERTHET, G.</td>\n",
       "      <td>FRA</td>\n",
       "      <td>Men</td>\n",
       "      <td>Military Patrol</td>\n",
       "      <td>Bronze</td>\n",
       "    </tr>\n",
       "    <tr>\n",
       "      <th>1</th>\n",
       "      <td>1924</td>\n",
       "      <td>Chamonix</td>\n",
       "      <td>Biathlon</td>\n",
       "      <td>Biathlon</td>\n",
       "      <td>MANDRILLON, C.</td>\n",
       "      <td>FRA</td>\n",
       "      <td>Men</td>\n",
       "      <td>Military Patrol</td>\n",
       "      <td>Bronze</td>\n",
       "    </tr>\n",
       "    <tr>\n",
       "      <th>2</th>\n",
       "      <td>1924</td>\n",
       "      <td>Chamonix</td>\n",
       "      <td>Biathlon</td>\n",
       "      <td>Biathlon</td>\n",
       "      <td>MANDRILLON, Maurice</td>\n",
       "      <td>FRA</td>\n",
       "      <td>Men</td>\n",
       "      <td>Military Patrol</td>\n",
       "      <td>Bronze</td>\n",
       "    </tr>\n",
       "  </tbody>\n",
       "</table>\n",
       "</div>"
      ],
      "text/plain": [
       "   Year      City     Sport Discipline              Athlete Country Gender  \\\n",
       "0  1924  Chamonix  Biathlon   Biathlon          BERTHET, G.     FRA    Men   \n",
       "1  1924  Chamonix  Biathlon   Biathlon       MANDRILLON, C.     FRA    Men   \n",
       "2  1924  Chamonix  Biathlon   Biathlon  MANDRILLON, Maurice     FRA    Men   \n",
       "\n",
       "             Event   Medal  \n",
       "0  Military Patrol  Bronze  \n",
       "1  Military Patrol  Bronze  \n",
       "2  Military Patrol  Bronze  "
      ]
     },
     "execution_count": 63,
     "metadata": {},
     "output_type": "execute_result"
    }
   ],
   "source": [
    "# Get the First 3 lines of a Dataframe\n",
    "\n",
    "winter_olympics.head(3)"
   ]
  },
  {
   "cell_type": "markdown",
   "metadata": {
    "slideshow": {
     "slide_type": "subslide"
    }
   },
   "source": [
    "### 5.2 Summarizing and Computing Descriptive Statistics - Sorting\n",
    "\n",
    "<hr>\n",
    "\n",
    "- To sort data for exploring the data use:\n",
    "    - sort_index(): object by labels (along an axis)\n",
    "    - sort_values(): by the values along either axis\n",
    "    \n",
    "<div style=\"background-color: #9999ff; padding: 10px;\"> NOTE: axis: 0 or ‘index’, 1 or ‘columns’ and default is 0 </div>"
   ]
  },
  {
   "cell_type": "markdown",
   "metadata": {
    "slideshow": {
     "slide_type": "fragment"
    }
   },
   "source": [
    "- Sort Dataframe by rows in ascending order"
   ]
  },
  {
   "cell_type": "code",
   "execution_count": 64,
   "metadata": {
    "slideshow": {
     "slide_type": "fragment"
    }
   },
   "outputs": [
    {
     "data": {
      "text/html": [
       "<div>\n",
       "<style>\n",
       "    .dataframe thead tr:only-child th {\n",
       "        text-align: right;\n",
       "    }\n",
       "\n",
       "    .dataframe thead th {\n",
       "        text-align: left;\n",
       "    }\n",
       "\n",
       "    .dataframe tbody tr th {\n",
       "        vertical-align: top;\n",
       "    }\n",
       "</style>\n",
       "<table border=\"1\" class=\"dataframe\">\n",
       "  <thead>\n",
       "    <tr style=\"text-align: right;\">\n",
       "      <th></th>\n",
       "      <th>Title</th>\n",
       "      <th>Year</th>\n",
       "      <th>Studio</th>\n",
       "      <th>Rating</th>\n",
       "      <th>Predicted Rating</th>\n",
       "    </tr>\n",
       "  </thead>\n",
       "  <tbody>\n",
       "    <tr>\n",
       "      <th>mcu_15</th>\n",
       "      <td>Guardians of the Galaxy Vol. 2</td>\n",
       "      <td>2017</td>\n",
       "      <td>Beuna Vista</td>\n",
       "      <td>0.83</td>\n",
       "      <td>0.922450</td>\n",
       "    </tr>\n",
       "    <tr>\n",
       "      <th>mcu_16</th>\n",
       "      <td>Spider-Man: Homecoming</td>\n",
       "      <td>2017</td>\n",
       "      <td>Sony</td>\n",
       "      <td>0.92</td>\n",
       "      <td>0.997052</td>\n",
       "    </tr>\n",
       "    <tr>\n",
       "      <th>mcu_17</th>\n",
       "      <td>Thor: Ragnarok</td>\n",
       "      <td>2017</td>\n",
       "      <td>Beuna Vista</td>\n",
       "      <td>0.92</td>\n",
       "      <td>0.711236</td>\n",
       "    </tr>\n",
       "    <tr>\n",
       "      <th>mcu_18</th>\n",
       "      <td>Black Panther</td>\n",
       "      <td>2018</td>\n",
       "      <td>Beuna Vista</td>\n",
       "      <td>0.96</td>\n",
       "      <td>0.872491</td>\n",
       "    </tr>\n",
       "    <tr>\n",
       "      <th>mcu_19</th>\n",
       "      <td>Avengers: Infinity War</td>\n",
       "      <td>2018</td>\n",
       "      <td>Beuna Vista</td>\n",
       "      <td>NaN</td>\n",
       "      <td>0.962886</td>\n",
       "    </tr>\n",
       "    <tr>\n",
       "      <th>mcu_20</th>\n",
       "      <td>Ant-Man and the Wasp</td>\n",
       "      <td>2018</td>\n",
       "      <td>Beuna Vista</td>\n",
       "      <td>NaN</td>\n",
       "      <td>0.016992</td>\n",
       "    </tr>\n",
       "  </tbody>\n",
       "</table>\n",
       "</div>"
      ],
      "text/plain": [
       "                                 Title  Year       Studio  Rating  \\\n",
       "mcu_15  Guardians of the Galaxy Vol. 2  2017  Beuna Vista    0.83   \n",
       "mcu_16          Spider-Man: Homecoming  2017         Sony    0.92   \n",
       "mcu_17                  Thor: Ragnarok  2017  Beuna Vista    0.92   \n",
       "mcu_18                   Black Panther  2018  Beuna Vista    0.96   \n",
       "mcu_19          Avengers: Infinity War  2018  Beuna Vista     NaN   \n",
       "mcu_20            Ant-Man and the Wasp  2018  Beuna Vista     NaN   \n",
       "\n",
       "        Predicted Rating  \n",
       "mcu_15          0.922450  \n",
       "mcu_16          0.997052  \n",
       "mcu_17          0.711236  \n",
       "mcu_18          0.872491  \n",
       "mcu_19          0.962886  \n",
       "mcu_20          0.016992  "
      ]
     },
     "execution_count": 64,
     "metadata": {},
     "output_type": "execute_result"
    }
   ],
   "source": [
    "# Sort Dataframe by rows in ascending order\n",
    "\n",
    "df_mcu.sort_index(axis=0, ascending=True)"
   ]
  },
  {
   "cell_type": "markdown",
   "metadata": {
    "slideshow": {
     "slide_type": "fragment"
    }
   },
   "source": [
    "- Sort Dataframe by columns in descending order"
   ]
  },
  {
   "cell_type": "code",
   "execution_count": 65,
   "metadata": {
    "slideshow": {
     "slide_type": "fragment"
    }
   },
   "outputs": [
    {
     "data": {
      "text/html": [
       "<div>\n",
       "<style>\n",
       "    .dataframe thead tr:only-child th {\n",
       "        text-align: right;\n",
       "    }\n",
       "\n",
       "    .dataframe thead th {\n",
       "        text-align: left;\n",
       "    }\n",
       "\n",
       "    .dataframe tbody tr th {\n",
       "        vertical-align: top;\n",
       "    }\n",
       "</style>\n",
       "<table border=\"1\" class=\"dataframe\">\n",
       "  <thead>\n",
       "    <tr style=\"text-align: right;\">\n",
       "      <th></th>\n",
       "      <th>Title</th>\n",
       "      <th>Year</th>\n",
       "      <th>Studio</th>\n",
       "      <th>Rating</th>\n",
       "      <th>Predicted Rating</th>\n",
       "    </tr>\n",
       "  </thead>\n",
       "  <tbody>\n",
       "    <tr>\n",
       "      <th>mcu_18</th>\n",
       "      <td>Black Panther</td>\n",
       "      <td>2018</td>\n",
       "      <td>Beuna Vista</td>\n",
       "      <td>0.96</td>\n",
       "      <td>0.872491</td>\n",
       "    </tr>\n",
       "    <tr>\n",
       "      <th>mcu_16</th>\n",
       "      <td>Spider-Man: Homecoming</td>\n",
       "      <td>2017</td>\n",
       "      <td>Sony</td>\n",
       "      <td>0.92</td>\n",
       "      <td>0.997052</td>\n",
       "    </tr>\n",
       "    <tr>\n",
       "      <th>mcu_17</th>\n",
       "      <td>Thor: Ragnarok</td>\n",
       "      <td>2017</td>\n",
       "      <td>Beuna Vista</td>\n",
       "      <td>0.92</td>\n",
       "      <td>0.711236</td>\n",
       "    </tr>\n",
       "    <tr>\n",
       "      <th>mcu_15</th>\n",
       "      <td>Guardians of the Galaxy Vol. 2</td>\n",
       "      <td>2017</td>\n",
       "      <td>Beuna Vista</td>\n",
       "      <td>0.83</td>\n",
       "      <td>0.922450</td>\n",
       "    </tr>\n",
       "    <tr>\n",
       "      <th>mcu_19</th>\n",
       "      <td>Avengers: Infinity War</td>\n",
       "      <td>2018</td>\n",
       "      <td>Beuna Vista</td>\n",
       "      <td>NaN</td>\n",
       "      <td>0.962886</td>\n",
       "    </tr>\n",
       "    <tr>\n",
       "      <th>mcu_20</th>\n",
       "      <td>Ant-Man and the Wasp</td>\n",
       "      <td>2018</td>\n",
       "      <td>Beuna Vista</td>\n",
       "      <td>NaN</td>\n",
       "      <td>0.016992</td>\n",
       "    </tr>\n",
       "  </tbody>\n",
       "</table>\n",
       "</div>"
      ],
      "text/plain": [
       "                                 Title  Year       Studio  Rating  \\\n",
       "mcu_18                   Black Panther  2018  Beuna Vista    0.96   \n",
       "mcu_16          Spider-Man: Homecoming  2017         Sony    0.92   \n",
       "mcu_17                  Thor: Ragnarok  2017  Beuna Vista    0.92   \n",
       "mcu_15  Guardians of the Galaxy Vol. 2  2017  Beuna Vista    0.83   \n",
       "mcu_19          Avengers: Infinity War  2018  Beuna Vista     NaN   \n",
       "mcu_20            Ant-Man and the Wasp  2018  Beuna Vista     NaN   \n",
       "\n",
       "        Predicted Rating  \n",
       "mcu_18          0.872491  \n",
       "mcu_16          0.997052  \n",
       "mcu_17          0.711236  \n",
       "mcu_15          0.922450  \n",
       "mcu_19          0.962886  \n",
       "mcu_20          0.016992  "
      ]
     },
     "execution_count": 65,
     "metadata": {},
     "output_type": "execute_result"
    }
   ],
   "source": [
    "# Sort Dataframe by column in descending order\n",
    "\n",
    "df_mcu.sort_values(by=['Rating', 'Predicted Rating'], ascending=False)"
   ]
  },
  {
   "cell_type": "markdown",
   "metadata": {
    "slideshow": {
     "slide_type": "subslide"
    }
   },
   "source": [
    "### 5.3 Summarizing and Computing Descriptive Statistics - Descriptive statistics\n",
    "\n",
    "<hr>\n",
    "\n",
    "- Built in functions to calculate the values over row or columns"
   ]
  },
  {
   "cell_type": "markdown",
   "metadata": {
    "slideshow": {
     "slide_type": "fragment"
    }
   },
   "source": [
    "- describe(): return summary statistics of each column\n",
    "        - for numeric data: mean, std, max, min, 25%, 50%, 75%, etc.\n",
    "        - For non-numeric data: count, uniq, most-frequent item, etc"
   ]
  },
  {
   "cell_type": "code",
   "execution_count": 66,
   "metadata": {
    "slideshow": {
     "slide_type": "fragment"
    }
   },
   "outputs": [
    {
     "data": {
      "text/html": [
       "<div>\n",
       "<style>\n",
       "    .dataframe thead tr:only-child th {\n",
       "        text-align: right;\n",
       "    }\n",
       "\n",
       "    .dataframe thead th {\n",
       "        text-align: left;\n",
       "    }\n",
       "\n",
       "    .dataframe tbody tr th {\n",
       "        vertical-align: top;\n",
       "    }\n",
       "</style>\n",
       "<table border=\"1\" class=\"dataframe\">\n",
       "  <thead>\n",
       "    <tr style=\"text-align: right;\">\n",
       "      <th></th>\n",
       "      <th>Year</th>\n",
       "      <th>Rating</th>\n",
       "      <th>Predicted Rating</th>\n",
       "    </tr>\n",
       "  </thead>\n",
       "  <tbody>\n",
       "    <tr>\n",
       "      <th>count</th>\n",
       "      <td>6.000000</td>\n",
       "      <td>4.0000</td>\n",
       "      <td>6.000000</td>\n",
       "    </tr>\n",
       "    <tr>\n",
       "      <th>mean</th>\n",
       "      <td>2017.500000</td>\n",
       "      <td>0.9075</td>\n",
       "      <td>0.747185</td>\n",
       "    </tr>\n",
       "    <tr>\n",
       "      <th>std</th>\n",
       "      <td>0.547723</td>\n",
       "      <td>0.0550</td>\n",
       "      <td>0.371444</td>\n",
       "    </tr>\n",
       "    <tr>\n",
       "      <th>min</th>\n",
       "      <td>2017.000000</td>\n",
       "      <td>0.8300</td>\n",
       "      <td>0.016992</td>\n",
       "    </tr>\n",
       "    <tr>\n",
       "      <th>25%</th>\n",
       "      <td>2017.000000</td>\n",
       "      <td>0.8975</td>\n",
       "      <td>0.751550</td>\n",
       "    </tr>\n",
       "    <tr>\n",
       "      <th>50%</th>\n",
       "      <td>2017.500000</td>\n",
       "      <td>0.9200</td>\n",
       "      <td>0.897470</td>\n",
       "    </tr>\n",
       "    <tr>\n",
       "      <th>75%</th>\n",
       "      <td>2018.000000</td>\n",
       "      <td>0.9300</td>\n",
       "      <td>0.952777</td>\n",
       "    </tr>\n",
       "    <tr>\n",
       "      <th>max</th>\n",
       "      <td>2018.000000</td>\n",
       "      <td>0.9600</td>\n",
       "      <td>0.997052</td>\n",
       "    </tr>\n",
       "  </tbody>\n",
       "</table>\n",
       "</div>"
      ],
      "text/plain": [
       "              Year  Rating  Predicted Rating\n",
       "count     6.000000  4.0000          6.000000\n",
       "mean   2017.500000  0.9075          0.747185\n",
       "std       0.547723  0.0550          0.371444\n",
       "min    2017.000000  0.8300          0.016992\n",
       "25%    2017.000000  0.8975          0.751550\n",
       "50%    2017.500000  0.9200          0.897470\n",
       "75%    2018.000000  0.9300          0.952777\n",
       "max    2018.000000  0.9600          0.997052"
      ]
     },
     "execution_count": 66,
     "metadata": {},
     "output_type": "execute_result"
    }
   ],
   "source": [
    "# Summary Statistics for the Dataframe\n",
    "\n",
    "df_mcu.describe()"
   ]
  },
  {
   "cell_type": "markdown",
   "metadata": {
    "slideshow": {
     "slide_type": "fragment"
    }
   },
   "source": [
    "- mean()"
   ]
  },
  {
   "cell_type": "code",
   "execution_count": 67,
   "metadata": {
    "slideshow": {
     "slide_type": "fragment"
    }
   },
   "outputs": [
    {
     "data": {
      "text/plain": [
       "Rating              0.907500\n",
       "Predicted Rating    0.747185\n",
       "dtype: float64"
      ]
     },
     "execution_count": 67,
     "metadata": {},
     "output_type": "execute_result"
    }
   ],
   "source": [
    "# Mean of the Rating and Predicted Rating Columns\n",
    "\n",
    "df_mcu.loc[:,['Rating', 'Predicted Rating']].mean()"
   ]
  },
  {
   "cell_type": "markdown",
   "metadata": {
    "slideshow": {
     "slide_type": "fragment"
    }
   },
   "source": [
    "- var()"
   ]
  },
  {
   "cell_type": "code",
   "execution_count": 68,
   "metadata": {
    "slideshow": {
     "slide_type": "fragment"
    }
   },
   "outputs": [
    {
     "data": {
      "text/plain": [
       "Rating    0.003025\n",
       "dtype: float64"
      ]
     },
     "execution_count": 68,
     "metadata": {},
     "output_type": "execute_result"
    }
   ],
   "source": [
    "# Get the variance of the Rating column\n",
    "\n",
    "df_mcu.loc[:,['Rating']].var()"
   ]
  },
  {
   "cell_type": "markdown",
   "metadata": {
    "slideshow": {
     "slide_type": "subslide"
    }
   },
   "source": [
    "### 5.4 Summarizing and Computing Descriptive Statistics - Missing Data\n",
    "\n",
    "<hr>\n",
    "\n",
    "- Data comes in many shapes and forms and Pandas is very flexible in handling missing data:\n",
    "    - While Nan is the default missing value marker\n",
    "    - However, Python None will arise and we wish to also consider that “missing” or “not available” or “NA”\n",
    "    "
   ]
  },
  {
   "cell_type": "markdown",
   "metadata": {
    "slideshow": {
     "slide_type": "fragment"
    }
   },
   "source": [
    "    - Drop rows with Nan values"
   ]
  },
  {
   "cell_type": "code",
   "execution_count": 69,
   "metadata": {
    "slideshow": {
     "slide_type": "fragment"
    }
   },
   "outputs": [
    {
     "data": {
      "text/html": [
       "<div>\n",
       "<style>\n",
       "    .dataframe thead tr:only-child th {\n",
       "        text-align: right;\n",
       "    }\n",
       "\n",
       "    .dataframe thead th {\n",
       "        text-align: left;\n",
       "    }\n",
       "\n",
       "    .dataframe tbody tr th {\n",
       "        vertical-align: top;\n",
       "    }\n",
       "</style>\n",
       "<table border=\"1\" class=\"dataframe\">\n",
       "  <thead>\n",
       "    <tr style=\"text-align: right;\">\n",
       "      <th></th>\n",
       "      <th>Title</th>\n",
       "      <th>Year</th>\n",
       "      <th>Studio</th>\n",
       "      <th>Rating</th>\n",
       "      <th>Predicted Rating</th>\n",
       "    </tr>\n",
       "  </thead>\n",
       "  <tbody>\n",
       "    <tr>\n",
       "      <th>mcu_18</th>\n",
       "      <td>Black Panther</td>\n",
       "      <td>2018</td>\n",
       "      <td>Beuna Vista</td>\n",
       "      <td>0.96</td>\n",
       "      <td>0.872491</td>\n",
       "    </tr>\n",
       "    <tr>\n",
       "      <th>mcu_17</th>\n",
       "      <td>Thor: Ragnarok</td>\n",
       "      <td>2017</td>\n",
       "      <td>Beuna Vista</td>\n",
       "      <td>0.92</td>\n",
       "      <td>0.711236</td>\n",
       "    </tr>\n",
       "    <tr>\n",
       "      <th>mcu_16</th>\n",
       "      <td>Spider-Man: Homecoming</td>\n",
       "      <td>2017</td>\n",
       "      <td>Sony</td>\n",
       "      <td>0.92</td>\n",
       "      <td>0.997052</td>\n",
       "    </tr>\n",
       "    <tr>\n",
       "      <th>mcu_15</th>\n",
       "      <td>Guardians of the Galaxy Vol. 2</td>\n",
       "      <td>2017</td>\n",
       "      <td>Beuna Vista</td>\n",
       "      <td>0.83</td>\n",
       "      <td>0.922450</td>\n",
       "    </tr>\n",
       "  </tbody>\n",
       "</table>\n",
       "</div>"
      ],
      "text/plain": [
       "                                 Title  Year       Studio  Rating  \\\n",
       "mcu_18                   Black Panther  2018  Beuna Vista    0.96   \n",
       "mcu_17                  Thor: Ragnarok  2017  Beuna Vista    0.92   \n",
       "mcu_16          Spider-Man: Homecoming  2017         Sony    0.92   \n",
       "mcu_15  Guardians of the Galaxy Vol. 2  2017  Beuna Vista    0.83   \n",
       "\n",
       "        Predicted Rating  \n",
       "mcu_18          0.872491  \n",
       "mcu_17          0.711236  \n",
       "mcu_16          0.997052  \n",
       "mcu_15          0.922450  "
      ]
     },
     "execution_count": 69,
     "metadata": {},
     "output_type": "execute_result"
    }
   ],
   "source": [
    "# Drop rows with NaN values\n",
    "\n",
    "df_mcu.dropna()"
   ]
  },
  {
   "cell_type": "markdown",
   "metadata": {
    "slideshow": {
     "slide_type": "fragment"
    }
   },
   "source": [
    "      - Fill Nan with default value"
   ]
  },
  {
   "cell_type": "code",
   "execution_count": 70,
   "metadata": {
    "slideshow": {
     "slide_type": "fragment"
    }
   },
   "outputs": [
    {
     "data": {
      "text/html": [
       "<div>\n",
       "<style>\n",
       "    .dataframe thead tr:only-child th {\n",
       "        text-align: right;\n",
       "    }\n",
       "\n",
       "    .dataframe thead th {\n",
       "        text-align: left;\n",
       "    }\n",
       "\n",
       "    .dataframe tbody tr th {\n",
       "        vertical-align: top;\n",
       "    }\n",
       "</style>\n",
       "<table border=\"1\" class=\"dataframe\">\n",
       "  <thead>\n",
       "    <tr style=\"text-align: right;\">\n",
       "      <th></th>\n",
       "      <th>Title</th>\n",
       "      <th>Year</th>\n",
       "      <th>Studio</th>\n",
       "      <th>Rating</th>\n",
       "      <th>Predicted Rating</th>\n",
       "    </tr>\n",
       "  </thead>\n",
       "  <tbody>\n",
       "    <tr>\n",
       "      <th>mcu_20</th>\n",
       "      <td>Ant-Man and the Wasp</td>\n",
       "      <td>2018</td>\n",
       "      <td>Beuna Vista</td>\n",
       "      <td>0.00</td>\n",
       "      <td>0.016992</td>\n",
       "    </tr>\n",
       "    <tr>\n",
       "      <th>mcu_19</th>\n",
       "      <td>Avengers: Infinity War</td>\n",
       "      <td>2018</td>\n",
       "      <td>Beuna Vista</td>\n",
       "      <td>0.00</td>\n",
       "      <td>0.962886</td>\n",
       "    </tr>\n",
       "    <tr>\n",
       "      <th>mcu_18</th>\n",
       "      <td>Black Panther</td>\n",
       "      <td>2018</td>\n",
       "      <td>Beuna Vista</td>\n",
       "      <td>0.96</td>\n",
       "      <td>0.872491</td>\n",
       "    </tr>\n",
       "    <tr>\n",
       "      <th>mcu_17</th>\n",
       "      <td>Thor: Ragnarok</td>\n",
       "      <td>2017</td>\n",
       "      <td>Beuna Vista</td>\n",
       "      <td>0.92</td>\n",
       "      <td>0.711236</td>\n",
       "    </tr>\n",
       "    <tr>\n",
       "      <th>mcu_16</th>\n",
       "      <td>Spider-Man: Homecoming</td>\n",
       "      <td>2017</td>\n",
       "      <td>Sony</td>\n",
       "      <td>0.92</td>\n",
       "      <td>0.997052</td>\n",
       "    </tr>\n",
       "    <tr>\n",
       "      <th>mcu_15</th>\n",
       "      <td>Guardians of the Galaxy Vol. 2</td>\n",
       "      <td>2017</td>\n",
       "      <td>Beuna Vista</td>\n",
       "      <td>0.83</td>\n",
       "      <td>0.922450</td>\n",
       "    </tr>\n",
       "  </tbody>\n",
       "</table>\n",
       "</div>"
      ],
      "text/plain": [
       "                                 Title  Year       Studio  Rating  \\\n",
       "mcu_20            Ant-Man and the Wasp  2018  Beuna Vista    0.00   \n",
       "mcu_19          Avengers: Infinity War  2018  Beuna Vista    0.00   \n",
       "mcu_18                   Black Panther  2018  Beuna Vista    0.96   \n",
       "mcu_17                  Thor: Ragnarok  2017  Beuna Vista    0.92   \n",
       "mcu_16          Spider-Man: Homecoming  2017         Sony    0.92   \n",
       "mcu_15  Guardians of the Galaxy Vol. 2  2017  Beuna Vista    0.83   \n",
       "\n",
       "        Predicted Rating  \n",
       "mcu_20          0.016992  \n",
       "mcu_19          0.962886  \n",
       "mcu_18          0.872491  \n",
       "mcu_17          0.711236  \n",
       "mcu_16          0.997052  \n",
       "mcu_15          0.922450  "
      ]
     },
     "execution_count": 70,
     "metadata": {},
     "output_type": "execute_result"
    }
   ],
   "source": [
    "# File Nan in Dataframe with default value\n",
    "\n",
    "df_mcu.fillna(0)"
   ]
  },
  {
   "cell_type": "markdown",
   "metadata": {
    "slideshow": {
     "slide_type": "fragment"
    }
   },
   "source": [
    "    - Use inplace to modify the dataframe instead of retunring a new object"
   ]
  },
  {
   "cell_type": "code",
   "execution_count": 71,
   "metadata": {
    "slideshow": {
     "slide_type": "fragment"
    }
   },
   "outputs": [
    {
     "data": {
      "text/html": [
       "<div>\n",
       "<style>\n",
       "    .dataframe thead tr:only-child th {\n",
       "        text-align: right;\n",
       "    }\n",
       "\n",
       "    .dataframe thead th {\n",
       "        text-align: left;\n",
       "    }\n",
       "\n",
       "    .dataframe tbody tr th {\n",
       "        vertical-align: top;\n",
       "    }\n",
       "</style>\n",
       "<table border=\"1\" class=\"dataframe\">\n",
       "  <thead>\n",
       "    <tr style=\"text-align: right;\">\n",
       "      <th></th>\n",
       "      <th>Title</th>\n",
       "      <th>Year</th>\n",
       "      <th>Studio</th>\n",
       "      <th>Rating</th>\n",
       "      <th>Predicted Rating</th>\n",
       "    </tr>\n",
       "  </thead>\n",
       "  <tbody>\n",
       "    <tr>\n",
       "      <th>mcu_20</th>\n",
       "      <td>Ant-Man and the Wasp</td>\n",
       "      <td>2018</td>\n",
       "      <td>Beuna Vista</td>\n",
       "      <td>0.00</td>\n",
       "      <td>0.016992</td>\n",
       "    </tr>\n",
       "    <tr>\n",
       "      <th>mcu_19</th>\n",
       "      <td>Avengers: Infinity War</td>\n",
       "      <td>2018</td>\n",
       "      <td>Beuna Vista</td>\n",
       "      <td>0.00</td>\n",
       "      <td>0.962886</td>\n",
       "    </tr>\n",
       "    <tr>\n",
       "      <th>mcu_18</th>\n",
       "      <td>Black Panther</td>\n",
       "      <td>2018</td>\n",
       "      <td>Beuna Vista</td>\n",
       "      <td>0.96</td>\n",
       "      <td>0.872491</td>\n",
       "    </tr>\n",
       "    <tr>\n",
       "      <th>mcu_17</th>\n",
       "      <td>Thor: Ragnarok</td>\n",
       "      <td>2017</td>\n",
       "      <td>Beuna Vista</td>\n",
       "      <td>0.92</td>\n",
       "      <td>0.711236</td>\n",
       "    </tr>\n",
       "    <tr>\n",
       "      <th>mcu_16</th>\n",
       "      <td>Spider-Man: Homecoming</td>\n",
       "      <td>2017</td>\n",
       "      <td>Sony</td>\n",
       "      <td>0.92</td>\n",
       "      <td>0.997052</td>\n",
       "    </tr>\n",
       "    <tr>\n",
       "      <th>mcu_15</th>\n",
       "      <td>Guardians of the Galaxy Vol. 2</td>\n",
       "      <td>2017</td>\n",
       "      <td>Beuna Vista</td>\n",
       "      <td>0.83</td>\n",
       "      <td>0.922450</td>\n",
       "    </tr>\n",
       "  </tbody>\n",
       "</table>\n",
       "</div>"
      ],
      "text/plain": [
       "                                 Title  Year       Studio  Rating  \\\n",
       "mcu_20            Ant-Man and the Wasp  2018  Beuna Vista    0.00   \n",
       "mcu_19          Avengers: Infinity War  2018  Beuna Vista    0.00   \n",
       "mcu_18                   Black Panther  2018  Beuna Vista    0.96   \n",
       "mcu_17                  Thor: Ragnarok  2017  Beuna Vista    0.92   \n",
       "mcu_16          Spider-Man: Homecoming  2017         Sony    0.92   \n",
       "mcu_15  Guardians of the Galaxy Vol. 2  2017  Beuna Vista    0.83   \n",
       "\n",
       "        Predicted Rating  \n",
       "mcu_20          0.016992  \n",
       "mcu_19          0.962886  \n",
       "mcu_18          0.872491  \n",
       "mcu_17          0.711236  \n",
       "mcu_16          0.997052  \n",
       "mcu_15          0.922450  "
      ]
     },
     "execution_count": 71,
     "metadata": {},
     "output_type": "execute_result"
    }
   ],
   "source": [
    "# File Nan in Dataframe with default value in place\n",
    "\n",
    "df_mcu.fillna(0, inplace=True)\n",
    "df_mcu"
   ]
  },
  {
   "cell_type": "markdown",
   "metadata": {
    "slideshow": {
     "slide_type": "slide"
    }
   },
   "source": [
    "<div style=\"background-color:yellow; padding: 10px\"><h3><span></span>Exercise 6</div>\n",
    "\n",
    "<hr>\n",
    "\n",
    "What is the median score of the students on the exam?\n"
   ]
  },
  {
   "cell_type": "code",
   "execution_count": 72,
   "metadata": {
    "slideshow": {
     "slide_type": "fragment"
    }
   },
   "outputs": [
    {
     "data": {
      "text/plain": [
       "13.5"
      ]
     },
     "execution_count": 72,
     "metadata": {},
     "output_type": "execute_result"
    }
   ],
   "source": [
    "# What is the median score of the students on the exam?\n",
    "\n",
    "student_data['Scores'].median()"
   ]
  },
  {
   "cell_type": "markdown",
   "metadata": {
    "slideshow": {
     "slide_type": "slide"
    }
   },
   "source": [
    "<div style=\"background-color:yellow; padding: 10px\"><h3><span></span>Exercise 7</div>\n",
    "\n",
    "<hr>\n",
    "\n",
    "Deduct 4 points from everyone that attempted the exam 2 or more times. Replace all Nan scores with 0.\n",
    "(Passing is 12 points)\n",
    "\n",
    "Compute the mean. Would the class as a whole pass the test?\n",
    "\n",
    "Are there any students that will fail now?"
   ]
  },
  {
   "cell_type": "code",
   "execution_count": 73,
   "metadata": {
    "slideshow": {
     "slide_type": "fragment"
    }
   },
   "outputs": [
    {
     "data": {
      "text/html": [
       "<div>\n",
       "<style>\n",
       "    .dataframe thead tr:only-child th {\n",
       "        text-align: right;\n",
       "    }\n",
       "\n",
       "    .dataframe thead th {\n",
       "        text-align: left;\n",
       "    }\n",
       "\n",
       "    .dataframe tbody tr th {\n",
       "        vertical-align: top;\n",
       "    }\n",
       "</style>\n",
       "<table border=\"1\" class=\"dataframe\">\n",
       "  <thead>\n",
       "    <tr style=\"text-align: right;\">\n",
       "      <th></th>\n",
       "      <th>Attempts</th>\n",
       "      <th>Names</th>\n",
       "      <th>Qualify</th>\n",
       "      <th>Scores</th>\n",
       "      <th>Grade</th>\n",
       "      <th>Pass</th>\n",
       "    </tr>\n",
       "  </thead>\n",
       "  <tbody>\n",
       "    <tr>\n",
       "      <th>0</th>\n",
       "      <td>1</td>\n",
       "      <td>Anastasia</td>\n",
       "      <td>yes</td>\n",
       "      <td>12.5</td>\n",
       "      <td>9th</td>\n",
       "      <td>1</td>\n",
       "    </tr>\n",
       "    <tr>\n",
       "      <th>1</th>\n",
       "      <td>3</td>\n",
       "      <td>Dima</td>\n",
       "      <td>no</td>\n",
       "      <td>5.0</td>\n",
       "      <td>9th</td>\n",
       "      <td>0</td>\n",
       "    </tr>\n",
       "    <tr>\n",
       "      <th>2</th>\n",
       "      <td>2</td>\n",
       "      <td>Katherine</td>\n",
       "      <td>yes</td>\n",
       "      <td>12.5</td>\n",
       "      <td>10th</td>\n",
       "      <td>1</td>\n",
       "    </tr>\n",
       "    <tr>\n",
       "      <th>3</th>\n",
       "      <td>3</td>\n",
       "      <td>James</td>\n",
       "      <td>no</td>\n",
       "      <td>NaN</td>\n",
       "      <td>11th</td>\n",
       "      <td>0</td>\n",
       "    </tr>\n",
       "    <tr>\n",
       "      <th>4</th>\n",
       "      <td>2</td>\n",
       "      <td>Emily</td>\n",
       "      <td>no</td>\n",
       "      <td>5.0</td>\n",
       "      <td>12th</td>\n",
       "      <td>0</td>\n",
       "    </tr>\n",
       "    <tr>\n",
       "      <th>5</th>\n",
       "      <td>3</td>\n",
       "      <td>Michael</td>\n",
       "      <td>yes</td>\n",
       "      <td>16.0</td>\n",
       "      <td>9th</td>\n",
       "      <td>1</td>\n",
       "    </tr>\n",
       "    <tr>\n",
       "      <th>6</th>\n",
       "      <td>1</td>\n",
       "      <td>Matthew</td>\n",
       "      <td>yes</td>\n",
       "      <td>14.5</td>\n",
       "      <td>10th</td>\n",
       "      <td>1</td>\n",
       "    </tr>\n",
       "    <tr>\n",
       "      <th>7</th>\n",
       "      <td>1</td>\n",
       "      <td>Laura</td>\n",
       "      <td>no</td>\n",
       "      <td>NaN</td>\n",
       "      <td>11th</td>\n",
       "      <td>0</td>\n",
       "    </tr>\n",
       "    <tr>\n",
       "      <th>8</th>\n",
       "      <td>2</td>\n",
       "      <td>Kevin</td>\n",
       "      <td>no</td>\n",
       "      <td>4.0</td>\n",
       "      <td>12th</td>\n",
       "      <td>0</td>\n",
       "    </tr>\n",
       "    <tr>\n",
       "      <th>9</th>\n",
       "      <td>1</td>\n",
       "      <td>Jonas</td>\n",
       "      <td>yes</td>\n",
       "      <td>19.0</td>\n",
       "      <td>11th</td>\n",
       "      <td>1</td>\n",
       "    </tr>\n",
       "  </tbody>\n",
       "</table>\n",
       "</div>"
      ],
      "text/plain": [
       "   Attempts      Names Qualify  Scores Grade  Pass\n",
       "0         1  Anastasia     yes    12.5   9th     1\n",
       "1         3       Dima      no     5.0   9th     0\n",
       "2         2  Katherine     yes    12.5  10th     1\n",
       "3         3      James      no     NaN  11th     0\n",
       "4         2      Emily      no     5.0  12th     0\n",
       "5         3    Michael     yes    16.0   9th     1\n",
       "6         1    Matthew     yes    14.5  10th     1\n",
       "7         1      Laura      no     NaN  11th     0\n",
       "8         2      Kevin      no     4.0  12th     0\n",
       "9         1      Jonas     yes    19.0  11th     1"
      ]
     },
     "execution_count": 73,
     "metadata": {},
     "output_type": "execute_result"
    }
   ],
   "source": [
    "# Deduct 4 points from everyone that attempted the exam 2 or more times. Replace all Nan scores with 0. (Passing is 12 points)\n",
    "\n",
    "student_data.loc[student_data['Attempts'] >= 2, 'Scores'] -= 4\n",
    "student_data"
   ]
  },
  {
   "cell_type": "code",
   "execution_count": 74,
   "metadata": {
    "slideshow": {
     "slide_type": "fragment"
    }
   },
   "outputs": [
    {
     "data": {
      "text/plain": [
       "11.0625"
      ]
     },
     "execution_count": 74,
     "metadata": {},
     "output_type": "execute_result"
    }
   ],
   "source": [
    "# Compute the mean. Would the class as a whole pass the test?\n",
    "\n",
    "student_data['Scores'].mean()"
   ]
  },
  {
   "cell_type": "code",
   "execution_count": 75,
   "metadata": {
    "slideshow": {
     "slide_type": "fragment"
    }
   },
   "outputs": [
    {
     "data": {
      "text/html": [
       "<div>\n",
       "<style>\n",
       "    .dataframe thead tr:only-child th {\n",
       "        text-align: right;\n",
       "    }\n",
       "\n",
       "    .dataframe thead th {\n",
       "        text-align: left;\n",
       "    }\n",
       "\n",
       "    .dataframe tbody tr th {\n",
       "        vertical-align: top;\n",
       "    }\n",
       "</style>\n",
       "<table border=\"1\" class=\"dataframe\">\n",
       "  <thead>\n",
       "    <tr style=\"text-align: right;\">\n",
       "      <th></th>\n",
       "      <th>Attempts</th>\n",
       "      <th>Names</th>\n",
       "      <th>Qualify</th>\n",
       "      <th>Scores</th>\n",
       "      <th>Grade</th>\n",
       "      <th>Pass</th>\n",
       "    </tr>\n",
       "  </thead>\n",
       "  <tbody>\n",
       "    <tr>\n",
       "      <th>0</th>\n",
       "      <td>1</td>\n",
       "      <td>Anastasia</td>\n",
       "      <td>yes</td>\n",
       "      <td>12.5</td>\n",
       "      <td>9th</td>\n",
       "      <td>1</td>\n",
       "    </tr>\n",
       "    <tr>\n",
       "      <th>2</th>\n",
       "      <td>2</td>\n",
       "      <td>Katherine</td>\n",
       "      <td>yes</td>\n",
       "      <td>12.5</td>\n",
       "      <td>10th</td>\n",
       "      <td>1</td>\n",
       "    </tr>\n",
       "    <tr>\n",
       "      <th>5</th>\n",
       "      <td>3</td>\n",
       "      <td>Michael</td>\n",
       "      <td>yes</td>\n",
       "      <td>16.0</td>\n",
       "      <td>9th</td>\n",
       "      <td>1</td>\n",
       "    </tr>\n",
       "    <tr>\n",
       "      <th>6</th>\n",
       "      <td>1</td>\n",
       "      <td>Matthew</td>\n",
       "      <td>yes</td>\n",
       "      <td>14.5</td>\n",
       "      <td>10th</td>\n",
       "      <td>1</td>\n",
       "    </tr>\n",
       "    <tr>\n",
       "      <th>9</th>\n",
       "      <td>1</td>\n",
       "      <td>Jonas</td>\n",
       "      <td>yes</td>\n",
       "      <td>19.0</td>\n",
       "      <td>11th</td>\n",
       "      <td>1</td>\n",
       "    </tr>\n",
       "  </tbody>\n",
       "</table>\n",
       "</div>"
      ],
      "text/plain": [
       "   Attempts      Names Qualify  Scores Grade  Pass\n",
       "0         1  Anastasia     yes    12.5   9th     1\n",
       "2         2  Katherine     yes    12.5  10th     1\n",
       "5         3    Michael     yes    16.0   9th     1\n",
       "6         1    Matthew     yes    14.5  10th     1\n",
       "9         1      Jonas     yes    19.0  11th     1"
      ]
     },
     "execution_count": 75,
     "metadata": {},
     "output_type": "execute_result"
    }
   ],
   "source": [
    "# Are there any students that will fail now?\n",
    "\n",
    "student_data[(student_data['Qualify'] == 'yes')]"
   ]
  },
  {
   "cell_type": "markdown",
   "metadata": {
    "slideshow": {
     "slide_type": "slide"
    }
   },
   "source": [
    "## Agenda\n",
    "\n",
    "<hr>\n",
    "\n",
    "1. Introduction to Pandas\n",
    "2. Series\n",
    "    - Exercise 1\n",
    "    - Exercise 2\n",
    "3. Dataframe\n",
    "    - Exercise 3\n",
    "    - Exercise 4\n",
    "4. Import and Store Data\n",
    "5. Summarizing and Computing Descriptive Statistics\n",
    "    - Exercise 6\n",
    "    - Exercise 7\n",
    "6. **Grouped and apply**\n",
    "    - Exercise 8\n",
    "    - Exercise 9\n",
    "7. Data Transformation and Normalization\n",
    "    - Exercise 10\n",
    "    - Exercise 11\n",
    "    - Exercise 12"
   ]
  },
  {
   "cell_type": "markdown",
   "metadata": {
    "slideshow": {
     "slide_type": "subslide"
    }
   },
   "source": [
    "### 6.1 Grouped and apply\n",
    "\n",
    "<hr>\n",
    "\n",
    "The Grouped functionality is referring to a process involving one or more of the following steps:\n",
    "- Splitting the data into groups based on some criteria\n",
    "- Applying a function to each group independently"
   ]
  },
  {
   "cell_type": "markdown",
   "metadata": {
    "slideshow": {
     "slide_type": "subslide"
    }
   },
   "source": [
    "### 6.2 Grouped and apply - Splitting\n",
    "\n",
    "<hr>\n",
    "\n",
    "Pandas objects can be split on any of their axes. \n",
    "- 'grouping' is to provided as a mapping of labels to group names in a Grouped Objec\n",
    "- groupby()"
   ]
  },
  {
   "cell_type": "code",
   "execution_count": 76,
   "metadata": {
    "slideshow": {
     "slide_type": "fragment"
    }
   },
   "outputs": [
    {
     "data": {
      "text/html": [
       "<div>\n",
       "<style>\n",
       "    .dataframe thead tr:only-child th {\n",
       "        text-align: right;\n",
       "    }\n",
       "\n",
       "    .dataframe thead th {\n",
       "        text-align: left;\n",
       "    }\n",
       "\n",
       "    .dataframe tbody tr th {\n",
       "        vertical-align: top;\n",
       "    }\n",
       "</style>\n",
       "<table border=\"1\" class=\"dataframe\">\n",
       "  <thead>\n",
       "    <tr style=\"text-align: right;\">\n",
       "      <th></th>\n",
       "      <th>Rating</th>\n",
       "      <th>Predicted Rating</th>\n",
       "    </tr>\n",
       "    <tr>\n",
       "      <th>Year</th>\n",
       "      <th></th>\n",
       "      <th></th>\n",
       "    </tr>\n",
       "  </thead>\n",
       "  <tbody>\n",
       "    <tr>\n",
       "      <th>2017</th>\n",
       "      <td>0.89</td>\n",
       "      <td>0.876913</td>\n",
       "    </tr>\n",
       "    <tr>\n",
       "      <th>2018</th>\n",
       "      <td>0.32</td>\n",
       "      <td>0.617456</td>\n",
       "    </tr>\n",
       "  </tbody>\n",
       "</table>\n",
       "</div>"
      ],
      "text/plain": [
       "      Rating  Predicted Rating\n",
       "Year                          \n",
       "2017    0.89          0.876913\n",
       "2018    0.32          0.617456"
      ]
     },
     "execution_count": 76,
     "metadata": {},
     "output_type": "execute_result"
    }
   ],
   "source": [
    "# Groupby year of release and get mean Rating\n",
    "\n",
    "df_mcu.groupby('Year').mean()\n"
   ]
  },
  {
   "cell_type": "markdown",
   "metadata": {
    "slideshow": {
     "slide_type": "subslide"
    }
   },
   "source": [
    "### 6.3 Grouped and apply - Apply\n",
    "\n",
    "<hr>\n",
    "\n",
    "Apply the same function to every column or row:\n",
    "- applymap: Apply same function across every cell\n",
    "- apply: Apply same function to every column (default) or row"
   ]
  },
  {
   "cell_type": "markdown",
   "metadata": {
    "slideshow": {
     "slide_type": "fragment"
    }
   },
   "source": [
    "        - Apply square to every value in a dataframe"
   ]
  },
  {
   "cell_type": "code",
   "execution_count": 77,
   "metadata": {
    "slideshow": {
     "slide_type": "fragment"
    }
   },
   "outputs": [
    {
     "data": {
      "text/html": [
       "<div>\n",
       "<style>\n",
       "    .dataframe thead tr:only-child th {\n",
       "        text-align: right;\n",
       "    }\n",
       "\n",
       "    .dataframe thead th {\n",
       "        text-align: left;\n",
       "    }\n",
       "\n",
       "    .dataframe tbody tr th {\n",
       "        vertical-align: top;\n",
       "    }\n",
       "</style>\n",
       "<table border=\"1\" class=\"dataframe\">\n",
       "  <thead>\n",
       "    <tr style=\"text-align: right;\">\n",
       "      <th></th>\n",
       "      <th>c1</th>\n",
       "      <th>c2</th>\n",
       "      <th>c3</th>\n",
       "    </tr>\n",
       "  </thead>\n",
       "  <tbody>\n",
       "    <tr>\n",
       "      <th>r1</th>\n",
       "      <td>0</td>\n",
       "      <td>1</td>\n",
       "      <td>2</td>\n",
       "    </tr>\n",
       "    <tr>\n",
       "      <th>r2</th>\n",
       "      <td>3</td>\n",
       "      <td>4</td>\n",
       "      <td>5</td>\n",
       "    </tr>\n",
       "    <tr>\n",
       "      <th>r3</th>\n",
       "      <td>6</td>\n",
       "      <td>7</td>\n",
       "      <td>8</td>\n",
       "    </tr>\n",
       "  </tbody>\n",
       "</table>\n",
       "</div>"
      ],
      "text/plain": [
       "    c1  c2  c3\n",
       "r1   0   1   2\n",
       "r2   3   4   5\n",
       "r3   6   7   8"
      ]
     },
     "execution_count": 77,
     "metadata": {},
     "output_type": "execute_result"
    }
   ],
   "source": [
    "# Apply square to every value in a dataframe\n",
    "\n",
    "test_data = np.arange(9).reshape(3,-1)\n",
    "\n",
    "df_test = pd.DataFrame(test_data, index=['r1', 'r2', 'r3'], columns=['c1', 'c2', 'c3'])\n",
    "df_test"
   ]
  },
  {
   "cell_type": "code",
   "execution_count": 78,
   "metadata": {
    "slideshow": {
     "slide_type": "fragment"
    }
   },
   "outputs": [
    {
     "data": {
      "text/html": [
       "<div>\n",
       "<style>\n",
       "    .dataframe thead tr:only-child th {\n",
       "        text-align: right;\n",
       "    }\n",
       "\n",
       "    .dataframe thead th {\n",
       "        text-align: left;\n",
       "    }\n",
       "\n",
       "    .dataframe tbody tr th {\n",
       "        vertical-align: top;\n",
       "    }\n",
       "</style>\n",
       "<table border=\"1\" class=\"dataframe\">\n",
       "  <thead>\n",
       "    <tr style=\"text-align: right;\">\n",
       "      <th></th>\n",
       "      <th>c1</th>\n",
       "      <th>c2</th>\n",
       "      <th>c3</th>\n",
       "    </tr>\n",
       "  </thead>\n",
       "  <tbody>\n",
       "    <tr>\n",
       "      <th>r1</th>\n",
       "      <td>0</td>\n",
       "      <td>1</td>\n",
       "      <td>4</td>\n",
       "    </tr>\n",
       "    <tr>\n",
       "      <th>r2</th>\n",
       "      <td>9</td>\n",
       "      <td>16</td>\n",
       "      <td>25</td>\n",
       "    </tr>\n",
       "    <tr>\n",
       "      <th>r3</th>\n",
       "      <td>36</td>\n",
       "      <td>49</td>\n",
       "      <td>64</td>\n",
       "    </tr>\n",
       "  </tbody>\n",
       "</table>\n",
       "</div>"
      ],
      "text/plain": [
       "    c1  c2  c3\n",
       "r1   0   1   4\n",
       "r2   9  16  25\n",
       "r3  36  49  64"
      ]
     },
     "execution_count": 78,
     "metadata": {},
     "output_type": "execute_result"
    }
   ],
   "source": [
    "df_test.applymap(np.square)"
   ]
  },
  {
   "cell_type": "markdown",
   "metadata": {
    "slideshow": {
     "slide_type": "fragment"
    }
   },
   "source": [
    "            - Apply a new function that subtract max from 2 times min in every column"
   ]
  },
  {
   "cell_type": "code",
   "execution_count": 79,
   "metadata": {
    "slideshow": {
     "slide_type": "fragment"
    }
   },
   "outputs": [
    {
     "data": {
      "text/plain": [
       "c1    6\n",
       "c2    5\n",
       "c3    4\n",
       "dtype: int64"
      ]
     },
     "execution_count": 79,
     "metadata": {},
     "output_type": "execute_result"
    }
   ],
   "source": [
    "# Define max minus min function\n",
    "def max_minus_min(x): \n",
    "    return max(x)-(2*min(x))\n",
    "\n",
    "# Apply a new function that subtract max from min in every column\n",
    "\n",
    "\n",
    "df_test.apply(max_minus_min)\n"
   ]
  },
  {
   "cell_type": "markdown",
   "metadata": {
    "slideshow": {
     "slide_type": "slide"
    }
   },
   "source": [
    "<div style=\"background-color:yellow; padding: 10px\"><h3><span></span>Exercise 8</div>\n",
    "\n",
    "<hr>\n",
    "\n",
    "Group students by attempts and find the average score?\n"
   ]
  },
  {
   "cell_type": "code",
   "execution_count": 80,
   "metadata": {
    "slideshow": {
     "slide_type": "fragment"
    }
   },
   "outputs": [
    {
     "data": {
      "text/plain": [
       "Attempts\n",
       "1    15.333333\n",
       "2     7.166667\n",
       "3    10.500000\n",
       "Name: Scores, dtype: float64"
      ]
     },
     "execution_count": 80,
     "metadata": {},
     "output_type": "execute_result"
    }
   ],
   "source": [
    "# Group students by attempts and find the average score?\n",
    "\n",
    "student_data.groupby('Attempts')['Scores'].mean()"
   ]
  },
  {
   "cell_type": "markdown",
   "metadata": {
    "slideshow": {
     "slide_type": "slide"
    }
   },
   "source": [
    "<div style=\"background-color:yellow; padding: 10px\"><h3><span></span>Exercise 9</div>\n",
    "\n",
    "<hr>\n",
    "\n",
    "Group students by their pass result and report the variance in scores?"
   ]
  },
  {
   "cell_type": "code",
   "execution_count": 81,
   "metadata": {
    "slideshow": {
     "slide_type": "fragment"
    }
   },
   "outputs": [
    {
     "data": {
      "text/plain": [
       "Pass\n",
       "0    0.333333\n",
       "1    7.425000\n",
       "Name: Scores, dtype: float64"
      ]
     },
     "execution_count": 81,
     "metadata": {},
     "output_type": "execute_result"
    }
   ],
   "source": [
    "# Group students by their pass result and report the variance in scores?\n",
    "\n",
    "student_data.groupby('Pass')['Scores'].var()"
   ]
  },
  {
   "cell_type": "markdown",
   "metadata": {
    "slideshow": {
     "slide_type": "slide"
    }
   },
   "source": [
    "1. Introduction to Pandas\n",
    "2. Series\n",
    "    - Exercise 1\n",
    "    - Exercise 2\n",
    "3. Dataframe\n",
    "    - Exercise 3\n",
    "    - Exercise 4\n",
    "4. Import and Store Data\n",
    "5. Summarizing and Computing Descriptive Statistics\n",
    "    - Exercise 6\n",
    "    - Exercise 7\n",
    "6. Grouped and apply\n",
    "    - Exercise 8\n",
    "    - Exercise 9\n",
    "7. **Data Transformation and Normalization**\n",
    "    - Exercise 10\n",
    "    - Exercise 11\n",
    "    - Exercise 12"
   ]
  },
  {
   "cell_type": "markdown",
   "metadata": {
    "slideshow": {
     "slide_type": "subslide"
    }
   },
   "source": [
    "### 7.1 Data Transformation and Normalization\n",
    "\n",
    "<hr>\n",
    "\n",
    "For Machine Learning (ML) and other data analysis it is important to:\n",
    "- Explore your data\n",
    "- Standardize data (Transform/Normalize) to obtain so different columns became comparable / compatible"
   ]
  },
  {
   "cell_type": "markdown",
   "metadata": {
    "slideshow": {
     "slide_type": "subslide"
    }
   },
   "source": [
    "### 7.1 Data Transformation and Normalization - Data Exploration\n",
    "\n",
    "<hr>\n",
    "\n",
    "Pandas Dataframes have a built in plot functionality:\n",
    "- Dataframe.plot()\n",
    "\n",
    "<div style=\"background-color: #9999ff; padding: 10px;\"> NOTE: We will go into more plotting libraries later in the course. </div>"
   ]
  },
  {
   "cell_type": "code",
   "execution_count": 82,
   "metadata": {
    "collapsed": true,
    "slideshow": {
     "slide_type": "fragment"
    }
   },
   "outputs": [],
   "source": [
    "# Import  maplotlib and setup to display plots notebook\n",
    "\n",
    "import matplotlib.pyplot as plt\n",
    "%matplotlib inline  "
   ]
  },
  {
   "cell_type": "markdown",
   "metadata": {
    "slideshow": {
     "slide_type": "fragment"
    }
   },
   "source": [
    "- Plot the Number of Medals in barchart by country using: plot.bar()"
   ]
  },
  {
   "cell_type": "code",
   "execution_count": 83,
   "metadata": {
    "slideshow": {
     "slide_type": "fragment"
    }
   },
   "outputs": [
    {
     "data": {
      "text/plain": [
       "<matplotlib.axes._subplots.AxesSubplot at 0x10fbaa8d0>"
      ]
     },
     "execution_count": 83,
     "metadata": {},
     "output_type": "execute_result"
    },
    {
     "data": {
      "image/png": "[encoded data removed]",
      "text/plain": [
       "<matplotlib.figure.Figure at 0x10fb19f28>"
      ]
     },
     "metadata": {},
     "output_type": "display_data"
    }
   ],
   "source": [
    "# Plot the Number of Medals in barchart by country using: plot.bar()\n",
    "\n",
    "winter_olympics.groupby(['Country'])['Medal'].count().plot.bar()"
   ]
  },
  {
   "cell_type": "markdown",
   "metadata": {
    "slideshow": {
     "slide_type": "fragment"
    }
   },
   "source": [
    "- Other useful plots:\n",
    "    - hist: plot.hist()\n",
    "    - scatter: plot.scatter()\n",
    "    - boxplot: plot.box()"
   ]
  },
  {
   "cell_type": "markdown",
   "metadata": {
    "slideshow": {
     "slide_type": "subslide"
    }
   },
   "source": [
    "### 7.2 Data Transformation and Normalization - Normalization\n",
    "\n",
    "<hr>\n",
    "\n",
    "Why Normalize (re-scale)?\n",
    "- Transform data to obtain a certain distribution e.g. from lognormal to normal\n",
    "- Normalize data so different columns became comparable / compatible\n"
   ]
  },
  {
   "cell_type": "markdown",
   "metadata": {
    "slideshow": {
     "slide_type": "fragment"
    }
   },
   "source": [
    "Typical normalization approach:\n",
    "- Z-score transformation\n",
    "- Scale to between 0 and 1\n",
    "- Trimmed mean normalization\n",
    "- Vector length transformation\n",
    "- Quantilenorm\n",
    "\n",
    "\n",
    "Further Resources:\n",
    "- [scikit-learn](http://scikit-learn.org/stable/modules/preprocessing.html#preprocessing)\n"
   ]
  },
  {
   "cell_type": "markdown",
   "metadata": {
    "slideshow": {
     "slide_type": "slide"
    }
   },
   "source": [
    "### Further Resources\n",
    "\n",
    "<hr>\n",
    "\n",
    "Resources:\n",
    "- [Pandas 10 min](http://pandas.pydata.org/pandas-docs/stable/10min.html)\n",
    "- [Pandas Tutorals](http://pandas.pydata.org/pandas-docs/stable/tutorials.html)\n",
    "- [Pandas Cookbook](http://pandas.pydata.org/pandas-docs/stable/tutorials.html)\n"
   ]
  },
  {
   "cell_type": "markdown",
   "metadata": {
    "slideshow": {
     "slide_type": "slide"
    }
   },
   "source": [
    "<div style=\"background-color:yellow; padding: 10px\"><h3><span></span>Exercise 10</div>\n",
    "\n",
    "<hr>\n",
    "\n",
    "In the Winter olympics which country has the most Biathlon medals?\n",
    "\n",
    "In the Winter olympics which country has the most Skiing medals? And in which event do they have the most Gold medals?"
   ]
  },
  {
   "cell_type": "code",
   "execution_count": 84,
   "metadata": {
    "slideshow": {
     "slide_type": "fragment"
    }
   },
   "outputs": [
    {
     "data": {
      "text/plain": [
       "Country  Sport    \n",
       "AUS      Skating        5\n",
       "         Skiing        10\n",
       "AUT      Biathlon      11\n",
       "         Bobsleigh     13\n",
       "         Luge          27\n",
       "         Skating       31\n",
       "         Skiing       198\n",
       "BEL      Bobsleigh      9\n",
       "         Skating        4\n",
       "BLR      Biathlon       8\n",
       "Name: Medal, dtype: int64"
      ]
     },
     "execution_count": 84,
     "metadata": {},
     "output_type": "execute_result"
    }
   ],
   "source": [
    "# In the Winter olympics which country has the most Biathlon medals?\n",
    "\n",
    "\n",
    "winter_sport_medal = winter_olympics.groupby(['Country','Sport'])['Medal'].count()\n",
    "winter_sport_medal.head(10)"
   ]
  },
  {
   "cell_type": "code",
   "execution_count": 85,
   "metadata": {
    "slideshow": {
     "slide_type": "fragment"
    }
   },
   "outputs": [
    {
     "data": {
      "text/plain": [
       "Country\n",
       "GER    80\n",
       "NOR    62\n",
       "RUS    57\n",
       "FRA    44\n",
       "URS    37\n",
       "Name: Medal, dtype: int64"
      ]
     },
     "execution_count": 85,
     "metadata": {},
     "output_type": "execute_result"
    }
   ],
   "source": [
    "winter_sport_medal.loc[:,'Biathlon',:].sort_values(ascending=False).head()"
   ]
  },
  {
   "cell_type": "code",
   "execution_count": 86,
   "metadata": {
    "slideshow": {
     "slide_type": "fragment"
    }
   },
   "outputs": [
    {
     "data": {
      "text/plain": [
       "Country\n",
       "NOR    297\n",
       "FIN    206\n",
       "AUT    198\n",
       "SWE    146\n",
       "URS    116\n",
       "Name: Medal, dtype: int64"
      ]
     },
     "execution_count": 86,
     "metadata": {},
     "output_type": "execute_result"
    }
   ],
   "source": [
    "# In the Winter olympics which country has the most Skiing medals? \n",
    "\n",
    "winter_sport_medal.loc[:,'Skiing',:].sort_values(ascending=False).head()"
   ]
  },
  {
   "cell_type": "code",
   "execution_count": 87,
   "metadata": {
    "slideshow": {
     "slide_type": "fragment"
    }
   },
   "outputs": [
    {
     "data": {
      "text/plain": [
       "Country  Sport    Discipline                 Medal \n",
       "AUS      Skating  Short Track Speed Skating  Bronze    4\n",
       "                                             Gold      1\n",
       "         Skiing   Alpine Skiing              Bronze    1\n",
       "                  Freestyle Skiing           Bronze    2\n",
       "                                             Gold      3\n",
       "Name: Medal, dtype: int64"
      ]
     },
     "execution_count": 87,
     "metadata": {},
     "output_type": "execute_result"
    }
   ],
   "source": [
    "# And in which event do they have the most Gold medals?\n",
    "winter_sport_disc_medal = winter_olympics.groupby(['Country','Sport', 'Discipline', 'Medal'])['Medal'].count()\n",
    "winter_sport_disc_medal.head()"
   ]
  },
  {
   "cell_type": "code",
   "execution_count": 88,
   "metadata": {
    "slideshow": {
     "slide_type": "fragment"
    }
   },
   "outputs": [
    {
     "data": {
      "text/plain": [
       "Discipline            Medal \n",
       "Cross Country Skiing  Silver    78\n",
       "                      Gold      62\n",
       "                      Bronze    37\n",
       "Ski Jumping           Bronze    21\n",
       "Nordic Combined       Gold      19\n",
       "                      Silver    13\n",
       "Alpine Skiing         Bronze    10\n",
       "                      Gold      10\n",
       "Ski Jumping           Silver     9\n",
       "                      Gold       9\n",
       "Alpine Skiing         Silver     9\n",
       "Nordic Combined       Bronze     8\n",
       "Freestyle Skiing      Bronze     4\n",
       "Snowboard             Silver     3\n",
       "Freestyle Skiing      Gold       2\n",
       "                      Silver     2\n",
       "Snowboard             Bronze     1\n",
       "Name: Medal, dtype: int64"
      ]
     },
     "execution_count": 88,
     "metadata": {},
     "output_type": "execute_result"
    }
   ],
   "source": [
    "winter_sport_disc_medal['NOR','Skiing'].sort_values(ascending=False)"
   ]
  },
  {
   "cell_type": "markdown",
   "metadata": {
    "slideshow": {
     "slide_type": "slide"
    }
   },
   "source": [
    "<div style=\"background-color:yellow; padding: 10px\"><h3><span></span>Exercise 11</div>\n",
    "\n",
    "<hr>\n",
    "\n",
    "Import the Summer Olympic dataset located in ('data/summer_olypmics.csv')\n",
    "\n",
    "Which Olympian has the most medals?\n",
    "\n",
    "Which Olympian has the most Gold medals and for which Country and Sport?\n",
    "\n",
    "Which rows have no values and why?"
   ]
  },
  {
   "cell_type": "code",
   "execution_count": 89,
   "metadata": {
    "slideshow": {
     "slide_type": "fragment"
    }
   },
   "outputs": [
    {
     "data": {
      "text/plain": [
       "Athlete\n",
       "PHELPS, Michael         22\n",
       "LATYNINA, Larisa        18\n",
       "ANDRIANOV, Nikolay      15\n",
       "MANGIAROTTI, Edoardo    13\n",
       "SHAKHLIN, Boris         13\n",
       "Name: Medal, dtype: int64"
      ]
     },
     "execution_count": 89,
     "metadata": {},
     "output_type": "execute_result"
    }
   ],
   "source": [
    "# Import the Summer Olympic dataset located in ('data/summer_olypmics.csv')\n",
    "summer_olympics = pd.read_csv('data/summer_olympics.csv')\n",
    "\n",
    "\n",
    "#Which Olympian has the most medals?\n",
    "summer_olympics.groupby(['Athlete'])['Medal'].count().sort_values(ascending=False).head()"
   ]
  },
  {
   "cell_type": "code",
   "execution_count": 90,
   "metadata": {
    "slideshow": {
     "slide_type": "fragment"
    }
   },
   "outputs": [
    {
     "data": {
      "text/plain": [
       "Athlete           Medal  Country\n",
       "PHELPS, Michael   Gold   USA        18\n",
       "NURMI, Paavo      Gold   FIN         9\n",
       "SPITZ, Mark       Gold   USA         9\n",
       "LATYNINA, Larisa  Gold   URS         9\n",
       "LEWIS, Carl       Gold   USA         9\n",
       "Name: Medal, dtype: int64"
      ]
     },
     "execution_count": 90,
     "metadata": {},
     "output_type": "execute_result"
    }
   ],
   "source": [
    "# Which Olympian has the most Gold medals and for which Country?\n",
    "summer_olympics.groupby(['Athlete','Medal','Country'])['Medal'].count().sort_values(ascending=False).head()\n"
   ]
  },
  {
   "cell_type": "code",
   "execution_count": 91,
   "metadata": {
    "slideshow": {
     "slide_type": "fragment"
    }
   },
   "outputs": [
    {
     "data": {
      "text/plain": [
       "Athlete           Medal  Discipline \n",
       "PHELPS, Michael   Gold   Swimming       18\n",
       "NURMI, Paavo      Gold   Athletics       9\n",
       "SPITZ, Mark       Gold   Swimming        9\n",
       "LATYNINA, Larisa  Gold   Artistic G.     9\n",
       "LEWIS, Carl       Gold   Athletics       9\n",
       "Name: Medal, dtype: int64"
      ]
     },
     "execution_count": 91,
     "metadata": {},
     "output_type": "execute_result"
    }
   ],
   "source": [
    "# Which Olympian has the most Gold medals and for which Sport?\n",
    "summer_olympics.groupby(['Athlete','Medal','Discipline'])['Medal'].count().sort_values(ascending=False).head()"
   ]
  },
  {
   "cell_type": "code",
   "execution_count": 92,
   "metadata": {
    "slideshow": {
     "slide_type": "fragment"
    }
   },
   "outputs": [
    {
     "data": {
      "text/html": [
       "<div>\n",
       "<style>\n",
       "    .dataframe thead tr:only-child th {\n",
       "        text-align: right;\n",
       "    }\n",
       "\n",
       "    .dataframe thead th {\n",
       "        text-align: left;\n",
       "    }\n",
       "\n",
       "    .dataframe tbody tr th {\n",
       "        vertical-align: top;\n",
       "    }\n",
       "</style>\n",
       "<table border=\"1\" class=\"dataframe\">\n",
       "  <thead>\n",
       "    <tr style=\"text-align: right;\">\n",
       "      <th></th>\n",
       "      <th>Year</th>\n",
       "      <th>City</th>\n",
       "      <th>Sport</th>\n",
       "      <th>Discipline</th>\n",
       "      <th>Athlete</th>\n",
       "      <th>Country</th>\n",
       "      <th>Gender</th>\n",
       "      <th>Event</th>\n",
       "      <th>Medal</th>\n",
       "    </tr>\n",
       "  </thead>\n",
       "  <tbody>\n",
       "    <tr>\n",
       "      <th>29603</th>\n",
       "      <td>2012</td>\n",
       "      <td>London</td>\n",
       "      <td>Athletics</td>\n",
       "      <td>Athletics</td>\n",
       "      <td>Pending</td>\n",
       "      <td>NaN</td>\n",
       "      <td>Women</td>\n",
       "      <td>1500M</td>\n",
       "      <td>Gold</td>\n",
       "    </tr>\n",
       "    <tr>\n",
       "      <th>31072</th>\n",
       "      <td>2012</td>\n",
       "      <td>London</td>\n",
       "      <td>Weightlifting</td>\n",
       "      <td>Weightlifting</td>\n",
       "      <td>Pending</td>\n",
       "      <td>NaN</td>\n",
       "      <td>Women</td>\n",
       "      <td>63KG</td>\n",
       "      <td>Gold</td>\n",
       "    </tr>\n",
       "    <tr>\n",
       "      <th>31091</th>\n",
       "      <td>2012</td>\n",
       "      <td>London</td>\n",
       "      <td>Weightlifting</td>\n",
       "      <td>Weightlifting</td>\n",
       "      <td>Pending</td>\n",
       "      <td>NaN</td>\n",
       "      <td>Men</td>\n",
       "      <td>94KG</td>\n",
       "      <td>Silver</td>\n",
       "    </tr>\n",
       "    <tr>\n",
       "      <th>31110</th>\n",
       "      <td>2012</td>\n",
       "      <td>London</td>\n",
       "      <td>Wrestling</td>\n",
       "      <td>Wrestling Freestyle</td>\n",
       "      <td>KUDUKHOV, Besik</td>\n",
       "      <td>NaN</td>\n",
       "      <td>Men</td>\n",
       "      <td>Wf 60 KG</td>\n",
       "      <td>Silver</td>\n",
       "    </tr>\n",
       "  </tbody>\n",
       "</table>\n",
       "</div>"
      ],
      "text/plain": [
       "       Year    City          Sport           Discipline          Athlete  \\\n",
       "29603  2012  London      Athletics            Athletics          Pending   \n",
       "31072  2012  London  Weightlifting        Weightlifting          Pending   \n",
       "31091  2012  London  Weightlifting        Weightlifting          Pending   \n",
       "31110  2012  London      Wrestling  Wrestling Freestyle  KUDUKHOV, Besik   \n",
       "\n",
       "      Country Gender     Event   Medal  \n",
       "29603     NaN  Women     1500M    Gold  \n",
       "31072     NaN  Women      63KG    Gold  \n",
       "31091     NaN    Men      94KG  Silver  \n",
       "31110     NaN    Men  Wf 60 KG  Silver  "
      ]
     },
     "execution_count": 92,
     "metadata": {},
     "output_type": "execute_result"
    }
   ],
   "source": [
    "# Which rows have no values and why?\n",
    "summer_olympics[pd.isnull(summer_olympics).any(axis=1)]"
   ]
  },
  {
   "cell_type": "markdown",
   "metadata": {
    "slideshow": {
     "slide_type": "slide"
    }
   },
   "source": [
    "<div style=\"background-color:yellow; padding: 10px\"><h3><span></span>Exercise 12</div>\n",
    "\n",
    "<hr>\n",
    "\n",
    "Import the example RNA-seq Count Data in ('../data/RNAseq_count_table.txt')\n",
    "\n",
    "Calculate CPM for each Sample. (CPM, Counts Per Million)\n",
    "\n",
    "Formula for CPM = readsMappedToGene x 1/totalNumReads x 10^6\n",
    "\n",
    "totalNumReads - total number of mapped reads of a sample\n",
    "readsMappedToGene - number of reads mapped to a selected gene\n",
    "\n",
    "Which Gene has the highest average CPM?\n",
    "\n",
    "What is the Correlation between SRR1550986 SRR1550987?"
   ]
  },
  {
   "cell_type": "code",
   "execution_count": 93,
   "metadata": {
    "slideshow": {
     "slide_type": "fragment"
    }
   },
   "outputs": [
    {
     "data": {
      "text/html": [
       "<div>\n",
       "<style>\n",
       "    .dataframe thead tr:only-child th {\n",
       "        text-align: right;\n",
       "    }\n",
       "\n",
       "    .dataframe thead th {\n",
       "        text-align: left;\n",
       "    }\n",
       "\n",
       "    .dataframe tbody tr th {\n",
       "        vertical-align: top;\n",
       "    }\n",
       "</style>\n",
       "<table border=\"1\" class=\"dataframe\">\n",
       "  <thead>\n",
       "    <tr style=\"text-align: right;\">\n",
       "      <th></th>\n",
       "      <th>SRR1550986</th>\n",
       "      <th>SRR1550987</th>\n",
       "      <th>SRR1551047</th>\n",
       "      <th>SRR1551048</th>\n",
       "      <th>SRR1551054</th>\n",
       "      <th>SRR1551055</th>\n",
       "      <th>SRR1551068</th>\n",
       "      <th>SRR1551069</th>\n",
       "    </tr>\n",
       "    <tr>\n",
       "      <th>SYMBOL</th>\n",
       "      <th></th>\n",
       "      <th></th>\n",
       "      <th></th>\n",
       "      <th></th>\n",
       "      <th></th>\n",
       "      <th></th>\n",
       "      <th></th>\n",
       "      <th></th>\n",
       "    </tr>\n",
       "  </thead>\n",
       "  <tbody>\n",
       "    <tr>\n",
       "      <th>RPS11</th>\n",
       "      <td>2950</td>\n",
       "      <td>23072</td>\n",
       "      <td>4604</td>\n",
       "      <td>27297</td>\n",
       "      <td>4794</td>\n",
       "      <td>34420</td>\n",
       "      <td>6313</td>\n",
       "      <td>27590</td>\n",
       "    </tr>\n",
       "    <tr>\n",
       "      <th>PNMA1</th>\n",
       "      <td>51</td>\n",
       "      <td>190</td>\n",
       "      <td>79</td>\n",
       "      <td>212</td>\n",
       "      <td>39</td>\n",
       "      <td>162</td>\n",
       "      <td>78</td>\n",
       "      <td>153</td>\n",
       "    </tr>\n",
       "    <tr>\n",
       "      <th>TMEM216</th>\n",
       "      <td>365</td>\n",
       "      <td>162</td>\n",
       "      <td>317</td>\n",
       "      <td>224</td>\n",
       "      <td>192</td>\n",
       "      <td>183</td>\n",
       "      <td>365</td>\n",
       "      <td>123</td>\n",
       "    </tr>\n",
       "    <tr>\n",
       "      <th>TRAF3IP2-AS1</th>\n",
       "      <td>26</td>\n",
       "      <td>40</td>\n",
       "      <td>30</td>\n",
       "      <td>49</td>\n",
       "      <td>52</td>\n",
       "      <td>53</td>\n",
       "      <td>31</td>\n",
       "      <td>29</td>\n",
       "    </tr>\n",
       "    <tr>\n",
       "      <th>ERCC5</th>\n",
       "      <td>251</td>\n",
       "      <td>533</td>\n",
       "      <td>309</td>\n",
       "      <td>522</td>\n",
       "      <td>418</td>\n",
       "      <td>540</td>\n",
       "      <td>409</td>\n",
       "      <td>436</td>\n",
       "    </tr>\n",
       "  </tbody>\n",
       "</table>\n",
       "</div>"
      ],
      "text/plain": [
       "              SRR1550986  SRR1550987  SRR1551047  SRR1551048  SRR1551054  \\\n",
       "SYMBOL                                                                     \n",
       "RPS11               2950       23072        4604       27297        4794   \n",
       "PNMA1                 51         190          79         212          39   \n",
       "TMEM216              365         162         317         224         192   \n",
       "TRAF3IP2-AS1          26          40          30          49          52   \n",
       "ERCC5                251         533         309         522         418   \n",
       "\n",
       "              SRR1551055  SRR1551068  SRR1551069  \n",
       "SYMBOL                                            \n",
       "RPS11              34420        6313       27590  \n",
       "PNMA1                162          78         153  \n",
       "TMEM216              183         365         123  \n",
       "TRAF3IP2-AS1          53          31          29  \n",
       "ERCC5                540         409         436  "
      ]
     },
     "execution_count": 93,
     "metadata": {},
     "output_type": "execute_result"
    }
   ],
   "source": [
    "# Import the example RNA-seq Count Data in ('data/RNAseq_count_table.txt')\n",
    "\n",
    "rna_counts = pd.read_csv('data/RNAseq_count_table.txt', sep = '\\t', index_col = 0)\n",
    "rna_counts.head()\n"
   ]
  },
  {
   "cell_type": "code",
   "execution_count": 94,
   "metadata": {
    "slideshow": {
     "slide_type": "fragment"
    }
   },
   "outputs": [
    {
     "data": {
      "text/html": [
       "<div>\n",
       "<style>\n",
       "    .dataframe thead tr:only-child th {\n",
       "        text-align: right;\n",
       "    }\n",
       "\n",
       "    .dataframe thead th {\n",
       "        text-align: left;\n",
       "    }\n",
       "\n",
       "    .dataframe tbody tr th {\n",
       "        vertical-align: top;\n",
       "    }\n",
       "</style>\n",
       "<table border=\"1\" class=\"dataframe\">\n",
       "  <thead>\n",
       "    <tr style=\"text-align: right;\">\n",
       "      <th></th>\n",
       "      <th>SRR1550986</th>\n",
       "      <th>SRR1550987</th>\n",
       "      <th>SRR1551047</th>\n",
       "      <th>SRR1551048</th>\n",
       "      <th>SRR1551054</th>\n",
       "      <th>SRR1551055</th>\n",
       "      <th>SRR1551068</th>\n",
       "      <th>SRR1551069</th>\n",
       "    </tr>\n",
       "    <tr>\n",
       "      <th>SYMBOL</th>\n",
       "      <th></th>\n",
       "      <th></th>\n",
       "      <th></th>\n",
       "      <th></th>\n",
       "      <th></th>\n",
       "      <th></th>\n",
       "      <th></th>\n",
       "      <th></th>\n",
       "    </tr>\n",
       "  </thead>\n",
       "  <tbody>\n",
       "    <tr>\n",
       "      <th>RPS11</th>\n",
       "      <td>127.914693</td>\n",
       "      <td>880.879456</td>\n",
       "      <td>156.866107</td>\n",
       "      <td>1033.023252</td>\n",
       "      <td>159.333270</td>\n",
       "      <td>1349.522268</td>\n",
       "      <td>205.208699</td>\n",
       "      <td>1199.593017</td>\n",
       "    </tr>\n",
       "    <tr>\n",
       "      <th>PNMA1</th>\n",
       "      <td>2.211407</td>\n",
       "      <td>7.254122</td>\n",
       "      <td>2.691664</td>\n",
       "      <td>8.022894</td>\n",
       "      <td>1.296203</td>\n",
       "      <td>6.351616</td>\n",
       "      <td>2.535447</td>\n",
       "      <td>6.652328</td>\n",
       "    </tr>\n",
       "    <tr>\n",
       "      <th>TMEM216</th>\n",
       "      <td>15.826733</td>\n",
       "      <td>6.185093</td>\n",
       "      <td>10.800729</td>\n",
       "      <td>8.477020</td>\n",
       "      <td>6.381307</td>\n",
       "      <td>7.174973</td>\n",
       "      <td>11.864593</td>\n",
       "      <td>5.347950</td>\n",
       "    </tr>\n",
       "    <tr>\n",
       "      <th>TRAF3IP2-AS1</th>\n",
       "      <td>1.127384</td>\n",
       "      <td>1.527184</td>\n",
       "      <td>1.022151</td>\n",
       "      <td>1.854348</td>\n",
       "      <td>1.728271</td>\n",
       "      <td>2.077998</td>\n",
       "      <td>1.007678</td>\n",
       "      <td>1.260899</td>\n",
       "    </tr>\n",
       "    <tr>\n",
       "      <th>ERCC5</th>\n",
       "      <td>10.883589</td>\n",
       "      <td>20.349720</td>\n",
       "      <td>10.528155</td>\n",
       "      <td>19.754484</td>\n",
       "      <td>13.892638</td>\n",
       "      <td>21.172052</td>\n",
       "      <td>13.294845</td>\n",
       "      <td>18.956961</td>\n",
       "    </tr>\n",
       "  </tbody>\n",
       "</table>\n",
       "</div>"
      ],
      "text/plain": [
       "              SRR1550986  SRR1550987  SRR1551047   SRR1551048  SRR1551054  \\\n",
       "SYMBOL                                                                      \n",
       "RPS11         127.914693  880.879456  156.866107  1033.023252  159.333270   \n",
       "PNMA1           2.211407    7.254122    2.691664     8.022894    1.296203   \n",
       "TMEM216        15.826733    6.185093   10.800729     8.477020    6.381307   \n",
       "TRAF3IP2-AS1    1.127384    1.527184    1.022151     1.854348    1.728271   \n",
       "ERCC5          10.883589   20.349720   10.528155    19.754484   13.892638   \n",
       "\n",
       "               SRR1551055  SRR1551068   SRR1551069  \n",
       "SYMBOL                                              \n",
       "RPS11         1349.522268  205.208699  1199.593017  \n",
       "PNMA1            6.351616    2.535447     6.652328  \n",
       "TMEM216          7.174973   11.864593     5.347950  \n",
       "TRAF3IP2-AS1     2.077998    1.007678     1.260899  \n",
       "ERCC5           21.172052   13.294845    18.956961  "
      ]
     },
     "execution_count": 94,
     "metadata": {},
     "output_type": "execute_result"
    }
   ],
   "source": [
    "# Calculate CPM for each Sample.\n",
    "\n",
    "\n",
    "rna_cpm = rna_counts.divide(rna_counts.sum(axis=0)).multiply(1000000)\n",
    "rna_cpm.head()"
   ]
  },
  {
   "cell_type": "code",
   "execution_count": 95,
   "metadata": {
    "slideshow": {
     "slide_type": "fragment"
    }
   },
   "outputs": [
    {
     "data": {
      "text/plain": [
       "SYMBOL\n",
       "B2M       10402.659199\n",
       "DUSP1      8132.917464\n",
       "MT-CO1     8089.428266\n",
       "S100A9     7722.999601\n",
       "FOS        7507.485039\n",
       "dtype: float64"
      ]
     },
     "execution_count": 95,
     "metadata": {},
     "output_type": "execute_result"
    }
   ],
   "source": [
    "# Which Gene has the highest average CPM?\n",
    "\n",
    "\n",
    "rna_cpm.mean(axis=1).sort_values(ascending=False).head()"
   ]
  },
  {
   "cell_type": "code",
   "execution_count": 96,
   "metadata": {
    "slideshow": {
     "slide_type": "fragment"
    }
   },
   "outputs": [
    {
     "data": {
      "text/html": [
       "<div>\n",
       "<style>\n",
       "    .dataframe thead tr:only-child th {\n",
       "        text-align: right;\n",
       "    }\n",
       "\n",
       "    .dataframe thead th {\n",
       "        text-align: left;\n",
       "    }\n",
       "\n",
       "    .dataframe tbody tr th {\n",
       "        vertical-align: top;\n",
       "    }\n",
       "</style>\n",
       "<table border=\"1\" class=\"dataframe\">\n",
       "  <thead>\n",
       "    <tr style=\"text-align: right;\">\n",
       "      <th></th>\n",
       "      <th>SRR1550986</th>\n",
       "      <th>SRR1550987</th>\n",
       "      <th>SRR1551047</th>\n",
       "      <th>SRR1551048</th>\n",
       "      <th>SRR1551054</th>\n",
       "      <th>SRR1551055</th>\n",
       "      <th>SRR1551068</th>\n",
       "      <th>SRR1551069</th>\n",
       "    </tr>\n",
       "  </thead>\n",
       "  <tbody>\n",
       "    <tr>\n",
       "      <th>SRR1550986</th>\n",
       "      <td>1.000000</td>\n",
       "      <td>0.469091</td>\n",
       "      <td>0.854288</td>\n",
       "      <td>0.498308</td>\n",
       "      <td>0.856927</td>\n",
       "      <td>0.491040</td>\n",
       "      <td>0.978841</td>\n",
       "      <td>0.498509</td>\n",
       "    </tr>\n",
       "    <tr>\n",
       "      <th>SRR1550987</th>\n",
       "      <td>0.469091</td>\n",
       "      <td>1.000000</td>\n",
       "      <td>0.437926</td>\n",
       "      <td>0.963271</td>\n",
       "      <td>0.446212</td>\n",
       "      <td>0.958366</td>\n",
       "      <td>0.491356</td>\n",
       "      <td>0.968587</td>\n",
       "    </tr>\n",
       "    <tr>\n",
       "      <th>SRR1551047</th>\n",
       "      <td>0.854288</td>\n",
       "      <td>0.437926</td>\n",
       "      <td>1.000000</td>\n",
       "      <td>0.469439</td>\n",
       "      <td>0.981212</td>\n",
       "      <td>0.472974</td>\n",
       "      <td>0.847428</td>\n",
       "      <td>0.481002</td>\n",
       "    </tr>\n",
       "    <tr>\n",
       "      <th>SRR1551048</th>\n",
       "      <td>0.498308</td>\n",
       "      <td>0.963271</td>\n",
       "      <td>0.469439</td>\n",
       "      <td>1.000000</td>\n",
       "      <td>0.472654</td>\n",
       "      <td>0.970821</td>\n",
       "      <td>0.531707</td>\n",
       "      <td>0.985303</td>\n",
       "    </tr>\n",
       "    <tr>\n",
       "      <th>SRR1551054</th>\n",
       "      <td>0.856927</td>\n",
       "      <td>0.446212</td>\n",
       "      <td>0.981212</td>\n",
       "      <td>0.472654</td>\n",
       "      <td>1.000000</td>\n",
       "      <td>0.485487</td>\n",
       "      <td>0.854372</td>\n",
       "      <td>0.490735</td>\n",
       "    </tr>\n",
       "    <tr>\n",
       "      <th>SRR1551055</th>\n",
       "      <td>0.491040</td>\n",
       "      <td>0.958366</td>\n",
       "      <td>0.472974</td>\n",
       "      <td>0.970821</td>\n",
       "      <td>0.485487</td>\n",
       "      <td>1.000000</td>\n",
       "      <td>0.526867</td>\n",
       "      <td>0.975907</td>\n",
       "    </tr>\n",
       "    <tr>\n",
       "      <th>SRR1551068</th>\n",
       "      <td>0.978841</td>\n",
       "      <td>0.491356</td>\n",
       "      <td>0.847428</td>\n",
       "      <td>0.531707</td>\n",
       "      <td>0.854372</td>\n",
       "      <td>0.526867</td>\n",
       "      <td>1.000000</td>\n",
       "      <td>0.537949</td>\n",
       "    </tr>\n",
       "    <tr>\n",
       "      <th>SRR1551069</th>\n",
       "      <td>0.498509</td>\n",
       "      <td>0.968587</td>\n",
       "      <td>0.481002</td>\n",
       "      <td>0.985303</td>\n",
       "      <td>0.490735</td>\n",
       "      <td>0.975907</td>\n",
       "      <td>0.537949</td>\n",
       "      <td>1.000000</td>\n",
       "    </tr>\n",
       "  </tbody>\n",
       "</table>\n",
       "</div>"
      ],
      "text/plain": [
       "            SRR1550986  SRR1550987  SRR1551047  SRR1551048  SRR1551054  \\\n",
       "SRR1550986    1.000000    0.469091    0.854288    0.498308    0.856927   \n",
       "SRR1550987    0.469091    1.000000    0.437926    0.963271    0.446212   \n",
       "SRR1551047    0.854288    0.437926    1.000000    0.469439    0.981212   \n",
       "SRR1551048    0.498308    0.963271    0.469439    1.000000    0.472654   \n",
       "SRR1551054    0.856927    0.446212    0.981212    0.472654    1.000000   \n",
       "SRR1551055    0.491040    0.958366    0.472974    0.970821    0.485487   \n",
       "SRR1551068    0.978841    0.491356    0.847428    0.531707    0.854372   \n",
       "SRR1551069    0.498509    0.968587    0.481002    0.985303    0.490735   \n",
       "\n",
       "            SRR1551055  SRR1551068  SRR1551069  \n",
       "SRR1550986    0.491040    0.978841    0.498509  \n",
       "SRR1550987    0.958366    0.491356    0.968587  \n",
       "SRR1551047    0.472974    0.847428    0.481002  \n",
       "SRR1551048    0.970821    0.531707    0.985303  \n",
       "SRR1551054    0.485487    0.854372    0.490735  \n",
       "SRR1551055    1.000000    0.526867    0.975907  \n",
       "SRR1551068    0.526867    1.000000    0.537949  \n",
       "SRR1551069    0.975907    0.537949    1.000000  "
      ]
     },
     "execution_count": 96,
     "metadata": {},
     "output_type": "execute_result"
    }
   ],
   "source": [
    "# What is the Correlation between SRR1550986 SRR1550987?\n",
    "\n",
    "rna_cpm.corr()"
   ]
  }
 ],
 "metadata": {
  "celltoolbar": "Slideshow",
  "kernelspec": {
   "display_name": "Python 3",
   "language": "python",
   "name": "python3"
  },
  "language_info": {
   "codemirror_mode": {
    "name": "ipython",
    "version": 3
   },
   "file_extension": ".py",
   "mimetype": "text/x-python",
   "name": "python",
   "nbconvert_exporter": "python",
   "pygments_lexer": "ipython3",
   "version": "3.6.1"
  }
 },
 "nbformat": 4,
 "nbformat_minor": 2
}
